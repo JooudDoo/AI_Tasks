{
 "cells": [
  {
   "attachments": {},
   "cell_type": "markdown",
   "metadata": {},
   "source": [
    "# Imports\n"
   ]
  },
  {
   "cell_type": "code",
   "execution_count": 12,
   "metadata": {},
   "outputs": [],
   "source": [
    "from os.path import join as pjoin\n",
    "import datetime\n",
    "import os\n",
    "import re\n",
    "\n",
    "import pandas as pd\n",
    "import numpy as np\n",
    "\n",
    "import torch\n",
    "import torch.nn as nn\n",
    "from torch.utils.data import DataLoader, Dataset\n",
    "from torch.optim.lr_scheduler import ReduceLROnPlateau\n",
    "from torch.utils.tensorboard import SummaryWriter\n",
    "\n",
    "from torchmetrics.classification import MulticlassAccuracy, MulticlassPrecision, MulticlassRecall, MulticlassStatScores\n",
    "from torchmetrics.functional.classification.accuracy import _accuracy_reduce\n",
    "\n",
    "import matplotlib.pyplot as plt\n",
    "import matplotlib\n",
    "\n",
    "import torchvision\n",
    "from torchvision import transforms\n",
    "from torchvision.io import read_image\n",
    "\n",
    "from tqdm import tqdm\n",
    "import torchinfo"
   ]
  },
  {
   "attachments": {},
   "cell_type": "markdown",
   "metadata": {},
   "source": [
    "# Константы "
   ]
  },
  {
   "cell_type": "code",
   "execution_count": 13,
   "metadata": {},
   "outputs": [],
   "source": [
    "WEIGHT_SAVER = \"last\" # \"all\" / \"nothing\" / \"last\"\n",
    "epochs = 25\n",
    "NUM_WORKERS = 2\n",
    "\n",
    "batch_size = 128\n",
    "CLASSES = ['abraham_grampa_simpson', 'agnes_skinner', 'apu_nahasapeemapetilon', 'barney_gumble', 'bart_simpson',\n",
    "    'carl_carlson', 'charles_montgomery_burns', 'chief_wiggum', 'cletus_spuckler', 'comic_book_guy', 'disco_stu',\n",
    "    'edna_krabappel', 'fat_tony', 'gil', 'groundskeeper_willie', 'homer_simpson', 'kent_brockman', 'krusty_the_clown', 'lenny_leonard',\n",
    "    'lionel_hutz', 'lisa_simpson', 'maggie_simpson', 'marge_simpson', 'martin_prince', 'mayor_quimby', 'milhouse_van_houten', 'miss_hoover',\n",
    "    'moe_szyslak', 'ned_flanders', 'nelson_muntz', 'otto_mann', 'patty_bouvier', 'principal_skinner', 'professor_john_frink', 'rainier_wolfcastle',\n",
    "    'ralph_wiggum', 'selma_bouvier', 'sideshow_bob', 'sideshow_mel', 'snake_jailbird', 'troy_mcclure', 'waylon_smithers']\n",
    "\n",
    "device = torch.device(\"cuda:0\" if torch.cuda.is_available() else \"cpu\")\n",
    "NUM_CLASSES = len(CLASSES)\n",
    "IMAGE_RESIZE = (64, 64)\n",
    "\n",
    "NORMALIZE_MEAN = (0.5, 0.5, 0.5)\n",
    "NORMALIZE_DEVIATIONS = (0.5, 0.5, 0.5)\n",
    "\n",
    "writer = SummaryWriter(\"runs/simpsons\")"
   ]
  },
  {
   "attachments": {},
   "cell_type": "markdown",
   "metadata": {},
   "source": [
    "# Дополнительные функции для интеграции с TensorBoard"
   ]
  },
  {
   "cell_type": "code",
   "execution_count": 14,
   "metadata": {},
   "outputs": [],
   "source": [
    "def matplotlib_imshow(img, title=None, plt_ax=plt):\n",
    "    img = img.numpy().transpose((1, 2, 0))\n",
    "    mean = np.array(NORMALIZE_MEAN)\n",
    "    std = np.array(NORMALIZE_DEVIATIONS)\n",
    "    img = std * img + mean\n",
    "    plt_ax.imshow(img)\n",
    "    if title is not None:\n",
    "        plt_ax.set_title(title)\n",
    "    plt_ax.grid(False)\n",
    "\n",
    "def images_to_probs(net, images):\n",
    "    output = net(images)\n",
    "    # convert output probabilities to predicted class\n",
    "    preds_tensor = torch.max(output, 1)[1].cpu()\n",
    "    preds = np.squeeze(preds_tensor.numpy())\n",
    "    return preds, [nn.functional.softmax(el, dim=0)[i].item() for i, el in zip(preds, output)]\n",
    "\n",
    "\n",
    "def plot_classes_preds(net, images, labels):\n",
    "    preds, probs = images_to_probs(net, images)\n",
    "    fig = plt.figure(figsize=(12, 8))\n",
    "    for idx in np.arange(4):\n",
    "        ax = fig.add_subplot(1, 4, idx+1, xticks=[], yticks=[])\n",
    "        matplotlib_imshow(images[idx].cpu(), one_channel=True)\n",
    "        ax.set_title(\"{0}, {1:.1f}%\\n(label: {2})\".format(\n",
    "            CLASSES[preds[idx]],\n",
    "            probs[idx] * 100.0,\n",
    "            CLASSES[labels[idx]]),\n",
    "                    color=(\"green\" if preds[idx]==labels[idx].item() else \"red\"))\n",
    "    return fig"
   ]
  },
  {
   "attachments": {},
   "cell_type": "markdown",
   "metadata": {},
   "source": [
    "# Transformers "
   ]
  },
  {
   "cell_type": "code",
   "execution_count": 15,
   "metadata": {},
   "outputs": [],
   "source": [
    "transform = torchvision.transforms.Compose([\n",
    "    # torchvision.transforms.ToPILImage(),\n",
    "    transforms.Resize(IMAGE_RESIZE),\n",
    "    transforms.RandomHorizontalFlip(),\n",
    "    transforms.ToTensor(),\n",
    "    transforms.Normalize(NORMALIZE_MEAN, NORMALIZE_DEVIATIONS),\n",
    "])\n",
    "\n",
    "class LabelTransformer():\n",
    "    def __init__(self, initial_list = CLASSES):\n",
    "        self.initial_list = initial_list\n",
    "    \n",
    "    def __call__(self, val):\n",
    "        if type(val) == str:\n",
    "            return self.toInt(val)\n",
    "        elif type(val) == int or type(val) == np.int64:\n",
    "            return self.toStr(val)\n",
    "        return None\n",
    "\n",
    "    def toInt(self, label : str) -> int:\n",
    "        return np.where(self.initial_list == label)[0][0]\n",
    "    \n",
    "    def toStr(self, ind : int) -> str:\n",
    "        return self.initial_list[ind]"
   ]
  },
  {
   "attachments": {},
   "cell_type": "markdown",
   "metadata": {},
   "source": [
    "# Датасет"
   ]
  },
  {
   "cell_type": "code",
   "execution_count": 16,
   "metadata": {},
   "outputs": [],
   "source": [
    "full_dataset = torchvision.datasets.ImageFolder(root=\"dataset/characters/\", transform=transform)\n",
    "generator=torch.Generator().manual_seed(42)\n",
    "train_dataset, valid_dataset = torch.utils.data.random_split(full_dataset, [0.8, 0.2], generator=generator)\n",
    "if CLASSES != full_dataset.classes:\n",
    "    print(\"Информация о классах обновлена в соответствии с датасетом\")\n",
    "    CLASSES = full_dataset.classes\n",
    "    NUM_CLASSES = len(CLASSES)"
   ]
  },
  {
   "attachments": {},
   "cell_type": "markdown",
   "metadata": {},
   "source": [
    "# DataLoaders"
   ]
  },
  {
   "cell_type": "code",
   "execution_count": 17,
   "metadata": {},
   "outputs": [],
   "source": [
    "train_dataloader = DataLoader(\n",
    "    dataset=train_dataset,\n",
    "    batch_size=batch_size,\n",
    "    shuffle=True,\n",
    "    num_workers=NUM_WORKERS,\n",
    ")\n",
    "valid_dataloader = DataLoader(\n",
    "    dataset=valid_dataset,\n",
    "    batch_size=batch_size,\n",
    "    shuffle=True,\n",
    "    num_workers=NUM_WORKERS,\n",
    ")\n",
    "\n",
    "images, labels = next(iter(train_dataloader))\n",
    "img_grid = torchvision.utils.make_grid(images)\n",
    "writer.add_image('train samples', img_grid)"
   ]
  },
  {
   "attachments": {},
   "cell_type": "markdown",
   "metadata": {},
   "source": [
    "# Модель"
   ]
  },
  {
   "cell_type": "code",
   "execution_count": 18,
   "metadata": {},
   "outputs": [],
   "source": [
    "class Model(nn.Module):\n",
    "    def __init__(self):\n",
    "        super().__init__()\n",
    "        self.conv1 = nn.Sequential(\n",
    "            nn.Conv2d(3, 64, kernel_size=3, padding=1),\n",
    "            nn.BatchNorm2d(64),\n",
    "            nn.ReLU(True)\n",
    "        )\n",
    "\n",
    "        self.conv2 = nn.Sequential(\n",
    "            nn.Conv2d(64, 128, kernel_size=3, padding=1),\n",
    "            nn.BatchNorm2d(128),\n",
    "            nn.ReLU(True),\n",
    "            nn.MaxPool2d(2)\n",
    "        )\n",
    "\n",
    "        # self.shuffle1_v1 = nn.Sequential(\n",
    "        #     nn.Sequential(\n",
    "        #     nn.Conv2d(128, 128, kernel_size=3, padding=1),\n",
    "        #     nn.BatchNorm2d(128),\n",
    "        #     nn.ReLU(True)\n",
    "        # ), nn.Sequential(\n",
    "        #     nn.Conv2d(128, 128, kernel_size=3, padding=1),\n",
    "        #     nn.BatchNorm2d(128),\n",
    "        #     nn.ReLU(True))\n",
    "        # )\n",
    "\n",
    "        self.shuffle1_v2 = nn.Sequential(\n",
    "            nn.Conv2d(128, 512, kernel_size=1),\n",
    "            nn.Conv2d(512, 512, kernel_size=3, groups=512, padding=1),\n",
    "            nn.Conv2d(512, 128, kernel_size=1),\n",
    "            nn.BatchNorm2d(128),\n",
    "            nn.ReLU(True)\n",
    "        )\n",
    "\n",
    "        self.conv3 = nn.Sequential(\n",
    "            nn.Conv2d(128, 256, kernel_size=3, padding=1),\n",
    "            nn.BatchNorm2d(256),\n",
    "            nn.ReLU(True),\n",
    "            nn.MaxPool2d(2)\n",
    "        )\n",
    "\n",
    "        self.conv4 = nn.Sequential(\n",
    "            nn.Conv2d(256, 512, kernel_size=3, padding=1),\n",
    "            nn.BatchNorm2d(512),\n",
    "            nn.ReLU(True),\n",
    "            nn.MaxPool2d(2)\n",
    "        )\n",
    "\n",
    "        # self.shuffle2_v1 = nn.Sequential(nn.Sequential(\n",
    "        #     nn.Conv2d(512, 512, kernel_size=3, padding=1),\n",
    "        #     nn.BatchNorm2d(512),\n",
    "        #     nn.ReLU(True)\n",
    "        # ), nn.Sequential(\n",
    "        #     nn.Conv2d(512, 512, kernel_size=3, padding=1),\n",
    "        #     nn.BatchNorm2d(512),\n",
    "        #     nn.ReLU(True))\n",
    "        # )\n",
    "\n",
    "        self.shuffle2_v2 = nn.Sequential(\n",
    "            nn.Conv2d(512, 2048, 1),\n",
    "            nn.Conv2d(2048, 2048, kernel_size=3, groups=2048, padding=1),\n",
    "            nn.Conv2d(2048, 512, 1),\n",
    "            nn.BatchNorm2d(512),\n",
    "            nn.ReLU(True)\n",
    "        )\n",
    "\n",
    "        self.conv5 = nn.Sequential(\n",
    "            nn.Conv2d(512, 1024, kernel_size=3, padding=1),\n",
    "            nn.BatchNorm2d(1024),\n",
    "            nn.ReLU(True),\n",
    "            nn.MaxPool2d(2)\n",
    "        )\n",
    "\n",
    "        self.res = nn.Sequential(\n",
    "            nn.MaxPool2d(4),\n",
    "            nn.Flatten(),\n",
    "            nn.Linear(1024, 512),\n",
    "            nn.Linear(512, 128),\n",
    "            nn.Linear(128, len(CLASSES)),\n",
    "        )\n",
    "\n",
    "    def forward(self, x):\n",
    "        x = self.conv1(x)\n",
    "        x = self.conv2(x)\n",
    "        x = self.shuffle1_v2(x) + x\n",
    "        x = self.conv3(x)\n",
    "        x = self.conv4(x)\n",
    "        x = self.shuffle2_v2(x) + x\n",
    "        x = self.conv5(x)\n",
    "        x = self.res(x)\n",
    "        return x\n"
   ]
  },
  {
   "attachments": {},
   "cell_type": "markdown",
   "metadata": {},
   "source": [
    "# Оптимизатор, критерий, сеть"
   ]
  },
  {
   "cell_type": "code",
   "execution_count": 19,
   "metadata": {},
   "outputs": [
    {
     "name": "stdout",
     "output_type": "stream",
     "text": [
      "=======================================================================================================================================================================================================================\n",
      "Layer (type (var_name))                  Input Shape               Output Shape              Param #                   Param %                   Kernel Shape              Mult-Adds                 Trainable\n",
      "=======================================================================================================================================================================================================================\n",
      "Model (Model)                            [128, 3, 64, 64]          [128, 42]                 --                             --                   --                        --                        True\n",
      "├─Sequential (conv1)                     [128, 3, 64, 64]          [128, 64, 64, 64]         --                             --                   --                        --                        True\n",
      "│    └─Conv2d (0)                        [128, 3, 64, 64]          [128, 64, 64, 64]         1,792                       0.02%                   [3, 3]                    939,524,096               True\n",
      "│    └─BatchNorm2d (1)                   [128, 64, 64, 64]         [128, 64, 64, 64]         128                         0.00%                   --                        16,384                    True\n",
      "│    └─ReLU (2)                          [128, 64, 64, 64]         [128, 64, 64, 64]         --                             --                   --                        --                        --\n",
      "├─Sequential (conv2)                     [128, 64, 64, 64]         [128, 128, 32, 32]        --                             --                   --                        --                        True\n",
      "│    └─Conv2d (0)                        [128, 64, 64, 64]         [128, 128, 64, 64]        73,856                      0.81%                   [3, 3]                    38,721,814,528            True\n",
      "│    └─BatchNorm2d (1)                   [128, 128, 64, 64]        [128, 128, 64, 64]        256                         0.00%                   --                        32,768                    True\n",
      "│    └─ReLU (2)                          [128, 128, 64, 64]        [128, 128, 64, 64]        --                             --                   --                        --                        --\n",
      "│    └─MaxPool2d (3)                     [128, 128, 64, 64]        [128, 128, 32, 32]        --                             --                   2                         --                        --\n",
      "├─Sequential (shuffle1_v2)               [128, 128, 32, 32]        [128, 128, 32, 32]        --                             --                   --                        --                        True\n",
      "│    └─Conv2d (0)                        [128, 128, 32, 32]        [128, 512, 32, 32]        66,048                      0.72%                   [1, 1]                    8,657,043,456             True\n",
      "│    └─Conv2d (1)                        [128, 512, 32, 32]        [128, 512, 32, 32]        5,120                       0.06%                   [3, 3]                    671,088,640               True\n",
      "│    └─Conv2d (2)                        [128, 512, 32, 32]        [128, 128, 32, 32]        65,664                      0.72%                   [1, 1]                    8,606,711,808             True\n",
      "│    └─BatchNorm2d (3)                   [128, 128, 32, 32]        [128, 128, 32, 32]        256                         0.00%                   --                        32,768                    True\n",
      "│    └─ReLU (4)                          [128, 128, 32, 32]        [128, 128, 32, 32]        --                             --                   --                        --                        --\n",
      "├─Sequential (conv3)                     [128, 128, 32, 32]        [128, 256, 16, 16]        --                             --                   --                        --                        True\n",
      "│    └─Conv2d (0)                        [128, 128, 32, 32]        [128, 256, 32, 32]        295,168                     3.23%                   [3, 3]                    38,688,260,096            True\n",
      "│    └─BatchNorm2d (1)                   [128, 256, 32, 32]        [128, 256, 32, 32]        512                         0.01%                   --                        65,536                    True\n",
      "│    └─ReLU (2)                          [128, 256, 32, 32]        [128, 256, 32, 32]        --                             --                   --                        --                        --\n",
      "│    └─MaxPool2d (3)                     [128, 256, 32, 32]        [128, 256, 16, 16]        --                             --                   2                         --                        --\n",
      "├─Sequential (conv4)                     [128, 256, 16, 16]        [128, 512, 8, 8]          --                             --                   --                        --                        True\n",
      "│    └─Conv2d (0)                        [128, 256, 16, 16]        [128, 512, 16, 16]        1,180,160                  12.93%                   [3, 3]                    38,671,482,880            True\n",
      "│    └─BatchNorm2d (1)                   [128, 512, 16, 16]        [128, 512, 16, 16]        1,024                       0.01%                   --                        131,072                   True\n",
      "│    └─ReLU (2)                          [128, 512, 16, 16]        [128, 512, 16, 16]        --                             --                   --                        --                        --\n",
      "│    └─MaxPool2d (3)                     [128, 512, 16, 16]        [128, 512, 8, 8]          --                             --                   2                         --                        --\n",
      "├─Sequential (shuffle2_v2)               [128, 512, 8, 8]          [128, 512, 8, 8]          --                             --                   --                        --                        True\n",
      "│    └─Conv2d (0)                        [128, 512, 8, 8]          [128, 2048, 8, 8]         1,050,624                  11.51%                   [1, 1]                    8,606,711,808             True\n",
      "│    └─Conv2d (1)                        [128, 2048, 8, 8]         [128, 2048, 8, 8]         20,480                      0.22%                   [3, 3]                    167,772,160               True\n",
      "│    └─Conv2d (2)                        [128, 2048, 8, 8]         [128, 512, 8, 8]          1,049,088                  11.49%                   [1, 1]                    8,594,128,896             True\n",
      "│    └─BatchNorm2d (3)                   [128, 512, 8, 8]          [128, 512, 8, 8]          1,024                       0.01%                   --                        131,072                   True\n",
      "│    └─ReLU (4)                          [128, 512, 8, 8]          [128, 512, 8, 8]          --                             --                   --                        --                        --\n",
      "├─Sequential (conv5)                     [128, 512, 8, 8]          [128, 1024, 4, 4]         --                             --                   --                        --                        True\n",
      "│    └─Conv2d (0)                        [128, 512, 8, 8]          [128, 1024, 8, 8]         4,719,616                  51.70%                   [3, 3]                    38,663,094,272            True\n",
      "│    └─BatchNorm2d (1)                   [128, 1024, 8, 8]         [128, 1024, 8, 8]         2,048                       0.02%                   --                        262,144                   True\n",
      "│    └─ReLU (2)                          [128, 1024, 8, 8]         [128, 1024, 8, 8]         --                             --                   --                        --                        --\n",
      "│    └─MaxPool2d (3)                     [128, 1024, 8, 8]         [128, 1024, 4, 4]         --                             --                   2                         --                        --\n",
      "├─Sequential (res)                       [128, 1024, 4, 4]         [128, 42]                 --                             --                   --                        --                        True\n",
      "│    └─MaxPool2d (0)                     [128, 1024, 4, 4]         [128, 1024, 1, 1]         --                             --                   4                         --                        --\n",
      "│    └─Flatten (1)                       [128, 1024, 1, 1]         [128, 1024]               --                             --                   --                        --                        --\n",
      "│    └─Linear (2)                        [128, 1024]               [128, 512]                524,800                     5.75%                   --                        67,174,400                True\n",
      "│    └─Linear (3)                        [128, 512]                [128, 128]                65,664                      0.72%                   --                        8,404,992                 True\n",
      "│    └─Linear (4)                        [128, 128]                [128, 42]                 5,418                       0.06%                   --                        693,504                   True\n",
      "=======================================================================================================================================================================================================================\n",
      "Total params: 9,128,746\n",
      "Trainable params: 9,128,746\n",
      "Non-trainable params: 0\n",
      "Total mult-adds (G): 191.06\n",
      "=======================================================================================================================================================================================================================\n",
      "Input size (MB): 6.29\n",
      "Forward/backward pass size (MB): 4228.56\n",
      "Params size (MB): 36.51\n",
      "Estimated Total Size (MB): 4271.36\n",
      "=======================================================================================================================================================================================================================\n"
     ]
    }
   ],
   "source": [
    "net = Model()\n",
    "trained = False\n",
    "\n",
    "criterion = nn.CrossEntropyLoss()\n",
    "optimizer = torch.optim.SGD(\n",
    "    params=net.parameters(),\n",
    "    lr=0.01,\n",
    "    momentum=0.9,\n",
    ")\n",
    "\n",
    "writer.add_graph(net, images)\n",
    "\n",
    "net.to(device)\n",
    "print(model_sum := torchinfo.summary(net, input_size=(batch_size, 3, *IMAGE_RESIZE), row_settings=[\"var_names\"], verbose=0, col_names=[\n",
    "      \"input_size\", \"output_size\", \"num_params\", \"params_percent\", \"kernel_size\", \"mult_adds\", \"trainable\"]))\n"
   ]
  },
  {
   "cell_type": "code",
   "execution_count": 20,
   "metadata": {},
   "outputs": [
    {
     "data": {
      "text/plain": [
       "1"
      ]
     },
     "execution_count": 20,
     "metadata": {},
     "output_type": "execute_result"
    }
   ],
   "source": [
    "logLearnFolder = f\"{os.path.abspath('.')}/log [{epochs}] {datetime.datetime.now().replace(microsecond=0)}\"\n",
    "os.makedirs(logLearnFolder)\n",
    "logLearnFileName = f\"{logLearnFolder}/log.txt\"\n",
    "learnLogFile = open(logLearnFileName, 'w', encoding='utf8')\n",
    "learnLogFile.write(str(model_sum))\n",
    "learnLogFile.write('\\n')"
   ]
  },
  {
   "attachments": {},
   "cell_type": "markdown",
   "metadata": {},
   "source": [
    "# Шаги обучения и валидации"
   ]
  },
  {
   "cell_type": "code",
   "execution_count": 21,
   "metadata": {},
   "outputs": [],
   "source": [
    "def train_step(net, dataloader, epoch : int):\n",
    "    net.train()\n",
    "    running_loss = 0.\n",
    "    for images, labels in dataloader:\n",
    "        images = images.to(device)\n",
    "        labels = labels.to(device)\n",
    "\n",
    "        optimizer.zero_grad()\n",
    "\n",
    "        output = net(images)\n",
    "        loss = criterion(output, labels)\n",
    "        loss.backward()\n",
    "        optimizer.step()\n",
    "        running_loss += loss\n",
    "\n",
    "    with torch.no_grad():\n",
    "        train_loss = running_loss / len(train_dataloader)\n",
    "    return train_loss.item()\n",
    "\n",
    "def valid_step(net, dataloader, epoch : int):\n",
    "    net.eval()\n",
    "    acc = MulticlassAccuracy(num_classes=len(CLASSES), average=\"micro\")\n",
    "    recall = MulticlassRecall(num_classes=len(CLASSES), average=\"macro\")\n",
    "    precision = MulticlassPrecision(num_classes=len(CLASSES), average=\"macro\")\n",
    "    acc.to(device)\n",
    "    recall.to(device)\n",
    "    precision.to(device)\n",
    "\n",
    "    running_loss = 0.\n",
    "\n",
    "    with torch.no_grad():\n",
    "        for images, labels in dataloader:\n",
    "            images = images.to(device)\n",
    "            labels = labels.to(device)\n",
    "\n",
    "            output = net(images)\n",
    "\n",
    "            acc.update(output, labels)\n",
    "            recall.update(output, labels)\n",
    "            precision.update(output, labels)\n",
    "\n",
    "            loss = criterion(output, labels)\n",
    "            running_loss += loss\n",
    "\n",
    "        valid_loss = running_loss / len(valid_dataloader)\n",
    "\n",
    "        return valid_loss.item(), acc.compute().item(), recall.compute().item(), precision.compute().item()"
   ]
  },
  {
   "attachments": {},
   "cell_type": "markdown",
   "metadata": {},
   "source": [
    "# Цикл обучения"
   ]
  },
  {
   "cell_type": "code",
   "execution_count": 22,
   "metadata": {},
   "outputs": [
    {
     "name": "stderr",
     "output_type": "stream",
     "text": [
      "acc/rec/prec: 0.88/0.60/0.74  | train/valid loss: 0.2280/0.4455:  20%|██        | 5/25 [02:46<10:58, 32.93s/it]"
     ]
    },
    {
     "name": "stdout",
     "output_type": "stream",
     "text": [
      "Saved weights with acc/rec/prec: 0.88/0.60/0.74 | loss: 0.4455\n"
     ]
    },
    {
     "name": "stderr",
     "output_type": "stream",
     "text": [
      "acc/rec/prec: 0.90/0.69/0.85  | train/valid loss: 0.1612/0.4223:  24%|██▍       | 6/25 [03:19<10:24, 32.87s/it]"
     ]
    },
    {
     "name": "stdout",
     "output_type": "stream",
     "text": [
      "Saved weights with acc/rec/prec: 0.90/0.69/0.85 | loss: 0.4223\n"
     ]
    },
    {
     "name": "stderr",
     "output_type": "stream",
     "text": [
      "acc/rec/prec: 0.92/0.84/0.83  | train/valid loss: 0.0522/0.4048:  40%|████      | 10/25 [05:30<08:10, 32.67s/it]"
     ]
    },
    {
     "name": "stdout",
     "output_type": "stream",
     "text": [
      "Saved weights with acc/rec/prec: 0.92/0.84/0.83 | loss: 0.4048\n"
     ]
    }
   ],
   "source": [
    "best_loss = 10000\n",
    "trained = True\n",
    "for epoch in (pbar := tqdm(range(epochs))):\n",
    "    train_loss = train_step(net, train_dataloader, epoch)\n",
    "    valid_loss, valid_acc, valid_recall, valid_precision = valid_step(net, valid_dataloader, epoch)\n",
    "    # scheduler.step(valid_loss)\n",
    "\n",
    "    if WEIGHT_SAVER != \"nothing\" and valid_loss < best_loss and epoch > 3:\n",
    "        best_loss = valid_loss\n",
    "\n",
    "        print(f\"Saved weights with acc/rec/prec: {valid_acc:.2f}/{valid_recall:.2f}/{valid_precision:.2f} | loss: {valid_loss:.4f}\")\n",
    "        if learnLogFile is not None:\n",
    "            learnLogFile.write(\n",
    "                f\"Saved weights with acc/rec/prec: {valid_acc:.2f}/{valid_recall:.2f}/{valid_precision:.2f}\")\n",
    "            learnLogFile.write(f\"| loss: {valid_loss:.4f}\\n\")\n",
    "\n",
    "        if WEIGHT_SAVER == \"all\":\n",
    "            torch.save(net.state_dict(),\n",
    "                       f\"{logLearnFolder}/weights_{epoch}.pth\")\n",
    "        elif WEIGHT_SAVER == \"last\":\n",
    "            torch.save(net.state_dict(),\n",
    "                       f\"{logLearnFolder}/weights_last.pth\")\n",
    "\n",
    "    writer.add_scalar('valid loss', valid_loss, epoch)\n",
    "    writer.add_scalar('train loss', train_loss, epoch)\n",
    "    \n",
    "    writer.add_scalar('validation accuracy', valid_acc, epoch)\n",
    "    writer.add_scalar('validation recall', valid_recall, epoch)\n",
    "    writer.add_scalar('validation precision', valid_precision, epoch)\n",
    "\n",
    "    for i, param_group in enumerate(optimizer.param_groups):\n",
    "        writer.add_scalar('learning rate', float(param_group['lr']), epoch)\n",
    "\n",
    "    pbar.set_description(\n",
    "        f'acc/rec/prec: {valid_acc:.2f}/{valid_recall:.2f}/{valid_precision:.2f}  | train/valid loss: {train_loss:.4f}/{valid_loss:.4f}')\n"
   ]
  },
  {
   "attachments": {},
   "cell_type": "markdown",
   "metadata": {},
   "source": [
    "# Проверка на тестовом датасете"
   ]
  },
  {
   "attachments": {},
   "cell_type": "markdown",
   "metadata": {},
   "source": [
    "## Transform + dataset class"
   ]
  },
  {
   "cell_type": "code",
   "execution_count": null,
   "metadata": {},
   "outputs": [],
   "source": [
    "transform = torchvision.transforms.Compose([\n",
    "    transforms.ToPILImage(),\n",
    "    transforms.Resize(IMAGE_RESIZE),\n",
    "    transforms.ToTensor(),\n",
    "    transforms.Normalize(NORMALIZE_MEAN, NORMALIZE_DEVIATIONS),\n",
    "])\n",
    "\n",
    "\n",
    "class SimpsonsTestDataset(Dataset):\n",
    "    def __init__(self, img_dir, transform=None, label_transform=None):\n",
    "        self.files = []\n",
    "        for r, dir, files in os.walk(img_dir):\n",
    "            self.files += files\n",
    "        self.calculateClasses()\n",
    "        self.img_dir = img_dir\n",
    "        self.transform = transform\n",
    "        self.label_transform = label_transform\n",
    "\n",
    "    def extractName(self, s):\n",
    "        se = re.search(r\"[a-zA-Z_]+[^\\d]?\", s)\n",
    "        return se.group(0)[:-1]\n",
    "\n",
    "    def calculateClasses(self):\n",
    "        self.s = set()\n",
    "        for i in self.files:\n",
    "            self.s.add(self.extractName(i))\n",
    "        return list(self.s)\n",
    "\n",
    "    @property\n",
    "    def classes(self):\n",
    "        return list(self.s)\n",
    "\n",
    "    def __len__(self):\n",
    "        return len(self.files)\n",
    "\n",
    "    def __getitem__(self, index):\n",
    "        img_path = pjoin(self.img_dir, self.files[index])\n",
    "        image = read_image(img_path)\n",
    "        label = self.extractName(self.files[index])\n",
    "\n",
    "        if self.transform:\n",
    "            image = self.transform(image)\n",
    "        if self.label_transform:\n",
    "            label = self.label_transform(label)\n",
    "        return image, label\n"
   ]
  },
  {
   "attachments": {},
   "cell_type": "markdown",
   "metadata": {},
   "source": [
    "## Проверка "
   ]
  },
  {
   "cell_type": "code",
   "execution_count": null,
   "metadata": {},
   "outputs": [],
   "source": [
    "test_dataset = SimpsonsTestDataset(\n",
    "    \"dataset/kaggle_simpson_testset\", transform=transform, label_transform=LabelTransformer())\n",
    "\n",
    "test_dataloader = DataLoader(\n",
    "    dataset=test_dataset,\n",
    "    batch_size=batch_size,\n",
    "    shuffle=True,\n",
    "    num_workers=0,\n",
    ")\n",
    "\n",
    "if not trained:\n",
    "    model = Model()\n",
    "    model.to(device)\n",
    "    model.load_state_dict(torch.load(\n",
    "        \"/AI_Tasks/01_Task/w.pth\"))\n",
    "\n",
    "\n",
    "def test_metrics_per_class(model, testloader, dataset=None):\n",
    "    classes = CLASSES\n",
    "    classes_amount = len(CLASSES)\n",
    "    stats = MulticlassStatScores(num_classes=classes_amount, average=None)\n",
    "    stats.to(device)\n",
    "\n",
    "    with torch.no_grad():\n",
    "        model.eval()\n",
    "        for images, labels in testloader:\n",
    "            images = images.to(device)\n",
    "            labels = labels.to(device)\n",
    "\n",
    "            outputs = model(images)\n",
    "            stats.update(outputs, labels)\n",
    "\n",
    "    tp, fp, tn, fn = stats._final_state()\n",
    "    def saveDivide(x, y): return torch.nan_to_num(x/y)\n",
    "\n",
    "    accuracy = saveDivide((tp+tn), (tp+fp+tn+fn))\n",
    "    recall = saveDivide(tp, (tp+fn))\n",
    "    precision = saveDivide(tp, (tp+fp))\n",
    "    accuracy_per_class = {classname: val.item()\n",
    "                          for classname, val in zip(classes, accuracy)}\n",
    "    recall_per_class = {classname: val.item()\n",
    "                        for classname, val in zip(classes, recall)}\n",
    "    precision_per_class = {classname: val.item()\n",
    "                           for classname, val in zip(classes, precision)}\n",
    "    try:\n",
    "        classes_amount_correct = len(dataset.classes)\n",
    "        classes_correct = dataset.classes\n",
    "        print(\"Recalculate metrics with correct dataset classes\")\n",
    "\n",
    "        def slice_dict(dict, sliceBy): return {\n",
    "            k: dict[k] for k in dict if k in sliceBy}\n",
    "        accuracy_per_class = slice_dict(accuracy_per_class, classes_correct)\n",
    "        recall_per_class = slice_dict(recall_per_class, classes_correct)\n",
    "        precision_per_class = slice_dict(precision_per_class, classes_correct)\n",
    "\n",
    "        total_rec = sum(recall)/classes_amount_correct\n",
    "        total_prec = sum(precision)/classes_amount_correct\n",
    "    except:\n",
    "        total_rec = sum(recall)/classes_amount\n",
    "        total_prec = sum(precision)/classes_amount\n",
    "    total_acc = sum(accuracy)/classes_amount\n",
    "    return {\"accuracy\": accuracy_per_class, \"recall\": recall_per_class, \"precision\": precision_per_class}, {\"accuracy\": total_acc, \"recall\": total_rec, \"precision\": total_prec}\n",
    "\n",
    "\n",
    "metrics_per_class, metrics_total = test_metrics_per_class(\n",
    "    model, test_dataloader, test_dataset)\n",
    "print(metrics_per_class)\n"
   ]
  },
  {
   "cell_type": "code",
   "execution_count": null,
   "metadata": {},
   "outputs": [],
   "source": [
    "fig, axes = plt.subplots(1, kernel_size=3, figsize=(25,8))\n",
    "\n",
    "for (metricName, mVal), ax in zip(metrics_per_class.items(), axes):\n",
    "    plt.sca(ax)\n",
    "    plt.bar(mVal.keys(), mVal.values())\n",
    "    plt.title(metricName)\n",
    "    plt.grid(axis='y')\n",
    "    plt.xticks(rotation=90)\n",
    "    plt.yticks(ticks=np.arange(0, 1.01, 0.05))\n",
    "\n",
    "writer.add_figure('Test dataset metrics', fig)\n",
    "writer.add_scalar(\"Test accuracy\", metrics_total['accuracy'])\n",
    "writer.add_scalar(\"Test recall\", metrics_total['recall'])\n",
    "writer.add_scalar(\"Test precision\", metrics_total['precision'])\n",
    "\n",
    "writer.close()"
   ]
  }
 ],
 "metadata": {
  "kernelspec": {
   "display_name": "AIenv",
   "language": "python",
   "name": "python3"
  },
  "language_info": {
   "codemirror_mode": {
    "name": "ipython",
    "version": 3
   },
   "file_extension": ".py",
   "mimetype": "text/x-python",
   "name": "python",
   "nbconvert_exporter": "python",
   "pygments_lexer": "ipython3",
   "version": "3.9.16"
  },
  "orig_nbformat": 4
 },
 "nbformat": 4,
 "nbformat_minor": 2
}
