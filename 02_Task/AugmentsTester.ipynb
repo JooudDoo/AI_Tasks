{
 "cells": [
  {
   "cell_type": "code",
   "execution_count": 337,
   "metadata": {},
   "outputs": [],
   "source": [
    "from os.path import join as pjoin\n",
    "import os\n",
    "\n",
    "import cv2\n",
    "\n",
    "import matplotlib.pyplot as plt\n",
    "\n",
    "import numpy as np\n",
    "\n",
    "from torch.utils.data import DataLoader, Dataset\n",
    "import albumentations as A\n",
    "\n",
    "from additonFunc import create_image_plot, uniqufy_path"
   ]
  },
  {
   "cell_type": "code",
   "execution_count": 338,
   "metadata": {},
   "outputs": [],
   "source": [
    "NORMALIZE_MEAN_IMG =  [0.4295, 0.4325, 0.3961]       #[0.485, 0.456, 0.406]\n",
    "NORMALIZE_DEVIATIONS_IMG =  [0.2267, 0.2192, 0.2240] #[0.229, 0.224, 0.225]\n",
    "\n",
    "DATASET_DIR ='dataset/tiff'\n",
    "TEST_SET    = (pjoin(DATASET_DIR, \"test_non_cutted\"), pjoin(DATASET_DIR, \"test_labels_non_cutted\"))\n",
    "\n",
    "aug_test_path = uniqufy_path(f\"AugmentsTests/aug_tests\")\n",
    "if not os.path.exists(aug_test_path):\n",
    "        os.makedirs(aug_test_path)"
   ]
  },
  {
   "cell_type": "code",
   "execution_count": 339,
   "metadata": {},
   "outputs": [],
   "source": [
    "# transform = A.Compose(\n",
    "#     [\n",
    "#         A.OneOf(\n",
    "#             [\n",
    "#                 A.HorizontalFlip(p=1),\n",
    "#                 A.VerticalFlip(p=1),\n",
    "#                 A.RandomRotate90(p=1),\n",
    "#             ],\n",
    "#             p=0.75,\n",
    "#         ),\n",
    "#         A.Normalize(mean=NORMALIZE_MEAN_IMG, std=NORMALIZE_DEVIATIONS_IMG, always_apply=True),\n",
    "#         A.RGBShift(0, (-50, -10), 0, p=1),\n",
    "#         A.RandomBrightnessContrast(brightness_limit=0.1, contrast_limit=(0, 0.2), p=1),\n",
    "#     ]\n",
    "# )\n",
    "\n",
    "based_transform= A.Compose(\n",
    "    [\n",
    "        A.Normalize(mean=NORMALIZE_MEAN_IMG, std=NORMALIZE_DEVIATIONS_IMG, always_apply=True)\n",
    "    ]\n",
    ")\n",
    "\n",
    "transform= A.Compose(\n",
    "    [\n",
    "        A.Normalize(mean=NORMALIZE_MEAN_IMG, std=NORMALIZE_DEVIATIONS_IMG, always_apply=True),\n",
    "        A.RGBShift(0, (0.1, 0.3), (0.1, 0.3), p=1),\n",
    "        A.RandomBrightnessContrast(brightness_limit=(0.1), contrast_limit=(0, 0.3), p=1),\n",
    "    ]\n",
    ")"
   ]
  },
  {
   "cell_type": "code",
   "execution_count": 340,
   "metadata": {},
   "outputs": [],
   "source": [
    "class RoadsDataset(Dataset):\n",
    "    def __init__(self, values_dir, labels_dir, class_rgb_values=None, transform=None, readyToNetwork=None):\n",
    "        self.values_dir = values_dir\n",
    "        self.labels_dir = labels_dir\n",
    "        self.class_rgb_values = class_rgb_values\n",
    "        self.images = [pjoin(self.values_dir, filename) for filename in sorted(os.listdir(self.values_dir))]\n",
    "        self.labels = [pjoin(self.labels_dir, filename) for filename in sorted(os.listdir(self.labels_dir))]\n",
    "        self.transform = transform\n",
    "        self.readyToNetwork = readyToNetwork\n",
    "\n",
    "    def __len__(self):\n",
    "        return len(self.images)\n",
    "\n",
    "    def __getitem__(self, index):\n",
    "        image_path = self.images[index]\n",
    "        label_path = self.labels[index]\n",
    "\n",
    "        image = cv2.cvtColor(cv2.imread(image_path), cv2.COLOR_BGR2RGB)\n",
    "        label = cv2.cvtColor(cv2.imread(label_path), cv2.COLOR_BGR2RGB)\n",
    "\n",
    "        if self.transform:\n",
    "            sample = self.transform(image=image, mask=label)\n",
    "            image, label = sample['image'], sample['mask']\n",
    "        if self.readyToNetwork:\n",
    "            sample = self.readyToNetwork(image=image, mask=label)\n",
    "            image, label = sample['image'], sample['mask']\n",
    "        return image, label"
   ]
  },
  {
   "cell_type": "code",
   "execution_count": 341,
   "metadata": {},
   "outputs": [],
   "source": [
    "based_dataset = RoadsDataset(*TEST_SET, transform=based_transform)\n",
    "sample_dataset = RoadsDataset(*TEST_SET, transform=transform)"
   ]
  },
  {
   "cell_type": "code",
   "execution_count": 342,
   "metadata": {},
   "outputs": [],
   "source": [
    "for id, ((bImg, _), (img, _)) in enumerate(zip(based_dataset, sample_dataset)):\n",
    "    fig = create_image_plot(figsize = (12,6), image = img, origin = bImg)\n",
    "    fig.savefig(pjoin(aug_test_path, f\"image_{id:03}\"))\n",
    "    fig.clear()\n",
    "    plt.close(fig)\n",
    "    if(id == 15):\n",
    "        break"
   ]
  }
 ],
 "metadata": {
  "kernelspec": {
   "display_name": "AIenv",
   "language": "python",
   "name": "python3"
  },
  "language_info": {
   "codemirror_mode": {
    "name": "ipython",
    "version": 3
   },
   "file_extension": ".py",
   "mimetype": "text/x-python",
   "name": "python",
   "nbconvert_exporter": "python",
   "pygments_lexer": "ipython3",
   "version": "3.10.10"
  },
  "orig_nbformat": 4
 },
 "nbformat": 4,
 "nbformat_minor": 2
}
