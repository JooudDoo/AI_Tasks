{
 "cells": [
  {
   "cell_type": "code",
   "execution_count": 7,
   "metadata": {},
   "outputs": [],
   "source": [
    "import numpy as np\n",
    "\n",
    "from torch.utils.data import DataLoader\n",
    "from torchvision import datasets\n",
    "\n",
    "from tqdm.notebook import tqdm\n",
    "\n",
    "import MST"
   ]
  },
  {
   "cell_type": "code",
   "execution_count": 8,
   "metadata": {},
   "outputs": [],
   "source": [
    "BATCH_SIZE = 32\n",
    "NUM_WORKERS = 4\n",
    "\n",
    "EPOCHS = 10"
   ]
  },
  {
   "cell_type": "code",
   "execution_count": 9,
   "metadata": {},
   "outputs": [],
   "source": [
    "transform = np.array\n",
    "\n",
    "train_dataset = datasets.MNIST(\n",
    "    root='datasets',\n",
    "    train=True,\n",
    "    transform=transform,\n",
    "    download=True\n",
    ")\n",
    "\n",
    "test_dataset = datasets.MNIST(\n",
    "    root='datasets',\n",
    "    train=False,\n",
    "    transform=transform,\n",
    "    download=True\n",
    ")\n",
    "\n",
    "train_dataloader = DataLoader(\n",
    "    dataset=train_dataset,\n",
    "    batch_size=BATCH_SIZE,\n",
    "    shuffle=True,\n",
    "    num_workers=NUM_WORKERS,\n",
    ")\n",
    "\n",
    "test_dataloader = DataLoader(\n",
    "    dataset=test_dataset,\n",
    "    batch_size=BATCH_SIZE,\n",
    "    num_workers=NUM_WORKERS,\n",
    ")"
   ]
  },
  {
   "cell_type": "code",
   "execution_count": 10,
   "metadata": {},
   "outputs": [
    {
     "name": "stdout",
     "output_type": "stream",
     "text": [
      "MyNet:\n",
      " └── net_blocks: \n",
      "\t └── Sequential: \n",
      "\t\t └── FullyConnectedLayer: Trainable(True)\n",
      "\t\t └── Sigmoid: Trainable(False)\n",
      "\n",
      "\t └── Sequential: \n",
      "\t\t └── FullyConnectedLayer: Trainable(True)\n",
      "\t\t └── Sigmoid: Trainable(False)\n",
      "\n",
      "\t └── Sequential: \n",
      "\t\t └── FullyConnectedLayer: Trainable(True)\n",
      "\t\t └── Sigmoid: Trainable(False)\n",
      "\n",
      "\n",
      "\n"
     ]
    }
   ],
   "source": [
    "class MyNet(MST.BasicModule):\n",
    "    def __init__(self):\n",
    "        super().__init__()\n",
    "\n",
    "        self.net_blocks = MST.Sequential(\n",
    "                MST.Sequential(\n",
    "                            MST.FullyConnectedLayer(28*28, 100),\n",
    "                            MST.Sigmoid()\n",
    "                        ),\n",
    "\n",
    "                MST.Sequential(\n",
    "                            MST.FullyConnectedLayer(100, 50),\n",
    "                            MST.Sigmoid(),\n",
    "                        ),\n",
    "\n",
    "                MST.Sequential(\n",
    "                            MST.FullyConnectedLayer(50, 10),\n",
    "                            MST.Sigmoid()\n",
    "                        ),\n",
    "        )\n",
    "\n",
    "        # self.fc1 = MST.Sequential(\n",
    "        #     MST.FullyConnectedLayer(28*28, 100),\n",
    "        #     MST.Sigmoid()\n",
    "        # )\n",
    "\n",
    "        # self.fc2 = MST.Sequential(\n",
    "        #     MST.FullyConnectedLayer(100, 50),\n",
    "        #     MST.Sigmoid(),\n",
    "        # )\n",
    "\n",
    "        # self.fcRes = MST.Sequential(\n",
    "        #     MST.FullyConnectedLayer(50, 10),\n",
    "        #     MST.Sigmoid()\n",
    "        # )\n",
    "\n",
    "    def forward(self, x):\n",
    "        x = x.reshape(-1, 28*28)\n",
    "        x = self.net_blocks(x)\n",
    "        # x = self.fc1(x)\n",
    "        # x = self.fc2(x)\n",
    "        # x = self.fcRes(x)\n",
    "        return x\n",
    "\n",
    "    def backward(self, dOut):\n",
    "        dN = self.net_blocks.backward(dOut)\n",
    "        # dN = self.fcRes.backward(dOut)\n",
    "        # dN = self.fc2.backward(dN)\n",
    "        # dN = self.fc1.backward(dN)\n",
    "        return dN\n",
    "\n",
    "CELoss = MST.CrossEntropyLoss()\n",
    "net = MyNet()\n",
    "\n",
    "optimizer = MST.SGD(net, lr=0.01, momentum=0.9)\n",
    "print(net)"
   ]
  },
  {
   "cell_type": "code",
   "execution_count": 11,
   "metadata": {},
   "outputs": [],
   "source": [
    "def train(net : MST.BasicModule, optimizer : MST.SGD, criterion : MST.BasicModule):\n",
    "    running_loss = 0\n",
    "    for images, labels in train_dataloader:\n",
    "        labels = np.array(labels)\n",
    "        \n",
    "        output = net(images)\n",
    "\n",
    "        loss = criterion(output, labels)\n",
    "        net.backward(criterion.backward())\n",
    "        optimizer.step()\n",
    "\n",
    "        running_loss += loss\n",
    "    train_loss = running_loss / len(train_dataloader)\n",
    "    return train_loss\n",
    "\n",
    "\n",
    "def valid(net : MST.BasicModule, criterion : MST.BasicModule):\n",
    "    running_loss = 0\n",
    "    correct_total = 0\n",
    "    for images, labels in test_dataloader:\n",
    "        labels = np.array(labels)\n",
    "\n",
    "        output = net(images)\n",
    "\n",
    "        loss = criterion(output, labels)\n",
    "        running_loss += loss\n",
    "\n",
    "        pred = np.argmax(output, axis=1, keepdims=True)\n",
    "        correct_total += np.sum(pred[pred==labels.reshape(-1, 1)].astype(bool))\n",
    "        \n",
    "    precison = correct_total / len(test_dataloader.dataset)\n",
    "    valid_loss = running_loss / len(test_dataloader)\n",
    "    return valid_loss, precison"
   ]
  },
  {
   "cell_type": "code",
   "execution_count": 12,
   "metadata": {},
   "outputs": [
    {
     "data": {
      "application/vnd.jupyter.widget-view+json": {
       "model_id": "81c467ef07e84370af3876fe704a3352",
       "version_major": 2,
       "version_minor": 0
      },
      "text/plain": [
       "  0%|          | 0/10 [00:00<?, ?it/s]"
      ]
     },
     "metadata": {},
     "output_type": "display_data"
    },
    {
     "name": "stdout",
     "output_type": "stream",
     "text": [
      "[0] train/valid loss: 4.9759/4.6841 prec: 0.2358\n",
      "[1] train/valid loss: 4.1218/3.5788 prec: 0.3752\n",
      "[2] train/valid loss: 3.2781/2.9405 prec: 0.4556\n",
      "[3] train/valid loss: 2.7434/2.5175 prec: 0.4777\n",
      "[4] train/valid loss: 2.4140/2.3110 prec: 0.5005\n",
      "[5] train/valid loss: 2.2685/2.1476 prec: 0.5253\n",
      "[6] train/valid loss: 2.1209/2.0084 prec: 0.5356\n",
      "[7] train/valid loss: 1.8629/1.6100 prec: 0.5780\n",
      "[8] train/valid loss: 1.4851/1.3500 prec: 0.6137\n",
      "[9] train/valid loss: 1.3214/1.2441 prec: 0.6287\n"
     ]
    }
   ],
   "source": [
    "for epoch in (pbar := tqdm(range(EPOCHS))):\n",
    "    train_loss = train(net, optimizer, CELoss)\n",
    "    valid_loss, prec = valid(net, CELoss)\n",
    "\n",
    "    print(f\"[{epoch}] train/valid loss: {train_loss:.4f}/{valid_loss:.4f} prec: {prec:.4f}\")\n",
    "    pbar.set_description(f\"train/valid loss: {train_loss:.4f}/{valid_loss:.4f} prec: {prec:.4f}\")"
   ]
  }
 ],
 "metadata": {
  "kernelspec": {
   "display_name": "AIenv",
   "language": "python",
   "name": "python3"
  },
  "language_info": {
   "codemirror_mode": {
    "name": "ipython",
    "version": 3
   },
   "file_extension": ".py",
   "mimetype": "text/x-python",
   "name": "python",
   "nbconvert_exporter": "python",
   "pygments_lexer": "ipython3",
   "version": "3.10.10"
  },
  "orig_nbformat": 4
 },
 "nbformat": 4,
 "nbformat_minor": 2
}
