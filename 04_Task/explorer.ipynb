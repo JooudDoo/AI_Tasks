{
 "cells": [
  {
   "cell_type": "code",
   "execution_count": 19,
   "metadata": {},
   "outputs": [],
   "source": [
    "import numpy as np\n",
    "\n",
    "from torch.utils.data import DataLoader\n",
    "from torchvision import datasets\n",
    "\n",
    "from tqdm.notebook import tqdm\n",
    "\n",
    "import MST"
   ]
  },
  {
   "cell_type": "code",
   "execution_count": 20,
   "metadata": {},
   "outputs": [],
   "source": [
    "BATCH_SIZE = 32\n",
    "NUM_WORKERS = 4\n",
    "\n",
    "EPOCHS = 5"
   ]
  },
  {
   "cell_type": "code",
   "execution_count": 21,
   "metadata": {},
   "outputs": [],
   "source": [
    "transform = np.array\n",
    "\n",
    "train_dataset = datasets.MNIST(\n",
    "    root='datasets',\n",
    "    train=True,\n",
    "    transform=transform,\n",
    "    download=True\n",
    ")\n",
    "\n",
    "test_dataset = datasets.MNIST(\n",
    "    root='datasets',\n",
    "    train=False,\n",
    "    transform=transform,\n",
    "    download=True\n",
    ")\n",
    "\n",
    "train_dataloader = DataLoader(\n",
    "    dataset=train_dataset,\n",
    "    batch_size=BATCH_SIZE,\n",
    "    shuffle=True,\n",
    "    num_workers=NUM_WORKERS,\n",
    ")\n",
    "\n",
    "test_dataloader = DataLoader(\n",
    "    dataset=test_dataset,\n",
    "    batch_size=BATCH_SIZE,\n",
    "    shuffle=True,\n",
    "    num_workers=NUM_WORKERS,\n",
    ")"
   ]
  },
  {
   "cell_type": "code",
   "execution_count": 22,
   "metadata": {},
   "outputs": [],
   "source": [
    "class MyNet(MST.BasicModule):\n",
    "    def __init__(self):\n",
    "        super().__init__()\n",
    "\n",
    "        self.l1 = MST.FullyConnectedLayer(28*28, 100)\n",
    "        self.a1 = MST.Sigmoid()\n",
    "        self.l2 = MST.FullyConnectedLayer(100, 50)\n",
    "        self.a2 = MST.Sigmoid()\n",
    "        self.l3 = MST.FullyConnectedLayer(50, 10)\n",
    "        self.a3 = MST.Sigmoid()\n",
    "\n",
    "    def forward(self, x):\n",
    "        x = x.reshape(-1, 28*28)\n",
    "        x = self.l1(x)\n",
    "        x = self.a1(x)\n",
    "        x = self.l2(x)\n",
    "        x = self.a2(x)\n",
    "        x = self.l3(x)\n",
    "        x = self.a3(x)\n",
    "        return x\n",
    "\n",
    "    def backward(self, dOut):\n",
    "        dN = self.a3.backward(dOut)\n",
    "        dN = self.l3.backward(dN)\n",
    "        dN = self.a2.backward(dN)\n",
    "        dN = self.l2.backward(dN)\n",
    "        dN = self.a1.backward(dN)\n",
    "        dN = self.l1.backward(dN)\n",
    "\n",
    "CELoss = MST.CrossEntropyLoss()\n",
    "net = MyNet()\n",
    "optimizer = MST.SGD(net, 0.01)"
   ]
  },
  {
   "cell_type": "code",
   "execution_count": 23,
   "metadata": {},
   "outputs": [],
   "source": [
    "def train(net : MST.BasicModule, optimizer : MST.SGD, criterion : MST.BasicModule):\n",
    "    running_loss = 0\n",
    "    for images, labels in train_dataloader:\n",
    "        labels = np.array(labels)\n",
    "        \n",
    "        output = net(images)\n",
    "\n",
    "        loss = criterion(output, labels)\n",
    "        net.backward(criterion.backward())\n",
    "        optimizer.step()\n",
    "\n",
    "        running_loss += loss\n",
    "    train_loss = running_loss / len(train_dataloader)\n",
    "    return train_loss\n",
    "\n",
    "\n",
    "def valid(net : MST.BasicModule, criterion : MST.BasicModule):\n",
    "    running_loss = 0\n",
    "    correct_total = 0\n",
    "    for images, labels in test_dataloader:\n",
    "        labels = np.array(labels)\n",
    "\n",
    "        output = net(images)\n",
    "\n",
    "        loss = criterion(output, labels)\n",
    "        running_loss += loss\n",
    "\n",
    "        pred = np.argmax(output, axis=1, keepdims=True)\n",
    "        correct_total += np.sum(pred[pred==labels.reshape(-1, 1)].astype(bool))\n",
    "        \n",
    "    precison = correct_total / len(test_dataloader.dataset)\n",
    "    valid_loss = running_loss / len(test_dataloader)\n",
    "    return valid_loss, precison"
   ]
  },
  {
   "cell_type": "code",
   "execution_count": 24,
   "metadata": {},
   "outputs": [
    {
     "data": {
      "application/vnd.jupyter.widget-view+json": {
       "model_id": "8c5685570d2246709405ffe39c2ec192",
       "version_major": 2,
       "version_minor": 0
      },
      "text/plain": [
       "  0%|          | 0/5 [00:00<?, ?it/s]"
      ]
     },
     "metadata": {},
     "output_type": "display_data"
    },
    {
     "name": "stdout",
     "output_type": "stream",
     "text": [
      "[0] train/valid loss: 1.5593/1.3619 prec: 0.5398\n",
      "[1] train/valid loss: 1.2392/1.1621 prec: 0.6032\n",
      "[2] train/valid loss: 1.0886/1.0306 prec: 0.6467\n",
      "[3] train/valid loss: 0.9939/0.9375 prec: 0.6763\n",
      "[4] train/valid loss: 0.9256/0.9055 prec: 0.6868\n"
     ]
    }
   ],
   "source": [
    "for epoch in (pbar := tqdm(range(EPOCHS))):\n",
    "    train_loss = train(net, optimizer, CELoss)\n",
    "    valid_loss, prec = valid(net, CELoss)\n",
    "    print(f\"[{epoch}] train/valid loss: {train_loss:.4f}/{valid_loss:.4f} prec: {prec:.4f}\")\n",
    "    pbar.set_description(f\"train/valid loss: {train_loss:.4f}/{valid_loss:.4f} prec: {prec:.4f}\")"
   ]
  }
 ],
 "metadata": {
  "kernelspec": {
   "display_name": "AIenv",
   "language": "python",
   "name": "python3"
  },
  "language_info": {
   "codemirror_mode": {
    "name": "ipython",
    "version": 3
   },
   "file_extension": ".py",
   "mimetype": "text/x-python",
   "name": "python",
   "nbconvert_exporter": "python",
   "pygments_lexer": "ipython3",
   "version": "3.10.10"
  },
  "orig_nbformat": 4
 },
 "nbformat": 4,
 "nbformat_minor": 2
}
