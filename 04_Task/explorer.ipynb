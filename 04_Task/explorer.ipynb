{
 "cells": [
  {
   "cell_type": "code",
   "execution_count": 1,
   "metadata": {},
   "outputs": [],
   "source": [
    "import numpy as np\n",
    "\n",
    "from torch.utils.data import DataLoader\n",
    "from torchvision import datasets\n",
    "\n",
    "from tqdm.notebook import tqdm\n",
    "\n",
    "import MST\n",
    "import MST.InplaceModules as inM"
   ]
  },
  {
   "cell_type": "code",
   "execution_count": 1,
   "metadata": {},
   "outputs": [
    {
     "data": {
      "text/plain": [
       "array([[ 0.43095488, -0.14423474,  0.37419715, -0.06260999,  0.12700179,\n",
       "        -0.38888735, -0.0428579 ,  0.14123613,  0.19244917, -0.08312352,\n",
       "        -0.51688182,  0.28878473,  0.24633452, -0.23573606,  0.38494035,\n",
       "        -0.24128614],\n",
       "       [ 0.29749376, -0.20664859, -0.15795565,  0.00358781,  0.6831667 ,\n",
       "        -0.05067858,  0.527228  , -0.22254494,  0.22933472, -0.57695594,\n",
       "         0.38768555, -0.00072871, -0.63100801, -0.29671234,  0.16632323,\n",
       "        -0.3617285 ]])"
      ]
     },
     "execution_count": 1,
     "metadata": {},
     "output_type": "execute_result"
    }
   ],
   "source": [
    "import MST.Addition.Functions as F\n",
    "F.ReLU_weight_init__((2, 16))"
   ]
  },
  {
   "cell_type": "code",
   "execution_count": 2,
   "metadata": {},
   "outputs": [],
   "source": [
    "BATCH_SIZE = 32\n",
    "NUM_WORKERS = 0\n",
    "\n",
    "EPOCHS = 10"
   ]
  },
  {
   "cell_type": "code",
   "execution_count": 3,
   "metadata": {},
   "outputs": [],
   "source": [
    "def to_np_arr(a):\n",
    "    return MST.MDT_ARRAY(a) / 255"
   ]
  },
  {
   "cell_type": "code",
   "execution_count": 4,
   "metadata": {},
   "outputs": [],
   "source": [
    "transform = to_np_arr\n",
    "\n",
    "train_dataset = datasets.MNIST(\n",
    "    root='datasets',\n",
    "    train=True,\n",
    "    transform=transform,\n",
    "    download=True\n",
    ")\n",
    "\n",
    "test_dataset = datasets.MNIST(\n",
    "    root='datasets',\n",
    "    train=False,\n",
    "    transform=transform,\n",
    "    download=True\n",
    ")\n",
    "\n",
    "train_dataloader = DataLoader(\n",
    "    dataset=train_dataset,\n",
    "    batch_size=BATCH_SIZE,\n",
    "    shuffle=True,\n",
    "    num_workers=NUM_WORKERS,\n",
    ")\n",
    "\n",
    "test_dataloader = DataLoader(\n",
    "    dataset=test_dataset,\n",
    "    batch_size=BATCH_SIZE,\n",
    "    num_workers=NUM_WORKERS,\n",
    ")"
   ]
  },
  {
   "cell_type": "code",
   "execution_count": 5,
   "metadata": {},
   "outputs": [
    {
     "name": "stdout",
     "output_type": "stream",
     "text": [
      "MyNet:\n",
      " └── fc1: Trainable(True)\n",
      " └── fc2: Trainable(True)\n",
      " └── fc3: Trainable(True)\n",
      "\n"
     ]
    }
   ],
   "source": [
    "class MyNet(MST.BasicModule):\n",
    "    def __init__(self):\n",
    "        super().__init__()\n",
    "        self.fc1 = MST.FullyConnectedLayer(28*28, 100)\n",
    "        self.fc2 = MST.FullyConnectedLayer(100, 50)\n",
    "        self.fc3 = MST.FullyConnectedLayer(50, 10)\n",
    "\n",
    "    def forward(self, x):\n",
    "        x = inM.Flatten(x)\n",
    "        x = self.fc1(x)\n",
    "        x = inM.ReLU(x)\n",
    "        x = self.fc2(x)\n",
    "        x = inM.ReLU(x)\n",
    "        x = self.fc3(x)\n",
    "        x = inM.ReLU(x)\n",
    "        return x\n",
    "\n",
    "\n",
    "CELoss = MST.CrossEntropyLoss() # MSE | \n",
    "net = MyNet()\n",
    "\n",
    "optimizer = MST.SGD(net, lr=0.01, momentum=0.9)\n",
    "print(net)"
   ]
  },
  {
   "cell_type": "code",
   "execution_count": 6,
   "metadata": {},
   "outputs": [],
   "source": [
    "def train(net : MST.BasicModule, optimizer : MST.SGD, criterion : MST.BasicModule):\n",
    "    running_loss = 0\n",
    "    for ind, (images, labels) in enumerate(train_dataloader):\n",
    "        images = MST.MDT_ARRAY(images)\n",
    "        labels = MST.MDT_ARRAY(labels)\n",
    "\n",
    "        output = net(images)\n",
    "        loss = criterion(output, labels)\n",
    "        \n",
    "        loss.backward()\n",
    "        optimizer.step()\n",
    "\n",
    "        running_loss += loss\n",
    "    train_loss = running_loss / len(train_dataloader)\n",
    "    return train_loss\n",
    "\n",
    "\n",
    "def valid(net : MST.BasicModule, criterion : MST.BasicModule):\n",
    "    running_loss = 0\n",
    "    correct_total = 0\n",
    "    for images, labels in test_dataloader:\n",
    "        images = MST.MDT_ARRAY(images)\n",
    "        labels = MST.MDT_ARRAY(labels)\n",
    "\n",
    "        output = net(images)\n",
    "\n",
    "        loss = criterion(output, labels)\n",
    "        running_loss += loss\n",
    "\n",
    "        pred = np.argmax(output, axis=1, keepdims=True)\n",
    "        correct_total += np.sum(pred[pred==labels.reshape(-1, 1)].astype(bool))\n",
    "        \n",
    "    rec = correct_total / len(test_dataloader.dataset)\n",
    "    valid_loss = running_loss / len(test_dataloader)\n",
    "    return valid_loss, rec"
   ]
  },
  {
   "cell_type": "code",
   "execution_count": 7,
   "metadata": {},
   "outputs": [
    {
     "data": {
      "application/vnd.jupyter.widget-view+json": {
       "model_id": "a24ff30c3d534bf5aee542020b67fe5c",
       "version_major": 2,
       "version_minor": 0
      },
      "text/plain": [
       "  0%|          | 0/10 [00:00<?, ?it/s]"
      ]
     },
     "metadata": {},
     "output_type": "display_data"
    },
    {
     "ename": "RuntimeError",
     "evalue": "It is necessary to backward first to perform optimization",
     "output_type": "error",
     "traceback": [
      "\u001b[0;31m---------------------------------------------------------------------------\u001b[0m",
      "\u001b[0;31mRuntimeError\u001b[0m                              Traceback (most recent call last)",
      "Cell \u001b[0;32mIn[7], line 2\u001b[0m\n\u001b[1;32m      1\u001b[0m \u001b[39mfor\u001b[39;00m epoch \u001b[39min\u001b[39;00m (pbar \u001b[39m:=\u001b[39m tqdm(\u001b[39mrange\u001b[39m(EPOCHS))):\n\u001b[0;32m----> 2\u001b[0m     train_loss \u001b[39m=\u001b[39m train(net, optimizer, CELoss)\n\u001b[1;32m      3\u001b[0m     valid_loss, rec \u001b[39m=\u001b[39m valid(net, CELoss)\n\u001b[1;32m      5\u001b[0m     \u001b[39mprint\u001b[39m(\u001b[39mf\u001b[39m\u001b[39m\"\u001b[39m\u001b[39m[\u001b[39m\u001b[39m{\u001b[39;00mepoch\u001b[39m}\u001b[39;00m\u001b[39m] train/valid loss: \u001b[39m\u001b[39m{\u001b[39;00mtrain_loss\u001b[39m:\u001b[39;00m\u001b[39m.4f\u001b[39m\u001b[39m}\u001b[39;00m\u001b[39m/\u001b[39m\u001b[39m{\u001b[39;00mvalid_loss\u001b[39m:\u001b[39;00m\u001b[39m.4f\u001b[39m\u001b[39m}\u001b[39;00m\u001b[39m rec: \u001b[39m\u001b[39m{\u001b[39;00mrec\u001b[39m:\u001b[39;00m\u001b[39m.4f\u001b[39m\u001b[39m}\u001b[39;00m\u001b[39m\"\u001b[39m)\n",
      "Cell \u001b[0;32mIn[6], line 9\u001b[0m, in \u001b[0;36mtrain\u001b[0;34m(net, optimizer, criterion)\u001b[0m\n\u001b[1;32m      7\u001b[0m output \u001b[39m=\u001b[39m net(images)\n\u001b[1;32m      8\u001b[0m loss \u001b[39m=\u001b[39m criterion(output, labels)\n\u001b[0;32m----> 9\u001b[0m optimizer\u001b[39m.\u001b[39;49mstep()\n\u001b[1;32m     11\u001b[0m loss\u001b[39m.\u001b[39mbackward()\n\u001b[1;32m     13\u001b[0m running_loss \u001b[39m+\u001b[39m\u001b[39m=\u001b[39m loss\n",
      "File \u001b[0;32m~/progs/AI_Tasks/04_Task/MST/Optimizers.py:78\u001b[0m, in \u001b[0;36mSGD.step\u001b[0;34m(self)\u001b[0m\n\u001b[1;32m     76\u001b[0m     \u001b[39mraise\u001b[39;00m \u001b[39mRuntimeError\u001b[39;00m(\u001b[39mf\u001b[39m\u001b[39m\"\u001b[39m\u001b[39mYou should run forward function like __call__ on \u001b[39m\u001b[39m{\u001b[39;00mmodule\u001b[39m.\u001b[39m\u001b[39m__class__\u001b[39m\u001b[39m.\u001b[39m\u001b[39m__name__\u001b[39m\u001b[39m}\u001b[39;00m\u001b[39m\"\u001b[39m)\n\u001b[1;32m     77\u001b[0m \u001b[39melse\u001b[39;00m:\n\u001b[0;32m---> 78\u001b[0m     \u001b[39mraise\u001b[39;00m \u001b[39mRuntimeError\u001b[39;00m(\u001b[39mf\u001b[39m\u001b[39m\"\u001b[39m\u001b[39mIt is necessary to backward first to perform optimization\u001b[39m\u001b[39m\"\u001b[39m)\n",
      "\u001b[0;31mRuntimeError\u001b[0m: It is necessary to backward first to perform optimization"
     ]
    }
   ],
   "source": [
    "for epoch in (pbar := tqdm(range(EPOCHS))):\n",
    "    train_loss = train(net, optimizer, CELoss)\n",
    "    valid_loss, rec = valid(net, CELoss)\n",
    "\n",
    "    print(f\"[{epoch}] train/valid loss: {train_loss:.4f}/{valid_loss:.4f} rec: {rec:.4f}\")\n",
    "    pbar.set_description(f\"train/valid loss: {train_loss:.4f}/{valid_loss:.4f} rec: {rec:.4f}\")"
   ]
  }
 ],
 "metadata": {
  "kernelspec": {
   "display_name": "AIenv",
   "language": "python",
   "name": "python3"
  },
  "language_info": {
   "codemirror_mode": {
    "name": "ipython",
    "version": 3
   },
   "file_extension": ".py",
   "mimetype": "text/x-python",
   "name": "python",
   "nbconvert_exporter": "python",
   "pygments_lexer": "ipython3",
   "version": "3.10.10"
  },
  "orig_nbformat": 4
 },
 "nbformat": 4,
 "nbformat_minor": 2
}
