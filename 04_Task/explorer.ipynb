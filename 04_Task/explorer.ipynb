{
 "cells": [
  {
   "cell_type": "code",
   "execution_count": 1,
   "metadata": {},
   "outputs": [],
   "source": [
    "import numpy as np\n",
    "\n",
    "from torch.utils.data import DataLoader\n",
    "from torchvision import datasets\n",
    "\n",
    "from tqdm.notebook import tqdm\n",
    "\n",
    "import MST"
   ]
  },
  {
   "cell_type": "code",
   "execution_count": 2,
   "metadata": {},
   "outputs": [],
   "source": [
    "BATCH_SIZE = 32\n",
    "NUM_WORKERS = 0\n",
    "\n",
    "EPOCHS = 10"
   ]
  },
  {
   "cell_type": "code",
   "execution_count": 3,
   "metadata": {},
   "outputs": [],
   "source": [
    "transform = np.array\n",
    "\n",
    "train_dataset = datasets.MNIST(\n",
    "    root='datasets',\n",
    "    train=True,\n",
    "    transform=transform,\n",
    "    download=True\n",
    ")\n",
    "\n",
    "test_dataset = datasets.MNIST(\n",
    "    root='datasets',\n",
    "    train=False,\n",
    "    transform=transform,\n",
    "    download=True\n",
    ")\n",
    "\n",
    "train_dataloader = DataLoader(\n",
    "    dataset=train_dataset,\n",
    "    batch_size=BATCH_SIZE,\n",
    "    shuffle=True,\n",
    "    num_workers=NUM_WORKERS,\n",
    ")\n",
    "\n",
    "test_dataloader = DataLoader(\n",
    "    dataset=test_dataset,\n",
    "    batch_size=BATCH_SIZE,\n",
    "    num_workers=NUM_WORKERS,\n",
    ")"
   ]
  },
  {
   "cell_type": "code",
   "execution_count": 4,
   "metadata": {},
   "outputs": [
    {
     "name": "stdout",
     "output_type": "stream",
     "text": [
      "MyNet:\n",
      "└── net_blocks: \n",
      "\t └── FullyConnectedLayer: Trainable(True)\n",
      "\t └── Relu: Trainable(False)\n",
      "\t └── Sequential: \n",
      "\t\t └── FullyConnectedLayer: Trainable(True)\n",
      "\t\t └── Relu: Trainable(False)\n",
      "\n",
      "\t └── Sequential: \n",
      "\t\t └── FullyConnectedLayer: Trainable(True)\n",
      "\t\t └── Relu: Trainable(False)\n"
     ]
    }
   ],
   "source": [
    "class MyNet(MST.BasicModule):\n",
    "    def __init__(self):\n",
    "        super().__init__()\n",
    "\n",
    "        self.net_blocks = MST.Sequential(\n",
    "\n",
    "                MST.FullyConnectedLayer(28*28, 100),\n",
    "                MST.Relu(),\n",
    "\n",
    "                MST.Sequential(\n",
    "                            MST.FullyConnectedLayer(100, 50),\n",
    "                            MST.Relu(),\n",
    "                        ),\n",
    "\n",
    "                MST.Sequential(\n",
    "                            MST.FullyConnectedLayer(50, 10),\n",
    "                            MST.Relu()\n",
    "                        ),\n",
    "        )\n",
    "\n",
    "    def forward(self, x):\n",
    "        x = x.reshape(-1, 28*28)\n",
    "        x = self.net_blocks(x)\n",
    "        return x\n",
    "\n",
    "    def backward(self, dOut):\n",
    "        dN = self.net_blocks.backward(dOut)\n",
    "        return dN\n",
    "\n",
    "CELoss = MST.CrossEntropyLoss()\n",
    "net = MyNet()\n",
    "\n",
    "optimizer = MST.SGD(net, lr=0.001, momentum=0.9)\n",
    "print(net)"
   ]
  },
  {
   "cell_type": "code",
   "execution_count": 5,
   "metadata": {},
   "outputs": [],
   "source": [
    "def train(net : MST.BasicModule, optimizer : MST.SGD, criterion : MST.BasicModule):\n",
    "    running_loss = 0\n",
    "    for images, labels in train_dataloader:\n",
    "        labels = np.array(labels)\n",
    "        \n",
    "        output = net(images)\n",
    "\n",
    "        loss = criterion(output, labels)\n",
    "        net.backward(criterion.backward())\n",
    "        optimizer.step()\n",
    "\n",
    "        running_loss += loss\n",
    "    train_loss = running_loss / len(train_dataloader)\n",
    "    return train_loss\n",
    "\n",
    "\n",
    "def valid(net : MST.BasicModule, criterion : MST.BasicModule):\n",
    "    running_loss = 0\n",
    "    correct_total = 0\n",
    "    for images, labels in test_dataloader:\n",
    "        labels = np.array(labels)\n",
    "\n",
    "        output = net(images)\n",
    "\n",
    "        loss = criterion(output, labels)\n",
    "        running_loss += loss\n",
    "\n",
    "        pred = np.argmax(output, axis=1, keepdims=True)\n",
    "        correct_total += np.sum(pred[pred==labels.reshape(-1, 1)].astype(bool))\n",
    "        \n",
    "    precison = correct_total / len(test_dataloader.dataset)\n",
    "    valid_loss = running_loss / len(test_dataloader)\n",
    "    return valid_loss, precison"
   ]
  },
  {
   "cell_type": "code",
   "execution_count": 6,
   "metadata": {},
   "outputs": [
    {
     "data": {
      "application/vnd.jupyter.widget-view+json": {
       "model_id": "0d8a85a6c79f4f9dbeb958a599f9e2c6",
       "version_major": 2,
       "version_minor": 0
      },
      "text/plain": [
       "  0%|          | 0/10 [00:00<?, ?it/s]"
      ]
     },
     "metadata": {},
     "output_type": "display_data"
    },
    {
     "name": "stdout",
     "output_type": "stream",
     "text": [
      "[0] train/valid loss: 2.3583/2.3025 prec: 0.1028\n",
      "[1] train/valid loss: 2.3025/2.3026 prec: 0.1028\n",
      "[2] train/valid loss: 2.3025/2.3025 prec: 0.1028\n",
      "[3] train/valid loss: 2.3025/2.3026 prec: 0.1028\n"
     ]
    },
    {
     "ename": "KeyboardInterrupt",
     "evalue": "",
     "output_type": "error",
     "traceback": [
      "\u001b[0;31m---------------------------------------------------------------------------\u001b[0m",
      "\u001b[0;31mKeyboardInterrupt\u001b[0m                         Traceback (most recent call last)",
      "Cell \u001b[0;32mIn[6], line 2\u001b[0m\n\u001b[1;32m      1\u001b[0m \u001b[39mfor\u001b[39;00m epoch \u001b[39min\u001b[39;00m (pbar \u001b[39m:=\u001b[39m tqdm(\u001b[39mrange\u001b[39m(EPOCHS))):\n\u001b[0;32m----> 2\u001b[0m     train_loss \u001b[39m=\u001b[39m train(net, optimizer, CELoss)\n\u001b[1;32m      3\u001b[0m     valid_loss, prec \u001b[39m=\u001b[39m valid(net, CELoss)\n\u001b[1;32m      5\u001b[0m     \u001b[39mprint\u001b[39m(\u001b[39mf\u001b[39m\u001b[39m\"\u001b[39m\u001b[39m[\u001b[39m\u001b[39m{\u001b[39;00mepoch\u001b[39m}\u001b[39;00m\u001b[39m] train/valid loss: \u001b[39m\u001b[39m{\u001b[39;00mtrain_loss\u001b[39m:\u001b[39;00m\u001b[39m.4f\u001b[39m\u001b[39m}\u001b[39;00m\u001b[39m/\u001b[39m\u001b[39m{\u001b[39;00mvalid_loss\u001b[39m:\u001b[39;00m\u001b[39m.4f\u001b[39m\u001b[39m}\u001b[39;00m\u001b[39m prec: \u001b[39m\u001b[39m{\u001b[39;00mprec\u001b[39m:\u001b[39;00m\u001b[39m.4f\u001b[39m\u001b[39m}\u001b[39;00m\u001b[39m\"\u001b[39m)\n",
      "Cell \u001b[0;32mIn[5], line 9\u001b[0m, in \u001b[0;36mtrain\u001b[0;34m(net, optimizer, criterion)\u001b[0m\n\u001b[1;32m      6\u001b[0m output \u001b[39m=\u001b[39m net(images)\n\u001b[1;32m      8\u001b[0m loss \u001b[39m=\u001b[39m criterion(output, labels)\n\u001b[0;32m----> 9\u001b[0m net\u001b[39m.\u001b[39;49mbackward(criterion\u001b[39m.\u001b[39;49mbackward())\n\u001b[1;32m     10\u001b[0m optimizer\u001b[39m.\u001b[39mstep()\n\u001b[1;32m     12\u001b[0m running_loss \u001b[39m+\u001b[39m\u001b[39m=\u001b[39m loss\n",
      "Cell \u001b[0;32mIn[4], line 27\u001b[0m, in \u001b[0;36mMyNet.backward\u001b[0;34m(self, dOut)\u001b[0m\n\u001b[1;32m     26\u001b[0m \u001b[39mdef\u001b[39;00m \u001b[39mbackward\u001b[39m(\u001b[39mself\u001b[39m, dOut):\n\u001b[0;32m---> 27\u001b[0m     dN \u001b[39m=\u001b[39m \u001b[39mself\u001b[39;49m\u001b[39m.\u001b[39;49mnet_blocks\u001b[39m.\u001b[39;49mbackward(dOut)\n\u001b[1;32m     28\u001b[0m     \u001b[39mreturn\u001b[39;00m dN\n",
      "File \u001b[0;32m~/progs/AI_Tasks/04_Task/MST/BasicModules.py:120\u001b[0m, in \u001b[0;36mSequential.backward\u001b[0;34m(self, dOut)\u001b[0m\n\u001b[1;32m    118\u001b[0m dN \u001b[39m=\u001b[39m dOut\n\u001b[1;32m    119\u001b[0m \u001b[39mfor\u001b[39;00m module \u001b[39min\u001b[39;00m \u001b[39mlist\u001b[39m(\u001b[39mself\u001b[39m\u001b[39m.\u001b[39mget_modules()\u001b[39m.\u001b[39mvalues())[::\u001b[39m-\u001b[39m\u001b[39m1\u001b[39m]:\n\u001b[0;32m--> 120\u001b[0m     dN \u001b[39m=\u001b[39m module\u001b[39m.\u001b[39;49mbackward(dN)\n\u001b[1;32m    121\u001b[0m \u001b[39mreturn\u001b[39;00m dN\n",
      "File \u001b[0;32m~/progs/AI_Tasks/04_Task/MST/Layers.py:84\u001b[0m, in \u001b[0;36mFullyConnectedLayer.backward\u001b[0;34m(self, dOut)\u001b[0m\n\u001b[1;32m     78\u001b[0m \u001b[39mself\u001b[39m\u001b[39m.\u001b[39m_dbias \u001b[39m=\u001b[39m np\u001b[39m.\u001b[39msum(dOut, axis\u001b[39m=\u001b[39m\u001b[39m0\u001b[39m, keepdims\u001b[39m=\u001b[39m\u001b[39mTrue\u001b[39;00m)\n\u001b[1;32m     80\u001b[0m \u001b[39m\u001b[39m\u001b[39m\"\"\"\u001b[39;00m\n\u001b[1;32m     81\u001b[0m \u001b[39m    Производная по входным будет считаться аналогично производной для весов\u001b[39;00m\n\u001b[1;32m     82\u001b[0m \u001b[39m    Т.к. между ними происходит операция матричного умножения\u001b[39;00m\n\u001b[1;32m     83\u001b[0m \u001b[39m\"\"\"\u001b[39;00m\n\u001b[0;32m---> 84\u001b[0m \u001b[39mself\u001b[39m\u001b[39m.\u001b[39m_dinX \u001b[39m=\u001b[39m np\u001b[39m.\u001b[39;49mdot(dOut, \u001b[39mself\u001b[39;49m\u001b[39m.\u001b[39;49m_w\u001b[39m.\u001b[39;49mT)\n\u001b[1;32m     85\u001b[0m \u001b[39mreturn\u001b[39;00m \u001b[39mself\u001b[39m\u001b[39m.\u001b[39m_dinX\n",
      "File \u001b[0;32m<__array_function__ internals>:200\u001b[0m, in \u001b[0;36mdot\u001b[0;34m(*args, **kwargs)\u001b[0m\n",
      "\u001b[0;31mKeyboardInterrupt\u001b[0m: "
     ]
    }
   ],
   "source": [
    "for epoch in (pbar := tqdm(range(EPOCHS))):\n",
    "    train_loss = train(net, optimizer, CELoss)\n",
    "    valid_loss, prec = valid(net, CELoss)\n",
    "\n",
    "    print(f\"[{epoch}] train/valid loss: {train_loss:.4f}/{valid_loss:.4f} prec: {prec:.4f}\")\n",
    "    pbar.set_description(f\"train/valid loss: {train_loss:.4f}/{valid_loss:.4f} prec: {prec:.4f}\")"
   ]
  }
 ],
 "metadata": {
  "kernelspec": {
   "display_name": "AIenv",
   "language": "python",
   "name": "python3"
  },
  "language_info": {
   "codemirror_mode": {
    "name": "ipython",
    "version": 3
   },
   "file_extension": ".py",
   "mimetype": "text/x-python",
   "name": "python",
   "nbconvert_exporter": "python",
   "pygments_lexer": "ipython3",
   "version": "3.10.10"
  },
  "orig_nbformat": 4
 },
 "nbformat": 4,
 "nbformat_minor": 2
}
