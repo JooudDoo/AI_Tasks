{
 "cells": [
  {
   "cell_type": "code",
   "execution_count": 1,
   "metadata": {},
   "outputs": [],
   "source": [
    "import numpy as np\n",
    "\n",
    "from torch.utils.data import DataLoader\n",
    "from torchvision import datasets\n",
    "\n",
    "from tqdm.notebook import tqdm\n",
    "\n",
    "import MST"
   ]
  },
  {
   "cell_type": "code",
   "execution_count": 2,
   "metadata": {},
   "outputs": [],
   "source": [
    "BATCH_SIZE = 32\n",
    "NUM_WORKERS = 0\n",
    "\n",
    "EPOCHS = 10"
   ]
  },
  {
   "cell_type": "code",
   "execution_count": 3,
   "metadata": {},
   "outputs": [],
   "source": [
    "def to_np_arr(a):\n",
    "    return np.array(a) / 255"
   ]
  },
  {
   "cell_type": "code",
   "execution_count": 4,
   "metadata": {},
   "outputs": [],
   "source": [
    "transform = to_np_arr\n",
    "\n",
    "train_dataset = datasets.MNIST(\n",
    "    root='datasets',\n",
    "    train=True,\n",
    "    transform=transform,\n",
    "    download=True\n",
    ")\n",
    "\n",
    "test_dataset = datasets.MNIST(\n",
    "    root='datasets',\n",
    "    train=False,\n",
    "    transform=transform,\n",
    "    download=True\n",
    ")\n",
    "\n",
    "train_dataloader = DataLoader(\n",
    "    dataset=train_dataset,\n",
    "    batch_size=BATCH_SIZE,\n",
    "    shuffle=True,\n",
    "    num_workers=NUM_WORKERS,\n",
    ")\n",
    "\n",
    "test_dataloader = DataLoader(\n",
    "    dataset=test_dataset,\n",
    "    batch_size=BATCH_SIZE,\n",
    "    num_workers=NUM_WORKERS,\n",
    ")"
   ]
  },
  {
   "cell_type": "code",
   "execution_count": 5,
   "metadata": {},
   "outputs": [
    {
     "name": "stdout",
     "output_type": "stream",
     "text": [
      "MyNet:\n",
      "└── net_blocks: \n",
      "\t └── FullyConnectedLayer: Trainable(True)\n",
      "\t └── ReLu: Trainable(False)\n",
      "\t └── FullyConnectedLayer: Trainable(True)\n",
      "\t └── ReLu: Trainable(False)\n",
      "\t └── FullyConnectedLayer: Trainable(True)\n",
      "\t └── ReLu: Trainable(False)\n"
     ]
    }
   ],
   "source": [
    "class MyNet(MST.BasicModule):\n",
    "    def __init__(self):\n",
    "        super().__init__()\n",
    "# caiming ke \n",
    "# resnet \n",
    "        self.net_blocks = MST.Sequential(\n",
    "\n",
    "            MST.FullyConnectedLayer(28*28, 100),\n",
    "            MST.ReLu(),\n",
    "\n",
    "            MST.FullyConnectedLayer(100, 50),\n",
    "            MST.ReLu(),\n",
    "\n",
    "            MST.FullyConnectedLayer(50, 10),\n",
    "            MST.ReLu()\n",
    "        )\n",
    "\n",
    "    def forward(self, x):\n",
    "        x = x.reshape(-1, 28*28)\n",
    "        x = self.net_blocks(x)\n",
    "        return x\n",
    "\n",
    "    def backward(self, dOut):\n",
    "        dN = self.net_blocks.backward(dOut)\n",
    "        return dN\n",
    "\n",
    "CELoss = MST.CrossEntropyLoss()\n",
    "net = MyNet()\n",
    "\n",
    "optimizer = MST.SGD(net, lr=0.01, momentum=0.9)\n",
    "print(net)"
   ]
  },
  {
   "cell_type": "code",
   "execution_count": 6,
   "metadata": {},
   "outputs": [],
   "source": [
    "def train(net : MST.BasicModule, optimizer : MST.SGD, criterion : MST.BasicModule):\n",
    "    running_loss = 0\n",
    "    for ind, (images, labels) in enumerate(train_dataloader):\n",
    "        images = np.array(images)\n",
    "        labels = np.array(labels)\n",
    "        \n",
    "        output = net(images)\n",
    "        loss = criterion(output, labels)\n",
    "        net.backward(criterion.backward())\n",
    "        optimizer.step()\n",
    "\n",
    "        running_loss += loss\n",
    "    train_loss = running_loss / len(train_dataloader)\n",
    "    return train_loss\n",
    "\n",
    "\n",
    "def valid(net : MST.BasicModule, criterion : MST.BasicModule):\n",
    "    running_loss = 0\n",
    "    correct_total = 0\n",
    "    for images, labels in test_dataloader:\n",
    "        labels = np.array(labels)\n",
    "\n",
    "        output = net(images)\n",
    "\n",
    "        loss = criterion(output, labels)\n",
    "        running_loss += loss\n",
    "\n",
    "        pred = np.argmax(output, axis=1, keepdims=True)\n",
    "        correct_total += np.sum(pred[pred==labels.reshape(-1, 1)].astype(bool))\n",
    "        \n",
    "    rec = correct_total / len(test_dataloader.dataset)\n",
    "    valid_loss = running_loss / len(test_dataloader)\n",
    "    return valid_loss, rec"
   ]
  },
  {
   "cell_type": "code",
   "execution_count": 7,
   "metadata": {},
   "outputs": [
    {
     "data": {
      "application/vnd.jupyter.widget-view+json": {
       "model_id": "de9755521b074418b99251a6f5d00b6b",
       "version_major": 2,
       "version_minor": 0
      },
      "text/plain": [
       "  0%|          | 0/10 [00:00<?, ?it/s]"
      ]
     },
     "metadata": {},
     "output_type": "display_data"
    },
    {
     "name": "stdout",
     "output_type": "stream",
     "text": [
      "[0] train/valid loss: 0.5215/0.1872 rec: 0.8511\n",
      "[1] train/valid loss: 0.1469/0.1279 rec: 0.8663\n",
      "[2] train/valid loss: 0.1014/0.1218 rec: 0.8685\n",
      "[3] train/valid loss: 0.0790/0.1164 rec: 0.8694\n",
      "[4] train/valid loss: 0.0653/0.1035 rec: 0.8729\n",
      "[5] train/valid loss: 0.0521/0.1109 rec: 0.8728\n",
      "[6] train/valid loss: 0.0433/0.1028 rec: 0.8737\n",
      "[7] train/valid loss: 0.0351/0.1003 rec: 0.8758\n",
      "[8] train/valid loss: 0.0290/0.1082 rec: 0.8740\n",
      "[9] train/valid loss: 0.0238/0.0993 rec: 0.8775\n"
     ]
    }
   ],
   "source": [
    "for epoch in (pbar := tqdm(range(EPOCHS))):\n",
    "    train_loss = train(net, optimizer, CELoss)\n",
    "    valid_loss, rec = valid(net, CELoss)\n",
    "\n",
    "    print(f\"[{epoch}] train/valid loss: {train_loss:.4f}/{valid_loss:.4f} rec: {rec:.4f}\")\n",
    "    pbar.set_description(f\"train/valid loss: {train_loss:.4f}/{valid_loss:.4f} rec: {rec:.4f}\")"
   ]
  }
 ],
 "metadata": {
  "kernelspec": {
   "display_name": "AIenv",
   "language": "python",
   "name": "python3"
  },
  "language_info": {
   "codemirror_mode": {
    "name": "ipython",
    "version": 3
   },
   "file_extension": ".py",
   "mimetype": "text/x-python",
   "name": "python",
   "nbconvert_exporter": "python",
   "pygments_lexer": "ipython3",
   "version": "3.10.10"
  },
  "orig_nbformat": 4
 },
 "nbformat": 4,
 "nbformat_minor": 2
}
