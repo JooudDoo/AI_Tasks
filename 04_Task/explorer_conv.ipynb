{
 "cells": [
  {
   "cell_type": "code",
   "execution_count": 1,
   "metadata": {},
   "outputs": [],
   "source": [
    "import numpy as np\n",
    "\n",
    "from torch.utils.data import DataLoader\n",
    "from torchvision import datasets\n",
    "\n",
    "from tqdm.notebook import tqdm\n",
    "\n",
    "import MST\n",
    "import MST.InplaceModules as inM"
   ]
  },
  {
   "cell_type": "code",
   "execution_count": 2,
   "metadata": {},
   "outputs": [],
   "source": [
    "BATCH_SIZE = 32\n",
    "NUM_WORKERS = 0\n",
    "\n",
    "EPOCHS = 10"
   ]
  },
  {
   "cell_type": "code",
   "execution_count": 3,
   "metadata": {},
   "outputs": [],
   "source": [
    "def to_np_arr(a):\n",
    "    a_ = MST.MDT_ARRAY(a) / 255\n",
    "    return a_.reshape(1, *a_.shape)"
   ]
  },
  {
   "cell_type": "code",
   "execution_count": 4,
   "metadata": {},
   "outputs": [],
   "source": [
    "transform = to_np_arr\n",
    "\n",
    "train_dataset = datasets.MNIST(\n",
    "    root='datasets',\n",
    "    train=True,\n",
    "    transform=transform,\n",
    "    download=True\n",
    ")\n",
    "\n",
    "test_dataset = datasets.MNIST(\n",
    "    root='datasets',\n",
    "    train=False,\n",
    "    transform=transform,\n",
    "    download=True\n",
    ")\n",
    "\n",
    "train_dataloader = DataLoader(\n",
    "    dataset=train_dataset,\n",
    "    batch_size=BATCH_SIZE,\n",
    "    shuffle=True,\n",
    "    num_workers=NUM_WORKERS,\n",
    ")\n",
    "\n",
    "test_dataloader = DataLoader(\n",
    "    dataset=test_dataset,\n",
    "    batch_size=BATCH_SIZE,\n",
    "    num_workers=NUM_WORKERS,\n",
    ")"
   ]
  },
  {
   "cell_type": "code",
   "execution_count": 5,
   "metadata": {},
   "outputs": [
    {
     "name": "stdout",
     "output_type": "stream",
     "text": [
      "MyNet:\n",
      " └── conv1: Trainable(True)\n",
      " └── conv2: Trainable(True)\n",
      " └── conv3: Trainable(True)\n",
      " └── fc1: Trainable(True)\n",
      " └── fc2: Trainable(True)\n",
      "\n"
     ]
    }
   ],
   "source": [
    "class MyNet(MST.BasicModule):\n",
    "    def __init__(self):\n",
    "        super().__init__()\n",
    "        self.conv1 = MST.Conv2d(1, 16, 3, stride=2, padding=1)\n",
    "        self.conv2 = MST.Conv2d(16, 32, 3, stride=2, padding=1)\n",
    "        self.conv3 = MST.Conv2d(32, 64, 3, padding=1)\n",
    "        self.fc1 = MST.FullyConnectedLayer(7*7*64, 100)\n",
    "        self.fc2 = MST.FullyConnectedLayer(100, 10)\n",
    "\n",
    "    def forward(self, x):\n",
    "        x = self.conv1(x)\n",
    "        x = inM.ReLU(x)\n",
    "        x = self.conv2(x)\n",
    "        x = inM.ReLU(x)\n",
    "        x = self.conv3(x)\n",
    "        x = inM.ReLU(x)\n",
    "        x = inM.Flatten(x)\n",
    "        x = self.fc1(x)\n",
    "        x = inM.ReLU(x)\n",
    "        x = self.fc2(x)\n",
    "        x = inM.ReLU(x)\n",
    "        return x\n",
    "\n",
    "\n",
    "CELoss = MST.CrossEntropyLoss() # MSE | \n",
    "net = MyNet()\n",
    "\n",
    "optimizer = MST.SGD(net, lr=0.01, momentum=0.9)\n",
    "print(net)"
   ]
  },
  {
   "cell_type": "code",
   "execution_count": 6,
   "metadata": {},
   "outputs": [],
   "source": [
    "def train(net : MST.BasicModule, optimizer : MST.SGD, criterion : MST.BasicModule):\n",
    "    running_loss = 0\n",
    "    for ind, (images, labels) in enumerate(train_dataloader):\n",
    "        images = MST.MDT_ARRAY(images)\n",
    "        labels = MST.MDT_ARRAY(labels)\n",
    "        \n",
    "        output = net(images)\n",
    "        loss = criterion(output, labels)\n",
    "        \n",
    "        loss.backward()\n",
    "        optimizer.step()\n",
    "\n",
    "        running_loss += loss\n",
    "    train_loss = running_loss / len(train_dataloader)\n",
    "    return train_loss\n",
    "\n",
    "\n",
    "def valid(net : MST.BasicModule, criterion : MST.BasicModule):\n",
    "    running_loss = 0\n",
    "    correct_total = 0\n",
    "    for images, labels in test_dataloader:\n",
    "        images = MST.MDT_ARRAY(images)\n",
    "        labels = MST.MDT_ARRAY(labels)\n",
    "\n",
    "        output = net(images)\n",
    "\n",
    "        loss = criterion(output, labels)\n",
    "        running_loss += loss\n",
    "\n",
    "        pred = np.argmax(output, axis=1, keepdims=True)\n",
    "        correct_total += np.sum(pred[pred==labels.reshape(-1, 1)].astype(bool))\n",
    "        \n",
    "    rec = correct_total / len(test_dataloader.dataset)\n",
    "    valid_loss = running_loss / len(test_dataloader)\n",
    "    return valid_loss, rec"
   ]
  },
  {
   "cell_type": "code",
   "execution_count": 7,
   "metadata": {},
   "outputs": [
    {
     "data": {
      "application/vnd.jupyter.widget-view+json": {
       "model_id": "5f0babf6727a420cadae18f0837684e8",
       "version_major": 2,
       "version_minor": 0
      },
      "text/plain": [
       "  0%|          | 0/10 [00:00<?, ?it/s]"
      ]
     },
     "metadata": {},
     "output_type": "display_data"
    },
    {
     "ename": "IndexError",
     "evalue": "too many indices for array: array is 4-dimensional, but 5 were indexed",
     "output_type": "error",
     "traceback": [
      "\u001b[0;31m---------------------------------------------------------------------------\u001b[0m",
      "\u001b[0;31mIndexError\u001b[0m                                Traceback (most recent call last)",
      "Cell \u001b[0;32mIn[7], line 2\u001b[0m\n\u001b[1;32m      1\u001b[0m \u001b[39mfor\u001b[39;00m epoch \u001b[39min\u001b[39;00m (pbar \u001b[39m:=\u001b[39m tqdm(\u001b[39mrange\u001b[39m(EPOCHS))):\n\u001b[0;32m----> 2\u001b[0m     train_loss \u001b[39m=\u001b[39m train(net, optimizer, CELoss)\n\u001b[1;32m      3\u001b[0m     valid_loss, rec \u001b[39m=\u001b[39m valid(net, CELoss)\n\u001b[1;32m      5\u001b[0m     \u001b[39mprint\u001b[39m(\u001b[39mf\u001b[39m\u001b[39m\"\u001b[39m\u001b[39m[\u001b[39m\u001b[39m{\u001b[39;00mepoch\u001b[39m}\u001b[39;00m\u001b[39m] train/valid loss: \u001b[39m\u001b[39m{\u001b[39;00mtrain_loss\u001b[39m:\u001b[39;00m\u001b[39m.4f\u001b[39m\u001b[39m}\u001b[39;00m\u001b[39m/\u001b[39m\u001b[39m{\u001b[39;00mvalid_loss\u001b[39m:\u001b[39;00m\u001b[39m.4f\u001b[39m\u001b[39m}\u001b[39;00m\u001b[39m rec: \u001b[39m\u001b[39m{\u001b[39;00mrec\u001b[39m:\u001b[39;00m\u001b[39m.4f\u001b[39m\u001b[39m}\u001b[39;00m\u001b[39m\"\u001b[39m)\n",
      "Cell \u001b[0;32mIn[6], line 10\u001b[0m, in \u001b[0;36mtrain\u001b[0;34m(net, optimizer, criterion)\u001b[0m\n\u001b[1;32m      7\u001b[0m output \u001b[39m=\u001b[39m net(images)\n\u001b[1;32m      8\u001b[0m loss \u001b[39m=\u001b[39m criterion(output, labels)\n\u001b[0;32m---> 10\u001b[0m loss\u001b[39m.\u001b[39;49mbackward()\n\u001b[1;32m     11\u001b[0m optimizer\u001b[39m.\u001b[39mstep()\n\u001b[1;32m     13\u001b[0m running_loss \u001b[39m+\u001b[39m\u001b[39m=\u001b[39m loss\n",
      "File \u001b[0;32m~/progs/AI_Tasks/04_Task/MST/MDT.py:8\u001b[0m, in \u001b[0;36mMDT_REFACTOR_ARRAY.backward\u001b[0;34m(self, dOut)\u001b[0m\n\u001b[1;32m      7\u001b[0m \u001b[39mdef\u001b[39;00m \u001b[39mbackward\u001b[39m(\u001b[39mself\u001b[39m, dOut \u001b[39m=\u001b[39m \u001b[39mNone\u001b[39;00m):\n\u001b[0;32m----> 8\u001b[0m     \u001b[39mself\u001b[39;49m\u001b[39m.\u001b[39;49m_source\u001b[39m.\u001b[39;49mbackward(dOut)\n",
      "File \u001b[0;32m~/progs/AI_Tasks/04_Task/MST/BasicModules.py:90\u001b[0m, in \u001b[0;36mBasicModule.backward\u001b[0;34m(self, dOut)\u001b[0m\n\u001b[1;32m     84\u001b[0m \u001b[39mdef\u001b[39;00m \u001b[39mbackward\u001b[39m(\u001b[39mself\u001b[39m, dOut \u001b[39m=\u001b[39m \u001b[39mNone\u001b[39;00m):\n\u001b[1;32m     85\u001b[0m     \u001b[39m# !TODO переделать backward и backward_impl\u001b[39;00m\n\u001b[1;32m     86\u001b[0m     \u001b[39m# Чтобы при создании нового модуля со своим backprop пользователь создавал функцию backward\u001b[39;00m\n\u001b[1;32m     87\u001b[0m     \u001b[39m# А в свою очередь auto-backprop вызывал бы backward_impl, который бы вызывал backward пользователя\u001b[39;00m\n\u001b[1;32m     88\u001b[0m     \u001b[39m# !TODO сделать отдельную функцию для начала раскручивания авто-бэкпропа\u001b[39;00m\n\u001b[1;32m     89\u001b[0m     \u001b[39mif\u001b[39;00m \u001b[39mself\u001b[39m\u001b[39m.\u001b[39mbackward_impl \u001b[39mis\u001b[39;00m \u001b[39mnot\u001b[39;00m \u001b[39mNone\u001b[39;00m:\n\u001b[0;32m---> 90\u001b[0m         \u001b[39mreturn\u001b[39;00m \u001b[39mself\u001b[39;49m\u001b[39m.\u001b[39;49mbackward_impl(dOut)\n\u001b[1;32m     91\u001b[0m     \u001b[39mraise\u001b[39;00m \u001b[39mNotImplementedError\u001b[39;00m(\u001b[39mf\u001b[39m\u001b[39m\"\u001b[39m\u001b[39m[\u001b[39m\u001b[39m{\u001b[39;00m\u001b[39mtype\u001b[39m(\u001b[39mself\u001b[39m)\u001b[39m.\u001b[39m\u001b[39m__name__\u001b[39m\u001b[39m}\u001b[39;00m\u001b[39m] is missing the required \u001b[39m\u001b[39m\\\"\u001b[39;00m\u001b[39mbackward_impl\u001b[39m\u001b[39m\\\"\u001b[39;00m\u001b[39m function\u001b[39m\u001b[39m\"\u001b[39m)\n",
      "File \u001b[0;32m~/progs/AI_Tasks/04_Task/MST/Losses.py:87\u001b[0m, in \u001b[0;36mCrossEntropyLoss.backward_impl\u001b[0;34m(self, dOut)\u001b[0m\n\u001b[1;32m     85\u001b[0m         \u001b[39mfor\u001b[39;00m inX \u001b[39min\u001b[39;00m \u001b[39mself\u001b[39m\u001b[39m.\u001b[39m_hid_inX:\n\u001b[1;32m     86\u001b[0m             \u001b[39mif\u001b[39;00m inX\u001b[39m.\u001b[39m_source \u001b[39mis\u001b[39;00m \u001b[39mnot\u001b[39;00m \u001b[39mNone\u001b[39;00m:\n\u001b[0;32m---> 87\u001b[0m                 inX\u001b[39m.\u001b[39;49m_source\u001b[39m.\u001b[39;49m_auto_backward(dLoss)\n\u001b[1;32m     88\u001b[0m \u001b[39melse\u001b[39;00m:\n\u001b[1;32m     89\u001b[0m     \u001b[39mraise\u001b[39;00m \u001b[39mValueError\u001b[39;00m(\u001b[39m\"\u001b[39m\u001b[39mTODO text for error\u001b[39m\u001b[39m\"\u001b[39m)\n",
      "File \u001b[0;32m~/progs/AI_Tasks/04_Task/MST/BasicModules.py:113\u001b[0m, in \u001b[0;36mBasicModule._auto_backward\u001b[0;34m(self, dOut)\u001b[0m\n\u001b[1;32m    111\u001b[0m     \u001b[39mfor\u001b[39;00m inArg \u001b[39min\u001b[39;00m \u001b[39mself\u001b[39m\u001b[39m.\u001b[39m_hid_inX:\n\u001b[1;32m    112\u001b[0m         \u001b[39mif\u001b[39;00m inArg\u001b[39m.\u001b[39m_source \u001b[39mis\u001b[39;00m \u001b[39mnot\u001b[39;00m \u001b[39mNone\u001b[39;00m:\n\u001b[0;32m--> 113\u001b[0m             inArg\u001b[39m.\u001b[39;49m_source\u001b[39m.\u001b[39;49m_auto_backward(dOut)\n\u001b[1;32m    115\u001b[0m     \u001b[39mself\u001b[39m\u001b[39m.\u001b[39m__zero_auto_backward_state()\n\u001b[1;32m    116\u001b[0m \u001b[39melse\u001b[39;00m:\n",
      "File \u001b[0;32m~/progs/AI_Tasks/04_Task/MST/BasicModules.py:113\u001b[0m, in \u001b[0;36mBasicModule._auto_backward\u001b[0;34m(self, dOut)\u001b[0m\n\u001b[1;32m    111\u001b[0m     \u001b[39mfor\u001b[39;00m inArg \u001b[39min\u001b[39;00m \u001b[39mself\u001b[39m\u001b[39m.\u001b[39m_hid_inX:\n\u001b[1;32m    112\u001b[0m         \u001b[39mif\u001b[39;00m inArg\u001b[39m.\u001b[39m_source \u001b[39mis\u001b[39;00m \u001b[39mnot\u001b[39;00m \u001b[39mNone\u001b[39;00m:\n\u001b[0;32m--> 113\u001b[0m             inArg\u001b[39m.\u001b[39;49m_source\u001b[39m.\u001b[39;49m_auto_backward(dOut)\n\u001b[1;32m    115\u001b[0m     \u001b[39mself\u001b[39m\u001b[39m.\u001b[39m__zero_auto_backward_state()\n\u001b[1;32m    116\u001b[0m \u001b[39melse\u001b[39;00m:\n",
      "    \u001b[0;31m[... skipping similar frames: BasicModule._auto_backward at line 113 (3 times)]\u001b[0m\n",
      "File \u001b[0;32m~/progs/AI_Tasks/04_Task/MST/BasicModules.py:113\u001b[0m, in \u001b[0;36mBasicModule._auto_backward\u001b[0;34m(self, dOut)\u001b[0m\n\u001b[1;32m    111\u001b[0m     \u001b[39mfor\u001b[39;00m inArg \u001b[39min\u001b[39;00m \u001b[39mself\u001b[39m\u001b[39m.\u001b[39m_hid_inX:\n\u001b[1;32m    112\u001b[0m         \u001b[39mif\u001b[39;00m inArg\u001b[39m.\u001b[39m_source \u001b[39mis\u001b[39;00m \u001b[39mnot\u001b[39;00m \u001b[39mNone\u001b[39;00m:\n\u001b[0;32m--> 113\u001b[0m             inArg\u001b[39m.\u001b[39;49m_source\u001b[39m.\u001b[39;49m_auto_backward(dOut)\n\u001b[1;32m    115\u001b[0m     \u001b[39mself\u001b[39m\u001b[39m.\u001b[39m__zero_auto_backward_state()\n\u001b[1;32m    116\u001b[0m \u001b[39melse\u001b[39;00m:\n",
      "File \u001b[0;32m~/progs/AI_Tasks/04_Task/MST/BasicModules.py:110\u001b[0m, in \u001b[0;36mBasicModule._auto_backward\u001b[0;34m(self, dOut)\u001b[0m\n\u001b[1;32m    107\u001b[0m \u001b[39mif\u001b[39;00m \u001b[39mself\u001b[39m\u001b[39m.\u001b[39m_hid_outX \u001b[39mis\u001b[39;00m \u001b[39mnot\u001b[39;00m \u001b[39mNone\u001b[39;00m:\n\u001b[1;32m    108\u001b[0m     \u001b[39mif\u001b[39;00m \u001b[39mself\u001b[39m\u001b[39m.\u001b[39mbackward_impl \u001b[39mis\u001b[39;00m \u001b[39mnot\u001b[39;00m \u001b[39mNone\u001b[39;00m:\n\u001b[1;32m    109\u001b[0m         \u001b[39m# !TODO учесть что у нас может возвращатся несколько производных для нескольких входов и нам нужно будет их отправлять \u001b[39;00m\n\u001b[0;32m--> 110\u001b[0m         dOut \u001b[39m=\u001b[39m \u001b[39mself\u001b[39;49m\u001b[39m.\u001b[39;49mbackward_impl(dOut)\n\u001b[1;32m    111\u001b[0m     \u001b[39mfor\u001b[39;00m inArg \u001b[39min\u001b[39;00m \u001b[39mself\u001b[39m\u001b[39m.\u001b[39m_hid_inX:\n\u001b[1;32m    112\u001b[0m         \u001b[39mif\u001b[39;00m inArg\u001b[39m.\u001b[39m_source \u001b[39mis\u001b[39;00m \u001b[39mnot\u001b[39;00m \u001b[39mNone\u001b[39;00m:\n",
      "File \u001b[0;32m~/progs/AI_Tasks/04_Task/MST/Layers.py:171\u001b[0m, in \u001b[0;36mConv2d.backward_impl\u001b[0;34m(self, dOut)\u001b[0m\n\u001b[1;32m    169\u001b[0m x_part \u001b[39m=\u001b[39m \u001b[39mself\u001b[39m\u001b[39m.\u001b[39m_inX[:, g\u001b[39m*\u001b[39m\u001b[39mself\u001b[39m\u001b[39m.\u001b[39m_inC:(g\u001b[39m+\u001b[39m\u001b[39m1\u001b[39m)\u001b[39m*\u001b[39m\u001b[39mself\u001b[39m\u001b[39m.\u001b[39m_inC, :, :]\n\u001b[1;32m    170\u001b[0m dout_part \u001b[39m=\u001b[39m dOut[:, g, :, :][:, np\u001b[39m.\u001b[39mnewaxis, :, :, np\u001b[39m.\u001b[39mnewaxis]\n\u001b[0;32m--> 171\u001b[0m \u001b[39mself\u001b[39m\u001b[39m.\u001b[39m_dw[g] \u001b[39m+\u001b[39m\u001b[39m=\u001b[39m np\u001b[39m.\u001b[39msum(x_part[:, :, np\u001b[39m.\u001b[39;49mnewaxis, :, :, :] \u001b[39m*\u001b[39m dout_part[:, np\u001b[39m.\u001b[39mnewaxis, :, :, :, :], axis\u001b[39m=\u001b[39m\u001b[39m0\u001b[39m)\n\u001b[1;32m    172\u001b[0m dout_reshaped \u001b[39m=\u001b[39m np\u001b[39m.\u001b[39mbroadcast_to(dout_part, (BS, \u001b[39mself\u001b[39m\u001b[39m.\u001b[39m_outC \u001b[39m/\u001b[39m\u001b[39m/\u001b[39m \u001b[39mself\u001b[39m\u001b[39m.\u001b[39m_groups, \u001b[39mself\u001b[39m\u001b[39m.\u001b[39m__outH, \u001b[39mself\u001b[39m\u001b[39m.\u001b[39m__outW, \u001b[39mself\u001b[39m\u001b[39m.\u001b[39m_inC, \u001b[39mself\u001b[39m\u001b[39m.\u001b[39m_kernel_size[\u001b[39m0\u001b[39m], \u001b[39mself\u001b[39m\u001b[39m.\u001b[39m_kernel_size[\u001b[39m1\u001b[39m]))\n\u001b[1;32m    173\u001b[0m \u001b[39mself\u001b[39m\u001b[39m.\u001b[39m_dinX_pad[:, g\u001b[39m*\u001b[39m\u001b[39mself\u001b[39m\u001b[39m.\u001b[39m_inC:(g\u001b[39m+\u001b[39m\u001b[39m1\u001b[39m)\u001b[39m*\u001b[39m\u001b[39mself\u001b[39m\u001b[39m.\u001b[39m_inC, :, :] \u001b[39m+\u001b[39m\u001b[39m=\u001b[39m np\u001b[39m.\u001b[39msum(\u001b[39mself\u001b[39m\u001b[39m.\u001b[39m_w[g][np\u001b[39m.\u001b[39mnewaxis, :, :, :, :, :] \u001b[39m*\u001b[39m dout_reshaped[:, :, :, :, :, ::\u001b[39m-\u001b[39m\u001b[39m1\u001b[39m, ::\u001b[39m-\u001b[39m\u001b[39m1\u001b[39m], axis\u001b[39m=\u001b[39m(\u001b[39m1\u001b[39m, \u001b[39m4\u001b[39m, \u001b[39m5\u001b[39m, \u001b[39m6\u001b[39m))\n",
      "\u001b[0;31mIndexError\u001b[0m: too many indices for array: array is 4-dimensional, but 5 were indexed"
     ]
    }
   ],
   "source": [
    "for epoch in (pbar := tqdm(range(EPOCHS))):\n",
    "    train_loss = train(net, optimizer, CELoss)\n",
    "    valid_loss, rec = valid(net, CELoss)\n",
    "\n",
    "    print(f\"[{epoch}] train/valid loss: {train_loss:.4f}/{valid_loss:.4f} rec: {rec:.4f}\")\n",
    "    pbar.set_description(f\"train/valid loss: {train_loss:.4f}/{valid_loss:.4f} rec: {rec:.4f}\")"
   ]
  }
 ],
 "metadata": {
  "kernelspec": {
   "display_name": "AIenv",
   "language": "python",
   "name": "python3"
  },
  "language_info": {
   "codemirror_mode": {
    "name": "ipython",
    "version": 3
   },
   "file_extension": ".py",
   "mimetype": "text/x-python",
   "name": "python",
   "nbconvert_exporter": "python",
   "pygments_lexer": "ipython3",
   "version": "3.10.10"
  },
  "orig_nbformat": 4
 },
 "nbformat": 4,
 "nbformat_minor": 2
}
