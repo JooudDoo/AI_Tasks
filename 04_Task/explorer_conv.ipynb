{
 "cells": [
  {
   "cell_type": "code",
   "execution_count": 1,
   "metadata": {},
   "outputs": [],
   "source": [
    "import numpy as np\n",
    "\n",
    "from torch.utils.data import DataLoader\n",
    "from torchvision import datasets\n",
    "\n",
    "from tqdm.notebook import tqdm\n",
    "\n",
    "import MST\n",
    "import MST.InplaceModules as inM"
   ]
  },
  {
   "cell_type": "code",
   "execution_count": 2,
   "metadata": {},
   "outputs": [],
   "source": [
    "BATCH_SIZE = 128\n",
    "NUM_WORKERS = 0\n",
    "\n",
    "EPOCHS = 10"
   ]
  },
  {
   "cell_type": "code",
   "execution_count": 3,
   "metadata": {},
   "outputs": [],
   "source": [
    "def to_np_arr(a):\n",
    "    a_ = MST.MDT_ARRAY(a).astype(np.float32) / 255\n",
    "    return a_.reshape(1, *a_.shape)"
   ]
  },
  {
   "cell_type": "code",
   "execution_count": 4,
   "metadata": {},
   "outputs": [],
   "source": [
    "transform = to_np_arr\n",
    "\n",
    "train_dataset = datasets.MNIST(\n",
    "    root='datasets',\n",
    "    train=True,\n",
    "    transform=transform,\n",
    "    download=True\n",
    ")\n",
    "\n",
    "test_dataset = datasets.MNIST(\n",
    "    root='datasets',\n",
    "    train=False,\n",
    "    transform=transform,\n",
    "    download=True\n",
    ")\n",
    "\n",
    "train_dataloader = DataLoader(\n",
    "    dataset=train_dataset,\n",
    "    batch_size=BATCH_SIZE,\n",
    "    shuffle=True,\n",
    "    num_workers=NUM_WORKERS,\n",
    ")\n",
    "\n",
    "test_dataloader = DataLoader(\n",
    "    dataset=test_dataset,\n",
    "    batch_size=BATCH_SIZE,\n",
    "    num_workers=NUM_WORKERS,\n",
    ")"
   ]
  },
  {
   "cell_type": "code",
   "execution_count": 5,
   "metadata": {},
   "outputs": [
    {
     "name": "stdout",
     "output_type": "stream",
     "text": [
      "MyNet:\n",
      " └── conv1: Trainable(True)\n",
      " └── pool_1: Trainable(False)\n",
      " └── conv2: Trainable(True)\n",
      " └── pool_2: Trainable(False)\n",
      " └── fc1: Trainable(True)\n",
      " └── fc2: Trainable(True)\n",
      " └── fc3: Trainable(True)\n",
      "\n"
     ]
    }
   ],
   "source": [
    "class MyNet(MST.BasicModule):\n",
    "    def __init__(self):\n",
    "        super().__init__()\n",
    "        self.conv1 = MST.Conv2d(1, 6, 5)\n",
    "        self.pool_1 = MST.MaxPool2d(2, 2)\n",
    "        self.conv2 = MST.Conv2d(6, 16, 5)\n",
    "        self.pool_2 = MST.MaxPool2d(2, 2)\n",
    "\n",
    "        self.fc1 = MST.Linear(16 * 4 * 4, 120)\n",
    "        self.fc2 = MST.Linear(120, 84)\n",
    "        self.fc3 = MST.Linear(84, 10)\n",
    "\n",
    "    def forward(self, x):\n",
    "        x = self.conv1(x)\n",
    "\n",
    "        # with torch.no_grad():\n",
    "        #     torchConv = nn.Conv2d(1, 6, 5)\n",
    "\n",
    "        #     torchConv.weight = nn.Parameter(torch.tensor(self.conv1._w.astype(np.float32)))\n",
    "        #     torchConv.bias = nn.Parameter(torch.tensor(self.conv1._bias.astype(np.float32)).flatten())\n",
    "        #     nnres = torchConv(torch.Tensor(inX))\n",
    "        #     nnres = nnres.numpy().round(3).flatten()\n",
    "        #     myres = x.round(3).flatten()\n",
    "        #     bads = np.where(abs(nnres - myres) > 0.001)\n",
    "        #     print(f\"bads: {len(bads[0])}\")\n",
    "        #     for pos in bads[0][:10]:\n",
    "        #         print(f\"[{pos}]: {myres[pos]:.3f} {nnres[pos]:.3f}\")\n",
    "                \n",
    "        x = self.pool_1(inM.Relu(x))\n",
    "        x = self.pool_2(inM.Relu(self.conv2(x)))\n",
    "        x = inM.flatten(x) # flatten all dimensions except batch\n",
    "        x = inM.Relu(self.fc1(x))\n",
    "        x = inM.Relu(self.fc2(x))\n",
    "        x = self.fc3(x)\n",
    "        return x\n",
    "\n",
    "CELoss = MST.CrossEntropyLoss() # MSE | \n",
    "net = MyNet()\n",
    "\n",
    "optimizer = MST.SGD(net, lr=0.01)\n",
    "print(net)"
   ]
  },
  {
   "cell_type": "code",
   "execution_count": 6,
   "metadata": {},
   "outputs": [],
   "source": [
    "def train(net : MST.BasicModule, optimizer : MST.SGD, criterion : MST.BasicModule):\n",
    "    running_loss = 0\n",
    "    for ind, (images, labels) in enumerate(pbar := tqdm(train_dataloader)):\n",
    "        images = MST.MDT_ARRAY(images)\n",
    "        labels = MST.MDT_ARRAY(labels)\n",
    "\n",
    "        output = net(images)\n",
    "        loss = criterion(output, labels)\n",
    "\n",
    "        loss.backward()\n",
    "        \n",
    "        optimizer.step()\n",
    "        pbar.set_description(f\"loss: {loss.round(10)}\")\n",
    "        running_loss += loss\n",
    "    train_loss = running_loss / len(train_dataloader)\n",
    "    return train_loss\n",
    "\n",
    "\n",
    "def valid(net : MST.BasicModule, criterion : MST.BasicModule):\n",
    "    running_loss = 0\n",
    "    correct_total = 0\n",
    "    for images, labels in test_dataloader:\n",
    "        images = MST.MDT_ARRAY(images)\n",
    "        labels = MST.MDT_ARRAY(labels)\n",
    "        output = net(images)\n",
    "        loss = criterion(output, labels)\n",
    "        running_loss += loss\n",
    "\n",
    "        pred = np.argmax(output, axis=1, keepdims=True)\n",
    "        correct_total += np.sum(pred[pred==labels.reshape(-1, 1)].astype(bool))\n",
    "        \n",
    "    rec = correct_total / len(test_dataloader.dataset)\n",
    "    valid_loss = running_loss / len(test_dataloader)\n",
    "    return valid_loss, rec"
   ]
  },
  {
   "cell_type": "code",
   "execution_count": 7,
   "metadata": {},
   "outputs": [
    {
     "data": {
      "application/vnd.jupyter.widget-view+json": {
       "model_id": "5235838e2ae74fc68b59e05784856f21",
       "version_major": 2,
       "version_minor": 0
      },
      "text/plain": [
       "  0%|          | 0/10 [00:00<?, ?it/s]"
      ]
     },
     "metadata": {},
     "output_type": "display_data"
    },
    {
     "data": {
      "application/vnd.jupyter.widget-view+json": {
       "model_id": "ac31140f52e1432489774c302cd29445",
       "version_major": 2,
       "version_minor": 0
      },
      "text/plain": [
       "  0%|          | 0/469 [00:00<?, ?it/s]"
      ]
     },
     "metadata": {},
     "output_type": "display_data"
    },
    {
     "name": "stdout",
     "output_type": "stream",
     "text": [
      "[0] train/valid loss: 0.7119/0.4235 rec: 0.7678\n"
     ]
    },
    {
     "data": {
      "application/vnd.jupyter.widget-view+json": {
       "model_id": "de91d45422f8420f96d12976d8c05fd9",
       "version_major": 2,
       "version_minor": 0
      },
      "text/plain": [
       "  0%|          | 0/469 [00:00<?, ?it/s]"
      ]
     },
     "metadata": {},
     "output_type": "display_data"
    }
   ],
   "source": [
    "for epoch in (pbar := tqdm(range(EPOCHS))):\n",
    "    train_loss = train(net, optimizer, CELoss)\n",
    "    valid_loss, rec = valid(net, CELoss)\n",
    "\n",
    "    print(f\"[{epoch}] train/valid loss: {train_loss:.4f}/{valid_loss:.4f} rec: {rec:.4f}\")\n",
    "    pbar.set_description(f\"train/valid loss: {train_loss:.4f}/{valid_loss:.4f} rec: {rec:.4f}\")"
   ]
  }
 ],
 "metadata": {
  "kernelspec": {
   "display_name": "AIenv",
   "language": "python",
   "name": "python3"
  },
  "language_info": {
   "codemirror_mode": {
    "name": "ipython",
    "version": 3
   },
   "file_extension": ".py",
   "mimetype": "text/x-python",
   "name": "python",
   "nbconvert_exporter": "python",
   "pygments_lexer": "ipython3",
   "version": "3.10.10"
  },
  "orig_nbformat": 4
 },
 "nbformat": 4,
 "nbformat_minor": 2
}
