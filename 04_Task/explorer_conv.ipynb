{
 "cells": [
  {
   "cell_type": "code",
   "execution_count": 1,
   "metadata": {},
   "outputs": [],
   "source": [
    "import numpy as np\n",
    "\n",
    "from torch.utils.data import DataLoader\n",
    "from torchvision import datasets\n",
    "\n",
    "from tqdm.notebook import tqdm\n",
    "\n",
    "import MST\n",
    "import MST.InplaceModules as inM\n",
    "\n",
    "import torch.nn as nn\n",
    "import torch\n",
    "import torch.nn.functional as F"
   ]
  },
  {
   "cell_type": "code",
   "execution_count": 2,
   "metadata": {},
   "outputs": [],
   "source": [
    "BATCH_SIZE = 32\n",
    "NUM_WORKERS = 0\n",
    "\n",
    "EPOCHS = 10"
   ]
  },
  {
   "cell_type": "code",
   "execution_count": 3,
   "metadata": {},
   "outputs": [],
   "source": [
    "def to_np_arr(a):\n",
    "    a_ = MST.MDT_ARRAY(a) / 255\n",
    "    return a_.reshape(1, *a_.shape)"
   ]
  },
  {
   "cell_type": "code",
   "execution_count": 4,
   "metadata": {},
   "outputs": [],
   "source": [
    "transform = to_np_arr\n",
    "\n",
    "train_dataset = datasets.MNIST(\n",
    "    root='datasets',\n",
    "    train=True,\n",
    "    transform=transform,\n",
    "    download=True\n",
    ")\n",
    "\n",
    "test_dataset = datasets.MNIST(\n",
    "    root='datasets',\n",
    "    train=False,\n",
    "    transform=transform,\n",
    "    download=True\n",
    ")\n",
    "\n",
    "train_dataloader = DataLoader(\n",
    "    dataset=train_dataset,\n",
    "    batch_size=BATCH_SIZE,\n",
    "    shuffle=True,\n",
    "    num_workers=NUM_WORKERS,\n",
    ")\n",
    "\n",
    "test_dataloader = DataLoader(\n",
    "    dataset=test_dataset,\n",
    "    batch_size=BATCH_SIZE,\n",
    "    num_workers=NUM_WORKERS,\n",
    ")"
   ]
  },
  {
   "cell_type": "code",
   "execution_count": 5,
   "metadata": {},
   "outputs": [
    {
     "name": "stdout",
     "output_type": "stream",
     "text": [
      "MyNet:\n",
      " └── conv1: Trainable(False)\n",
      " └── fc1: Trainable(True)\n",
      " └── fc2: Trainable(True)\n",
      " └── fc3: Trainable(True)\n",
      "\n"
     ]
    }
   ],
   "source": [
    "class MyNet(MST.BasicModule):\n",
    "    def __init__(self):\n",
    "        super().__init__()\n",
    "        self.conv1 = MST.Conv2d(1, 1, 3, padding=1)\n",
    "\n",
    "        self.fc1 = MST.FullyConnectedLayer(28*28, 100)\n",
    "        self.fc2 = MST.FullyConnectedLayer(100, 50)\n",
    "        self.fc3 = MST.FullyConnectedLayer(50, 10)\n",
    "\n",
    "    def forward(self, x):\n",
    "        x = self.conv1(x)\n",
    "        x = inM.Flatten(x)\n",
    "        x = self.fc1(x)\n",
    "        x = inM.ReLU(x)\n",
    "        x = self.fc2(x)\n",
    "        x = inM.ReLU(x)\n",
    "        x = self.fc3(x)\n",
    "        x = inM.ReLU(x)\n",
    "        return x\n",
    "\n",
    "\n",
    "CELoss = MST.CrossEntropyLoss() # MSE | \n",
    "net = MyNet()\n",
    "\n",
    "optimizer = MST.SGD(net, lr=0.01, momentum=0.9)\n",
    "print(net)"
   ]
  },
  {
   "cell_type": "code",
   "execution_count": 6,
   "metadata": {},
   "outputs": [],
   "source": [
    "def train(net : MST.BasicModule, optimizer : MST.SGD, criterion : MST.BasicModule):\n",
    "    running_loss = 0\n",
    "    for ind, (images, labels) in enumerate(pbar := tqdm(train_dataloader)):\n",
    "        images = MST.MDT_ARRAY(images)\n",
    "        la = labels\n",
    "        labels = MST.MDT_ARRAY(labels)\n",
    "\n",
    "        output = net(images)\n",
    "        loss = criterion(output, labels)\n",
    "\n",
    "        loss_da = F.cross_entropy(torch.Tensor(output), la)\n",
    "\n",
    "        loss = MST.MDT_ARRAY(loss_da.numpy())\n",
    "        criterion.backward(loss)\n",
    "        \n",
    "        optimizer.step()\n",
    "        pbar.set_description(f\"loss: {loss.round(10)}\")\n",
    "        running_loss += loss\n",
    "    train_loss = running_loss / len(train_dataloader)\n",
    "    return train_loss\n",
    "\n",
    "\n",
    "def valid(net : MST.BasicModule, criterion : MST.BasicModule):\n",
    "    running_loss = 0\n",
    "    correct_total = 0\n",
    "    for images, labels in test_dataloader:\n",
    "        images = MST.MDT_ARRAY(images)\n",
    "        labels = MST.MDT_ARRAY(labels)\n",
    "        output = net(images)\n",
    "        loss = criterion(output, labels)\n",
    "        running_loss += loss\n",
    "\n",
    "        pred = np.argmax(output, axis=1, keepdims=True)\n",
    "        correct_total += np.sum(pred[pred==labels.reshape(-1, 1)].astype(bool))\n",
    "        \n",
    "    rec = correct_total / len(test_dataloader.dataset)\n",
    "    valid_loss = running_loss / len(test_dataloader)\n",
    "    return valid_loss, rec"
   ]
  },
  {
   "cell_type": "code",
   "execution_count": 7,
   "metadata": {},
   "outputs": [
    {
     "data": {
      "application/vnd.jupyter.widget-view+json": {
       "model_id": "b62cfbd3238f4d54a104d981901aa6de",
       "version_major": 2,
       "version_minor": 0
      },
      "text/plain": [
       "  0%|          | 0/10 [00:00<?, ?it/s]"
      ]
     },
     "metadata": {},
     "output_type": "display_data"
    },
    {
     "data": {
      "application/vnd.jupyter.widget-view+json": {
       "model_id": "77e05e7a5627485cb1b4414199eb8be3",
       "version_major": 2,
       "version_minor": 0
      },
      "text/plain": [
       "  0%|          | 0/1875 [00:00<?, ?it/s]"
      ]
     },
     "metadata": {},
     "output_type": "display_data"
    },
    {
     "ename": "TypeError",
     "evalue": "BasicModule.forward() takes 1 positional argument but 2 were given",
     "output_type": "error",
     "traceback": [
      "\u001b[0;31m---------------------------------------------------------------------------\u001b[0m",
      "\u001b[0;31mTypeError\u001b[0m                                 Traceback (most recent call last)",
      "Cell \u001b[0;32mIn[7], line 2\u001b[0m\n\u001b[1;32m      1\u001b[0m \u001b[39mfor\u001b[39;00m epoch \u001b[39min\u001b[39;00m (pbar \u001b[39m:=\u001b[39m tqdm(\u001b[39mrange\u001b[39m(EPOCHS))):\n\u001b[0;32m----> 2\u001b[0m     train_loss \u001b[39m=\u001b[39m train(net, optimizer, CELoss)\n\u001b[1;32m      3\u001b[0m     valid_loss, rec \u001b[39m=\u001b[39m valid(net, CELoss)\n\u001b[1;32m      5\u001b[0m     \u001b[39mprint\u001b[39m(\u001b[39mf\u001b[39m\u001b[39m\"\u001b[39m\u001b[39m[\u001b[39m\u001b[39m{\u001b[39;00mepoch\u001b[39m}\u001b[39;00m\u001b[39m] train/valid loss: \u001b[39m\u001b[39m{\u001b[39;00mtrain_loss\u001b[39m:\u001b[39;00m\u001b[39m.4f\u001b[39m\u001b[39m}\u001b[39;00m\u001b[39m/\u001b[39m\u001b[39m{\u001b[39;00mvalid_loss\u001b[39m:\u001b[39;00m\u001b[39m.4f\u001b[39m\u001b[39m}\u001b[39;00m\u001b[39m rec: \u001b[39m\u001b[39m{\u001b[39;00mrec\u001b[39m:\u001b[39;00m\u001b[39m.4f\u001b[39m\u001b[39m}\u001b[39;00m\u001b[39m\"\u001b[39m)\n",
      "Cell \u001b[0;32mIn[6], line 8\u001b[0m, in \u001b[0;36mtrain\u001b[0;34m(net, optimizer, criterion)\u001b[0m\n\u001b[1;32m      5\u001b[0m la \u001b[39m=\u001b[39m labels\n\u001b[1;32m      6\u001b[0m labels \u001b[39m=\u001b[39m MST\u001b[39m.\u001b[39mMDT_ARRAY(labels)\n\u001b[0;32m----> 8\u001b[0m output \u001b[39m=\u001b[39m net(images)\n\u001b[1;32m      9\u001b[0m loss \u001b[39m=\u001b[39m criterion(output, labels)\n\u001b[1;32m     11\u001b[0m loss_da \u001b[39m=\u001b[39m F\u001b[39m.\u001b[39mcross_entropy(torch\u001b[39m.\u001b[39mTensor(output), la)\n",
      "File \u001b[0;32m~/progs/AI_Tasks/04_Task/MST/BasicModules.py:74\u001b[0m, in \u001b[0;36mBasicModule.__call__\u001b[0;34m(self, *args, **kwds)\u001b[0m\n\u001b[1;32m     72\u001b[0m         \u001b[39melse\u001b[39;00m:\n\u001b[1;32m     73\u001b[0m             \u001b[39mself\u001b[39m\u001b[39m.\u001b[39m_hid_inX\u001b[39m.\u001b[39mappend(arg)\n\u001b[0;32m---> 74\u001b[0m \u001b[39mself\u001b[39m\u001b[39m.\u001b[39m_hid_outX \u001b[39m=\u001b[39m \u001b[39mself\u001b[39;49m\u001b[39m.\u001b[39;49mforward(\u001b[39m*\u001b[39;49margs, \u001b[39m*\u001b[39;49m\u001b[39m*\u001b[39;49mkwds)\n\u001b[1;32m     75\u001b[0m \u001b[39mif\u001b[39;00m(\u001b[39mnot\u001b[39;00m \u001b[39misinstance\u001b[39m(\u001b[39mself\u001b[39m\u001b[39m.\u001b[39m_hid_outX, MDT_REFACTOR_ARRAY) \u001b[39mand\u001b[39;00m \u001b[39misinstance\u001b[39m(\u001b[39mself\u001b[39m\u001b[39m.\u001b[39m_hid_outX, ndarray)):\n\u001b[1;32m     76\u001b[0m     \u001b[39mself\u001b[39m\u001b[39m.\u001b[39m_hid_outX \u001b[39m=\u001b[39m MDT_ARRAY(\u001b[39mself\u001b[39m\u001b[39m.\u001b[39m_hid_outX)\n",
      "Cell \u001b[0;32mIn[5], line 11\u001b[0m, in \u001b[0;36mMyNet.forward\u001b[0;34m(self, x)\u001b[0m\n\u001b[1;32m     10\u001b[0m \u001b[39mdef\u001b[39;00m \u001b[39mforward\u001b[39m(\u001b[39mself\u001b[39m, x):\n\u001b[0;32m---> 11\u001b[0m     x \u001b[39m=\u001b[39m \u001b[39mself\u001b[39;49m\u001b[39m.\u001b[39;49mconv1(x)\n\u001b[1;32m     12\u001b[0m     x \u001b[39m=\u001b[39m inM\u001b[39m.\u001b[39mFlatten(x)\n\u001b[1;32m     13\u001b[0m     x \u001b[39m=\u001b[39m \u001b[39mself\u001b[39m\u001b[39m.\u001b[39mfc1(x)\n",
      "File \u001b[0;32m~/progs/AI_Tasks/04_Task/MST/BasicModules.py:74\u001b[0m, in \u001b[0;36mBasicModule.__call__\u001b[0;34m(self, *args, **kwds)\u001b[0m\n\u001b[1;32m     72\u001b[0m         \u001b[39melse\u001b[39;00m:\n\u001b[1;32m     73\u001b[0m             \u001b[39mself\u001b[39m\u001b[39m.\u001b[39m_hid_inX\u001b[39m.\u001b[39mappend(arg)\n\u001b[0;32m---> 74\u001b[0m \u001b[39mself\u001b[39m\u001b[39m.\u001b[39m_hid_outX \u001b[39m=\u001b[39m \u001b[39mself\u001b[39;49m\u001b[39m.\u001b[39;49mforward(\u001b[39m*\u001b[39;49margs, \u001b[39m*\u001b[39;49m\u001b[39m*\u001b[39;49mkwds)\n\u001b[1;32m     75\u001b[0m \u001b[39mif\u001b[39;00m(\u001b[39mnot\u001b[39;00m \u001b[39misinstance\u001b[39m(\u001b[39mself\u001b[39m\u001b[39m.\u001b[39m_hid_outX, MDT_REFACTOR_ARRAY) \u001b[39mand\u001b[39;00m \u001b[39misinstance\u001b[39m(\u001b[39mself\u001b[39m\u001b[39m.\u001b[39m_hid_outX, ndarray)):\n\u001b[1;32m     76\u001b[0m     \u001b[39mself\u001b[39m\u001b[39m.\u001b[39m_hid_outX \u001b[39m=\u001b[39m MDT_ARRAY(\u001b[39mself\u001b[39m\u001b[39m.\u001b[39m_hid_outX)\n",
      "\u001b[0;31mTypeError\u001b[0m: BasicModule.forward() takes 1 positional argument but 2 were given"
     ]
    }
   ],
   "source": [
    "for epoch in (pbar := tqdm(range(EPOCHS))):\n",
    "    train_loss = train(net, optimizer, CELoss)\n",
    "    valid_loss, rec = valid(net, CELoss)\n",
    "\n",
    "    print(f\"[{epoch}] train/valid loss: {train_loss:.4f}/{valid_loss:.4f} rec: {rec:.4f}\")\n",
    "    pbar.set_description(f\"train/valid loss: {train_loss:.4f}/{valid_loss:.4f} rec: {rec:.4f}\")"
   ]
  }
 ],
 "metadata": {
  "kernelspec": {
   "display_name": "AIenv",
   "language": "python",
   "name": "python3"
  },
  "language_info": {
   "codemirror_mode": {
    "name": "ipython",
    "version": 3
   },
   "file_extension": ".py",
   "mimetype": "text/x-python",
   "name": "python",
   "nbconvert_exporter": "python",
   "pygments_lexer": "ipython3",
   "version": "3.10.10"
  },
  "orig_nbformat": 4
 },
 "nbformat": 4,
 "nbformat_minor": 2
}
