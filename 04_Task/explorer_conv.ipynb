{
 "cells": [
  {
   "cell_type": "code",
   "execution_count": 1,
   "metadata": {},
   "outputs": [],
   "source": [
    "import numpy as np\n",
    "\n",
    "from torch.utils.data import DataLoader\n",
    "from torchvision import datasets\n",
    "\n",
    "from tqdm.notebook import tqdm\n",
    "\n",
    "import MST\n",
    "import MST.InplaceModules as inM"
   ]
  },
  {
   "cell_type": "code",
   "execution_count": 2,
   "metadata": {},
   "outputs": [],
   "source": [
    "BATCH_SIZE = 32\n",
    "NUM_WORKERS = 0\n",
    "\n",
    "EPOCHS = 10"
   ]
  },
  {
   "cell_type": "code",
   "execution_count": 3,
   "metadata": {},
   "outputs": [],
   "source": [
    "def to_np_arr(a):\n",
    "    a_ = MST.MDT_ARRAY(a).astype(np.float32) / 255\n",
    "    return a_.reshape(1, *a_.shape)"
   ]
  },
  {
   "cell_type": "code",
   "execution_count": 4,
   "metadata": {},
   "outputs": [],
   "source": [
    "transform = to_np_arr\n",
    "\n",
    "train_dataset = datasets.MNIST(\n",
    "    root='datasets',\n",
    "    train=True,\n",
    "    transform=transform,\n",
    "    download=True\n",
    ")\n",
    "\n",
    "test_dataset = datasets.MNIST(\n",
    "    root='datasets',\n",
    "    train=False,\n",
    "    transform=transform,\n",
    "    download=True\n",
    ")\n",
    "\n",
    "train_dataloader = DataLoader(\n",
    "    dataset=train_dataset,\n",
    "    batch_size=BATCH_SIZE,\n",
    "    shuffle=True,\n",
    "    num_workers=NUM_WORKERS,\n",
    ")\n",
    "\n",
    "test_dataloader = DataLoader(\n",
    "    dataset=test_dataset,\n",
    "    batch_size=BATCH_SIZE,\n",
    "    num_workers=NUM_WORKERS,\n",
    ")"
   ]
  },
  {
   "cell_type": "code",
   "execution_count": 5,
   "metadata": {},
   "outputs": [
    {
     "name": "stdout",
     "output_type": "stream",
     "text": [
      "MyNet:\n",
      " └── conv1: Trainable(True)\n",
      " └── pool_1: Trainable(True)\n",
      " └── conv2: Trainable(True)\n",
      " └── pool_2: Trainable(True)\n",
      " └── fc1: Trainable(True)\n",
      " └── fc2: Trainable(True)\n",
      " └── fc3: Trainable(True)\n",
      "\n"
     ]
    }
   ],
   "source": [
    "class MyNet(MST.BasicModule):\n",
    "    def __init__(self):\n",
    "        super().__init__()\n",
    "        self.conv1 = MST.Conv2d(1, 6, 5)\n",
    "        self.pool_1 = MST.Conv2d(6, 6, 2, 2)\n",
    "        self.conv2 = MST.Conv2d(6, 16, 5)\n",
    "        self.pool_2 = MST.Conv2d(16, 16, 2, 2)\n",
    "\n",
    "        self.fc1 = MST.Linear(16 * 4 * 4, 120)\n",
    "        self.fc2 = MST.Linear(120, 84)\n",
    "        self.fc3 = MST.Linear(84, 10)\n",
    "\n",
    "    def forward(self, x):\n",
    "        x = self.conv1(x)\n",
    "\n",
    "        # with torch.no_grad():\n",
    "        #     torchConv = nn.Conv2d(1, 6, 5)\n",
    "\n",
    "        #     torchConv.weight = nn.Parameter(torch.tensor(self.conv1._w.astype(np.float32)))\n",
    "        #     torchConv.bias = nn.Parameter(torch.tensor(self.conv1._bias.astype(np.float32)).flatten())\n",
    "        #     nnres = torchConv(torch.Tensor(inX))\n",
    "        #     nnres = nnres.numpy().round(3).flatten()\n",
    "        #     myres = x.round(3).flatten()\n",
    "        #     bads = np.where(abs(nnres - myres) > 0.001)\n",
    "        #     print(f\"bads: {len(bads[0])}\")\n",
    "        #     for pos in bads[0][:10]:\n",
    "        #         print(f\"[{pos}]: {myres[pos]:.3f} {nnres[pos]:.3f}\")\n",
    "                \n",
    "        x = self.pool_1(inM.Relu(x))\n",
    "        x = self.pool_2(inM.Relu(self.conv2(x)))\n",
    "        x = inM.flatten(x) # flatten all dimensions except batch\n",
    "        x = inM.Relu(self.fc1(x))\n",
    "        x = inM.Relu(self.fc2(x))\n",
    "        x = self.fc3(x)\n",
    "        return x\n",
    "\n",
    "CELoss = MST.CrossEntropyLoss() # MSE | \n",
    "net = MyNet()\n",
    "\n",
    "optimizer = MST.SGD(net, lr=0.01)\n",
    "print(net)"
   ]
  },
  {
   "cell_type": "code",
   "execution_count": 6,
   "metadata": {},
   "outputs": [],
   "source": [
    "def train(net : MST.BasicModule, optimizer : MST.SGD, criterion : MST.BasicModule):\n",
    "    running_loss = 0\n",
    "    for ind, (images, labels) in enumerate(pbar := tqdm(train_dataloader)):\n",
    "        images = MST.MDT_ARRAY(images)\n",
    "        la = labels\n",
    "        labels = MST.MDT_ARRAY(labels)\n",
    "\n",
    "        output = net(images)\n",
    "        loss = criterion(output, labels)\n",
    "\n",
    "        loss.backward()\n",
    "        \n",
    "        optimizer.step()\n",
    "        pbar.set_description(f\"loss: {loss.round(10)}\")\n",
    "        running_loss += loss\n",
    "    train_loss = running_loss / len(train_dataloader)\n",
    "    return train_loss\n",
    "\n",
    "\n",
    "def valid(net : MST.BasicModule, criterion : MST.BasicModule):\n",
    "    running_loss = 0\n",
    "    correct_total = 0\n",
    "    for images, labels in test_dataloader:\n",
    "        images = MST.MDT_ARRAY(images)\n",
    "        labels = MST.MDT_ARRAY(labels)\n",
    "        output = net(images)\n",
    "        loss = criterion(output, labels)\n",
    "        running_loss += loss\n",
    "\n",
    "        pred = np.argmax(output, axis=1, keepdims=True)\n",
    "        correct_total += np.sum(pred[pred==labels.reshape(-1, 1)].astype(bool))\n",
    "        \n",
    "    rec = correct_total / len(test_dataloader.dataset)\n",
    "    valid_loss = running_loss / len(test_dataloader)\n",
    "    return valid_loss, rec"
   ]
  },
  {
   "cell_type": "code",
   "execution_count": 7,
   "metadata": {},
   "outputs": [
    {
     "data": {
      "application/vnd.jupyter.widget-view+json": {
       "model_id": "591d89745dcf4926962014b6a771af57",
       "version_major": 2,
       "version_minor": 0
      },
      "text/plain": [
       "  0%|          | 0/10 [00:00<?, ?it/s]"
      ]
     },
     "metadata": {},
     "output_type": "display_data"
    },
    {
     "data": {
      "application/vnd.jupyter.widget-view+json": {
       "model_id": "85d6e032f6e14f24918142cdd651aee5",
       "version_major": 2,
       "version_minor": 0
      },
      "text/plain": [
       "  0%|          | 0/1875 [00:00<?, ?it/s]"
      ]
     },
     "metadata": {},
     "output_type": "display_data"
    },
    {
     "name": "stdout",
     "output_type": "stream",
     "text": [
      "ERROR: 11.6646 14.3090\n",
      "ERROR: 9.8685 10.8842\n",
      "ERROR: 8.0956 8.1559\n",
      "ERROR: 12.7747 16.2557\n",
      "ERROR: 13.9069 19.9555\n",
      "ERROR: 12.0146 13.0938\n",
      "ERROR: 6.9360 7.1251\n",
      "ERROR: 7.6131 7.6898\n",
      "ERROR: 5.5178 5.6948\n",
      "ERROR: 8.0095 8.0160\n",
      "ERROR: 4.5345 4.6012\n",
      "ERROR: 7.7406 7.8266\n",
      "ERROR: 5.6929 5.7652\n",
      "ERROR: 7.0569 7.0697\n",
      "ERROR: 5.1380 5.4457\n",
      "ERROR: 7.7588 7.8889\n",
      "ERROR: 10.8868 11.1786\n",
      "ERROR: 17.3864 23.7145\n"
     ]
    },
    {
     "ename": "KeyboardInterrupt",
     "evalue": "",
     "output_type": "error",
     "traceback": [
      "\u001b[0;31m---------------------------------------------------------------------------\u001b[0m",
      "\u001b[0;31mKeyboardInterrupt\u001b[0m                         Traceback (most recent call last)",
      "Cell \u001b[0;32mIn[7], line 2\u001b[0m\n\u001b[1;32m      1\u001b[0m \u001b[39mfor\u001b[39;00m epoch \u001b[39min\u001b[39;00m (pbar \u001b[39m:=\u001b[39m tqdm(\u001b[39mrange\u001b[39m(EPOCHS))):\n\u001b[0;32m----> 2\u001b[0m     train_loss \u001b[39m=\u001b[39m train(net, optimizer, CELoss)\n\u001b[1;32m      3\u001b[0m     valid_loss, rec \u001b[39m=\u001b[39m valid(net, CELoss)\n\u001b[1;32m      5\u001b[0m     \u001b[39mprint\u001b[39m(\u001b[39mf\u001b[39m\u001b[39m\"\u001b[39m\u001b[39m[\u001b[39m\u001b[39m{\u001b[39;00mepoch\u001b[39m}\u001b[39;00m\u001b[39m] train/valid loss: \u001b[39m\u001b[39m{\u001b[39;00mtrain_loss\u001b[39m:\u001b[39;00m\u001b[39m.4f\u001b[39m\u001b[39m}\u001b[39;00m\u001b[39m/\u001b[39m\u001b[39m{\u001b[39;00mvalid_loss\u001b[39m:\u001b[39;00m\u001b[39m.4f\u001b[39m\u001b[39m}\u001b[39;00m\u001b[39m rec: \u001b[39m\u001b[39m{\u001b[39;00mrec\u001b[39m:\u001b[39;00m\u001b[39m.4f\u001b[39m\u001b[39m}\u001b[39;00m\u001b[39m\"\u001b[39m)\n",
      "Cell \u001b[0;32mIn[6], line 17\u001b[0m, in \u001b[0;36mtrain\u001b[0;34m(net, optimizer, criterion)\u001b[0m\n\u001b[1;32m     14\u001b[0m     \u001b[39mprint\u001b[39m(\u001b[39mf\u001b[39m\u001b[39m\"\u001b[39m\u001b[39mERROR: \u001b[39m\u001b[39m{\u001b[39;00mloss\u001b[39m:\u001b[39;00m\u001b[39m.4f\u001b[39m\u001b[39m}\u001b[39;00m\u001b[39m \u001b[39m\u001b[39m{\u001b[39;00mloss_da\u001b[39m:\u001b[39;00m\u001b[39m.4f\u001b[39m\u001b[39m}\u001b[39;00m\u001b[39m\"\u001b[39m)\n\u001b[1;32m     15\u001b[0m     exit()\n\u001b[0;32m---> 17\u001b[0m loss\u001b[39m.\u001b[39;49mbackward()\n\u001b[1;32m     19\u001b[0m optimizer\u001b[39m.\u001b[39mstep()\n\u001b[1;32m     20\u001b[0m pbar\u001b[39m.\u001b[39mset_description(\u001b[39mf\u001b[39m\u001b[39m\"\u001b[39m\u001b[39mloss: \u001b[39m\u001b[39m{\u001b[39;00mloss\u001b[39m.\u001b[39mround(\u001b[39m10\u001b[39m)\u001b[39m}\u001b[39;00m\u001b[39m\"\u001b[39m)\n",
      "File \u001b[0;32m~/progs/AI_Tasks/04_Task/MST/MDT.py:8\u001b[0m, in \u001b[0;36mMDT_REFACTOR_ARRAY.backward\u001b[0;34m(self, dOut)\u001b[0m\n\u001b[1;32m      7\u001b[0m \u001b[39mdef\u001b[39;00m \u001b[39mbackward\u001b[39m(\u001b[39mself\u001b[39m, dOut \u001b[39m=\u001b[39m \u001b[39mNone\u001b[39;00m):\n\u001b[0;32m----> 8\u001b[0m     \u001b[39mself\u001b[39;49m\u001b[39m.\u001b[39;49m_source\u001b[39m.\u001b[39;49mbackward(dOut)\n",
      "File \u001b[0;32m~/progs/AI_Tasks/04_Task/MST/BasicModules.py:90\u001b[0m, in \u001b[0;36mBasicModule.backward\u001b[0;34m(self, dOut)\u001b[0m\n\u001b[1;32m     84\u001b[0m \u001b[39mdef\u001b[39;00m \u001b[39mbackward\u001b[39m(\u001b[39mself\u001b[39m, dOut \u001b[39m=\u001b[39m \u001b[39mNone\u001b[39;00m):\n\u001b[1;32m     85\u001b[0m     \u001b[39m# !TODO переделать backward и backward_impl\u001b[39;00m\n\u001b[1;32m     86\u001b[0m     \u001b[39m# Чтобы при создании нового модуля со своим backprop пользователь создавал функцию backward\u001b[39;00m\n\u001b[1;32m     87\u001b[0m     \u001b[39m# А в свою очередь auto-backprop вызывал бы backward_impl, который бы вызывал backward пользователя\u001b[39;00m\n\u001b[1;32m     88\u001b[0m     \u001b[39m# !TODO сделать отдельную функцию для начала раскручивания авто-бэкпропа\u001b[39;00m\n\u001b[1;32m     89\u001b[0m     \u001b[39mif\u001b[39;00m \u001b[39mself\u001b[39m\u001b[39m.\u001b[39mbackward_impl \u001b[39mis\u001b[39;00m \u001b[39mnot\u001b[39;00m \u001b[39mNone\u001b[39;00m:\n\u001b[0;32m---> 90\u001b[0m         \u001b[39mreturn\u001b[39;00m \u001b[39mself\u001b[39;49m\u001b[39m.\u001b[39;49mbackward_impl(dOut)\n\u001b[1;32m     91\u001b[0m     \u001b[39mraise\u001b[39;00m \u001b[39mNotImplementedError\u001b[39;00m(\u001b[39mf\u001b[39m\u001b[39m\"\u001b[39m\u001b[39m[\u001b[39m\u001b[39m{\u001b[39;00m\u001b[39mtype\u001b[39m(\u001b[39mself\u001b[39m)\u001b[39m.\u001b[39m\u001b[39m__name__\u001b[39m\u001b[39m}\u001b[39;00m\u001b[39m] is missing the required \u001b[39m\u001b[39m\\\"\u001b[39;00m\u001b[39mbackward_impl\u001b[39m\u001b[39m\\\"\u001b[39;00m\u001b[39m function\u001b[39m\u001b[39m\"\u001b[39m)\n",
      "File \u001b[0;32m~/progs/AI_Tasks/04_Task/MST/Losses.py:78\u001b[0m, in \u001b[0;36mCrossEntropyLoss.backward_impl\u001b[0;34m(self, dOut)\u001b[0m\n\u001b[1;32m     76\u001b[0m         \u001b[39mfor\u001b[39;00m inX \u001b[39min\u001b[39;00m \u001b[39mself\u001b[39m\u001b[39m.\u001b[39m_hid_inX:\n\u001b[1;32m     77\u001b[0m             \u001b[39mif\u001b[39;00m inX\u001b[39m.\u001b[39m_source \u001b[39mis\u001b[39;00m \u001b[39mnot\u001b[39;00m \u001b[39mNone\u001b[39;00m:\n\u001b[0;32m---> 78\u001b[0m                 inX\u001b[39m.\u001b[39;49m_source\u001b[39m.\u001b[39;49m_auto_backward(dLoss)\n\u001b[1;32m     79\u001b[0m \u001b[39melse\u001b[39;00m:\n\u001b[1;32m     80\u001b[0m     \u001b[39mraise\u001b[39;00m \u001b[39mValueError\u001b[39;00m(\u001b[39m\"\u001b[39m\u001b[39mTODO text for error\u001b[39m\u001b[39m\"\u001b[39m)\n",
      "File \u001b[0;32m~/progs/AI_Tasks/04_Task/MST/BasicModules.py:114\u001b[0m, in \u001b[0;36mBasicModule._auto_backward\u001b[0;34m(self, dOut)\u001b[0m\n\u001b[1;32m    112\u001b[0m         \u001b[39mfor\u001b[39;00m inArg \u001b[39min\u001b[39;00m \u001b[39mself\u001b[39m\u001b[39m.\u001b[39m_hid_inX:\n\u001b[1;32m    113\u001b[0m             \u001b[39mif\u001b[39;00m inArg\u001b[39m.\u001b[39m_source \u001b[39mis\u001b[39;00m \u001b[39mnot\u001b[39;00m \u001b[39mNone\u001b[39;00m:\n\u001b[0;32m--> 114\u001b[0m                 inArg\u001b[39m.\u001b[39;49m_source\u001b[39m.\u001b[39;49m_auto_backward(dOut)\n\u001b[1;32m    116\u001b[0m     \u001b[39mself\u001b[39m\u001b[39m.\u001b[39m__zero_auto_backward_state()\n\u001b[1;32m    117\u001b[0m \u001b[39melse\u001b[39;00m:\n",
      "File \u001b[0;32m~/progs/AI_Tasks/04_Task/MST/BasicModules.py:114\u001b[0m, in \u001b[0;36mBasicModule._auto_backward\u001b[0;34m(self, dOut)\u001b[0m\n\u001b[1;32m    112\u001b[0m         \u001b[39mfor\u001b[39;00m inArg \u001b[39min\u001b[39;00m \u001b[39mself\u001b[39m\u001b[39m.\u001b[39m_hid_inX:\n\u001b[1;32m    113\u001b[0m             \u001b[39mif\u001b[39;00m inArg\u001b[39m.\u001b[39m_source \u001b[39mis\u001b[39;00m \u001b[39mnot\u001b[39;00m \u001b[39mNone\u001b[39;00m:\n\u001b[0;32m--> 114\u001b[0m                 inArg\u001b[39m.\u001b[39;49m_source\u001b[39m.\u001b[39;49m_auto_backward(dOut)\n\u001b[1;32m    116\u001b[0m     \u001b[39mself\u001b[39m\u001b[39m.\u001b[39m__zero_auto_backward_state()\n\u001b[1;32m    117\u001b[0m \u001b[39melse\u001b[39;00m:\n",
      "    \u001b[0;31m[... skipping similar frames: BasicModule._auto_backward at line 114 (8 times)]\u001b[0m\n",
      "File \u001b[0;32m~/progs/AI_Tasks/04_Task/MST/BasicModules.py:114\u001b[0m, in \u001b[0;36mBasicModule._auto_backward\u001b[0;34m(self, dOut)\u001b[0m\n\u001b[1;32m    112\u001b[0m         \u001b[39mfor\u001b[39;00m inArg \u001b[39min\u001b[39;00m \u001b[39mself\u001b[39m\u001b[39m.\u001b[39m_hid_inX:\n\u001b[1;32m    113\u001b[0m             \u001b[39mif\u001b[39;00m inArg\u001b[39m.\u001b[39m_source \u001b[39mis\u001b[39;00m \u001b[39mnot\u001b[39;00m \u001b[39mNone\u001b[39;00m:\n\u001b[0;32m--> 114\u001b[0m                 inArg\u001b[39m.\u001b[39;49m_source\u001b[39m.\u001b[39;49m_auto_backward(dOut)\n\u001b[1;32m    116\u001b[0m     \u001b[39mself\u001b[39m\u001b[39m.\u001b[39m__zero_auto_backward_state()\n\u001b[1;32m    117\u001b[0m \u001b[39melse\u001b[39;00m:\n",
      "File \u001b[0;32m~/progs/AI_Tasks/04_Task/MST/BasicModules.py:110\u001b[0m, in \u001b[0;36mBasicModule._auto_backward\u001b[0;34m(self, dOut)\u001b[0m\n\u001b[1;32m    107\u001b[0m \u001b[39mif\u001b[39;00m \u001b[39mself\u001b[39m\u001b[39m.\u001b[39m_hid_outX \u001b[39mis\u001b[39;00m \u001b[39mnot\u001b[39;00m \u001b[39mNone\u001b[39;00m:\n\u001b[1;32m    108\u001b[0m     \u001b[39mif\u001b[39;00m \u001b[39mself\u001b[39m\u001b[39m.\u001b[39mbackward_impl \u001b[39mis\u001b[39;00m \u001b[39mnot\u001b[39;00m \u001b[39mNone\u001b[39;00m:\n\u001b[1;32m    109\u001b[0m         \u001b[39m# !TODO учесть что у нас может возвращатся несколько производных для нескольких входов и нам нужно будет их отправлять \u001b[39;00m\n\u001b[0;32m--> 110\u001b[0m         dOut \u001b[39m=\u001b[39m \u001b[39mself\u001b[39;49m\u001b[39m.\u001b[39;49mbackward_impl(dOut)\n\u001b[1;32m    111\u001b[0m     \u001b[39mif\u001b[39;00m \u001b[39mself\u001b[39m\u001b[39m.\u001b[39m_hid_inX \u001b[39mis\u001b[39;00m \u001b[39mnot\u001b[39;00m \u001b[39mNone\u001b[39;00m:\n\u001b[1;32m    112\u001b[0m         \u001b[39mfor\u001b[39;00m inArg \u001b[39min\u001b[39;00m \u001b[39mself\u001b[39m\u001b[39m.\u001b[39m_hid_inX:\n",
      "File \u001b[0;32m~/progs/AI_Tasks/04_Task/MST/Layers/Convolution.py:70\u001b[0m, in \u001b[0;36mConv2d.backward_impl\u001b[0;34m(self, dOut)\u001b[0m\n\u001b[1;32m     67\u001b[0m \u001b[39mdef\u001b[39;00m \u001b[39mbackward_impl\u001b[39m(\u001b[39mself\u001b[39m, dOut\u001b[39m=\u001b[39m\u001b[39mNone\u001b[39;00m):\n\u001b[1;32m     68\u001b[0m     flatten_dOut \u001b[39m=\u001b[39m dOut\u001b[39m.\u001b[39mreshape(\u001b[39mself\u001b[39m\u001b[39m.\u001b[39m_outC, \u001b[39m-\u001b[39m\u001b[39m1\u001b[39m)\n\u001b[0;32m---> 70\u001b[0m     \u001b[39mself\u001b[39m\u001b[39m.\u001b[39m_dw \u001b[39m=\u001b[39m np\u001b[39m.\u001b[39;49mdot(flatten_dOut, \u001b[39mself\u001b[39;49m\u001b[39m.\u001b[39;49m_inX_cols\u001b[39m.\u001b[39;49mT)\u001b[39m.\u001b[39mreshape(\u001b[39mself\u001b[39m\u001b[39m.\u001b[39m_w\u001b[39m.\u001b[39mshape)\n\u001b[1;32m     72\u001b[0m     \u001b[39mself\u001b[39m\u001b[39m.\u001b[39m_dinX \u001b[39m=\u001b[39m np\u001b[39m.\u001b[39mdot(\u001b[39mself\u001b[39m\u001b[39m.\u001b[39m_flatten_w\u001b[39m.\u001b[39mT, flatten_dOut)\n\u001b[1;32m     73\u001b[0m     \u001b[39mself\u001b[39m\u001b[39m.\u001b[39m_dinX \u001b[39m=\u001b[39m col2im_2(\u001b[39mself\u001b[39m\u001b[39m.\u001b[39m_dinX, \u001b[39mself\u001b[39m\u001b[39m.\u001b[39m_inX\u001b[39m.\u001b[39mshape, \u001b[39mself\u001b[39m\u001b[39m.\u001b[39m_output_size, \u001b[39mself\u001b[39m\u001b[39m.\u001b[39m_kernel_size, \u001b[39mself\u001b[39m\u001b[39m.\u001b[39m_stride, \u001b[39mself\u001b[39m\u001b[39m.\u001b[39m_padding)\n",
      "File \u001b[0;32m<__array_function__ internals>:200\u001b[0m, in \u001b[0;36mdot\u001b[0;34m(*args, **kwargs)\u001b[0m\n",
      "\u001b[0;31mKeyboardInterrupt\u001b[0m: "
     ]
    },
    {
     "ename": "",
     "evalue": "",
     "output_type": "error",
     "traceback": [
      "\u001b[1;31mThe Kernel crashed while executing code in the the current cell or a previous cell. Please review the code in the cell(s) to identify a possible cause of the failure. Click <a href='https://aka.ms/vscodeJupyterKernelCrash'>here</a> for more info. View Jupyter <a href='command:jupyter.viewOutput'>log</a> for further details."
     ]
    }
   ],
   "source": [
    "for epoch in (pbar := tqdm(range(EPOCHS))):\n",
    "    train_loss = train(net, optimizer, CELoss)\n",
    "    valid_loss, rec = valid(net, CELoss)\n",
    "\n",
    "    print(f\"[{epoch}] train/valid loss: {train_loss:.4f}/{valid_loss:.4f} rec: {rec:.4f}\")\n",
    "    pbar.set_description(f\"train/valid loss: {train_loss:.4f}/{valid_loss:.4f} rec: {rec:.4f}\")"
   ]
  }
 ],
 "metadata": {
  "kernelspec": {
   "display_name": "AIenv",
   "language": "python",
   "name": "python3"
  },
  "language_info": {
   "codemirror_mode": {
    "name": "ipython",
    "version": 3
   },
   "file_extension": ".py",
   "mimetype": "text/x-python",
   "name": "python",
   "nbconvert_exporter": "python",
   "pygments_lexer": "ipython3",
   "version": "3.10.10"
  },
  "orig_nbformat": 4
 },
 "nbformat": 4,
 "nbformat_minor": 2
}
