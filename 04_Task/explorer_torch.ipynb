{
 "cells": [
  {
   "cell_type": "code",
   "execution_count": 1,
   "metadata": {},
   "outputs": [],
   "source": [
    "import numpy as np\n",
    "\n",
    "from torch.utils.data import DataLoader\n",
    "from torchvision import datasets\n",
    "\n",
    "from tqdm.notebook import tqdm\n",
    "\n",
    "import torch\n",
    "import torch.nn as nn\n",
    "import torchvision.transforms as Trans\n",
    "\n",
    "import torch.nn.init as init\n"
   ]
  },
  {
   "cell_type": "code",
   "execution_count": 39,
   "metadata": {},
   "outputs": [
    {
     "name": "stdout",
     "output_type": "stream",
     "text": [
      "tensor(0.6043)\n"
     ]
    }
   ],
   "source": [
    "print(torch.max(init.kaiming_normal_(torch.empty(size=(28*28, 100)), nonlinearity='relu')))"
   ]
  },
  {
   "cell_type": "code",
   "execution_count": 29,
   "metadata": {},
   "outputs": [],
   "source": [
    "BATCH_SIZE = 32\n",
    "NUM_WORKERS = 4\n",
    "\n",
    "EPOCHS = 10"
   ]
  },
  {
   "cell_type": "code",
   "execution_count": 30,
   "metadata": {},
   "outputs": [],
   "source": [
    "transform = Trans.ToTensor()\n",
    "\n",
    "\n",
    "train_dataset = datasets.MNIST(\n",
    "    root='datasets',\n",
    "    train=True,\n",
    "    transform=transform,\n",
    "    download=True\n",
    ")\n",
    "\n",
    "test_dataset = datasets.MNIST(\n",
    "    root='datasets',\n",
    "    train=False,\n",
    "    transform=transform,\n",
    "    download=True\n",
    ")\n",
    "\n",
    "train_dataloader = DataLoader(\n",
    "    dataset=train_dataset,\n",
    "    batch_size=BATCH_SIZE,\n",
    "    shuffle=True,\n",
    "    num_workers=NUM_WORKERS,\n",
    ")\n",
    "\n",
    "test_dataloader = DataLoader(\n",
    "    dataset=test_dataset,\n",
    "    batch_size=BATCH_SIZE,\n",
    "    num_workers=NUM_WORKERS,\n",
    ")"
   ]
  },
  {
   "cell_type": "code",
   "execution_count": 41,
   "metadata": {},
   "outputs": [
    {
     "name": "stdout",
     "output_type": "stream",
     "text": [
      "tensor(1.)\n",
      "tensor(0.8363, grad_fn=<MaxBackward1>)\n",
      "tensor(0.2428, grad_fn=<MaxBackward1>)\n"
     ]
    }
   ],
   "source": [
    "a = test_dataset[0][0]\n",
    "a = a.reshape(1, -1)\n",
    "l = nn.Linear(28*28, 100)\n",
    "init.kaiming_normal_(l.weight, nonlinearity='relu')\n",
    "\n",
    "b= l(a)\n",
    "print(torch.max(a))\n",
    "print(torch.max(b))\n",
    "print(torch.max(l.weight))\n"
   ]
  },
  {
   "cell_type": "code",
   "execution_count": 10,
   "metadata": {},
   "outputs": [],
   "source": [
    "class MyNet(nn.Module):\n",
    "    def __init__(self):\n",
    "        super().__init__()\n",
    "\n",
    "        self.flatten = nn.Flatten()\n",
    "\n",
    "        self.fc1 = nn.Sequential(\n",
    "            nn.Linear(28*28, 100),\n",
    "            nn.Relu()\n",
    "        )\n",
    "\n",
    "        self.fc2 = nn.Sequential(\n",
    "            nn.Linear(100, 50),\n",
    "            nn.Relu(),\n",
    "        )\n",
    "\n",
    "        self.fcRes = nn.Sequential(\n",
    "            nn.Linear(50, 10),\n",
    "            nn.Relu()\n",
    "        )\n",
    "\n",
    "    def forward(self, x):\n",
    "        x = self.flatten(x)\n",
    "        x = self.fc1(x)\n",
    "        x = self.fc2(x)\n",
    "        x = self.fcRes(x)\n",
    "        return x\n",
    "\n",
    "CELoss = nn.CrossEntropyLoss()\n",
    "net = MyNet()\n",
    "\n",
    "optimizer = torch.optim.SGD(net.parameters(), lr=0.01, momentum=0.9)"
   ]
  },
  {
   "cell_type": "code",
   "execution_count": 11,
   "metadata": {},
   "outputs": [],
   "source": [
    "def train(net, optimizer, criterion):\n",
    "    running_loss = 0\n",
    "    for images, labels in train_dataloader:\n",
    "        \n",
    "        optimizer.zero_grad()\n",
    "\n",
    "        output = net(images)\n",
    "\n",
    "        loss = criterion(output, labels)\n",
    "        loss.backward()\n",
    "        optimizer.step()\n",
    "\n",
    "        running_loss += loss\n",
    "    with torch.no_grad():\n",
    "        train_loss = running_loss / len(train_dataloader)\n",
    "    return train_loss\n",
    "\n",
    "\n",
    "def valid(net, criterion):\n",
    "    running_loss = 0\n",
    "    correct_total = 0\n",
    "    with torch.no_grad():\n",
    "        for images, labels in test_dataloader:\n",
    "            output = net(images)\n",
    "\n",
    "            loss = criterion(output, labels)\n",
    "            running_loss += loss\n",
    "\n",
    "            pred = output.max(dim = 1, keepdim=True)[1]\n",
    "            correct_total += pred.eq(labels.view_as(pred)).sum()\n",
    "            \n",
    "        precison = correct_total / len(test_dataloader.dataset)\n",
    "        valid_loss = running_loss / len(test_dataloader)\n",
    "        return valid_loss, precison"
   ]
  },
  {
   "cell_type": "code",
   "execution_count": 12,
   "metadata": {},
   "outputs": [
    {
     "data": {
      "application/vnd.jupyter.widget-view+json": {
       "model_id": "c753ab4a5b7242038dc1a22ac136638f",
       "version_major": 2,
       "version_minor": 0
      },
      "text/plain": [
       "  0%|          | 0/10 [00:00<?, ?it/s]"
      ]
     },
     "metadata": {},
     "output_type": "display_data"
    },
    {
     "name": "stdout",
     "output_type": "stream",
     "text": [
      "[0] train/valid loss: 2.2967/2.2838 prec: 0.1135\n",
      "[1] train/valid loss: 2.1400/1.9457 prec: 0.5384\n",
      "[2] train/valid loss: 1.8487/1.7904 prec: 0.6173\n",
      "[3] train/valid loss: 1.7696/1.7531 prec: 0.6235\n",
      "[4] train/valid loss: 1.7417/1.7294 prec: 0.6248\n",
      "[5] train/valid loss: 1.7213/1.7103 prec: 0.5927\n",
      "[6] train/valid loss: 1.7033/1.6921 prec: 0.5683\n",
      "[7] train/valid loss: 1.6877/1.6777 prec: 0.5480\n",
      "[8] train/valid loss: 1.6762/1.6676 prec: 0.5570\n",
      "[9] train/valid loss: 1.6668/1.6586 prec: 0.5736\n"
     ]
    }
   ],
   "source": [
    "for epoch in (pbar := tqdm(range(EPOCHS))):\n",
    "    train_loss = train(net, optimizer, CELoss)\n",
    "    valid_loss, prec = valid(net, CELoss)\n",
    "\n",
    "    print(f\"[{epoch}] train/valid loss: {train_loss:.4f}/{valid_loss:.4f} prec: {prec:.4f}\")\n",
    "    pbar.set_description(f\"train/valid loss: {train_loss:.4f}/{valid_loss:.4f} prec: {prec:.4f}\")"
   ]
  }
 ],
 "metadata": {
  "kernelspec": {
   "display_name": "AIenv",
   "language": "python",
   "name": "python3"
  },
  "language_info": {
   "codemirror_mode": {
    "name": "ipython",
    "version": 3
   },
   "file_extension": ".py",
   "mimetype": "text/x-python",
   "name": "python",
   "nbconvert_exporter": "python",
   "pygments_lexer": "ipython3",
   "version": "3.10.10"
  },
  "orig_nbformat": 4
 },
 "nbformat": 4,
 "nbformat_minor": 2
}
