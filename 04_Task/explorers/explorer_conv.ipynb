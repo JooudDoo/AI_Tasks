{
 "cells": [
  {
   "cell_type": "code",
   "execution_count": 1,
   "metadata": {},
   "outputs": [],
   "source": [
    "import numpy as np\n",
    "\n",
    "from torch.utils.data import DataLoader\n",
    "from torchvision import datasets\n",
    "\n",
    "from tqdm.notebook import tqdm\n",
    "\n",
    "import MST\n",
    "import MST.InplaceModules as inM"
   ]
  },
  {
   "cell_type": "code",
   "execution_count": 2,
   "metadata": {},
   "outputs": [],
   "source": [
    "BATCH_SIZE = 32\n",
    "NUM_WORKERS = 0\n",
    "\n",
    "EPOCHS = 10"
   ]
  },
  {
   "cell_type": "code",
   "execution_count": 3,
   "metadata": {},
   "outputs": [],
   "source": [
    "def to_np_arr(a):\n",
    "    a_ = MST.MDT_ARRAY(a).astype(np.float32) / 255\n",
    "    return a_.reshape(1, *a_.shape)"
   ]
  },
  {
   "cell_type": "code",
   "execution_count": 4,
   "metadata": {},
   "outputs": [],
   "source": [
    "transform = to_np_arr\n",
    "\n",
    "train_dataset = datasets.MNIST(\n",
    "    root='datasets',\n",
    "    train=True,\n",
    "    transform=transform,\n",
    "    download=True\n",
    ")\n",
    "\n",
    "test_dataset = datasets.MNIST(\n",
    "    root='datasets',\n",
    "    train=False,\n",
    "    transform=transform,\n",
    "    download=True\n",
    ")\n",
    "\n",
    "train_dataloader = DataLoader(\n",
    "    dataset=train_dataset,\n",
    "    batch_size=BATCH_SIZE,\n",
    "    shuffle=True,\n",
    "    num_workers=NUM_WORKERS,\n",
    ")\n",
    "\n",
    "test_dataloader = DataLoader(\n",
    "    dataset=test_dataset,\n",
    "    batch_size=BATCH_SIZE,\n",
    "    num_workers=NUM_WORKERS,\n",
    ")"
   ]
  },
  {
   "cell_type": "code",
   "execution_count": 5,
   "metadata": {},
   "outputs": [
    {
     "name": "stdout",
     "output_type": "stream",
     "text": [
      "MyNet:\n",
      " └── conv1 (Sequential): \n",
      "\t └── Conv2d: Trainable(True) \n",
      "\t └── ReLU: Trainable(False) \n",
      "\t └── MaxPool2d: Trainable(False) \n",
      "\n",
      " └── conv2 (Sequential): \n",
      "\t └── Conv2d: Trainable(True) \n",
      "\t └── ReLU: Trainable(False) \n",
      "\t └── MaxPool2d: Trainable(False) \n",
      "\n",
      " └── out (Sequential): \n",
      "\t └── Linear: Trainable(True) \n",
      "\n",
      "\n"
     ]
    }
   ],
   "source": [
    "class MyNet(MST.BasicModule):\n",
    "    def __init__(self):\n",
    "        super().__init__()\n",
    "        self.conv1 = MST.Sequential(         \n",
    "            MST.Conv2d(\n",
    "                in_channels=1,              \n",
    "                out_channels=24,            \n",
    "                kernel_size=5,\n",
    "                stride=2,\n",
    "                padding=2,\n",
    "            ),\n",
    "            MST.ReLU(),\n",
    "            MST.MaxPool2d(2),\n",
    "        )\n",
    "        self.conv2 = MST.Sequential(         \n",
    "            MST.Conv2d(24, 32, 3, 1, 1),\n",
    "            MST.ReLU(),\n",
    "            MST.MaxPool2d(2),\n",
    "        )\n",
    "        self.out = MST.Sequential(\n",
    "            MST.Linear(32 * 3 * 3, 10),\n",
    "        )\n",
    "        \n",
    "    def forward(self, x):\n",
    "        x = self.conv1(x)\n",
    "        x = self.conv2(x)\n",
    "        x = inM.flatten(x)\n",
    "        output = self.out(x)\n",
    "        return output\n",
    "\n",
    "CELoss = MST.CrossEntropyLoss()\n",
    "net = MyNet()\n",
    "\n",
    "optimizer = MST.SGD(net, lr=0.01, momentum=0.9)\n",
    "print(net)"
   ]
  },
  {
   "cell_type": "code",
   "execution_count": null,
   "metadata": {},
   "outputs": [],
   "source": [
    "import torch\n",
    "import torch.nn as nn\n",
    "\n",
    "class "
   ]
  },
  {
   "cell_type": "code",
   "execution_count": 6,
   "metadata": {},
   "outputs": [],
   "source": [
    "\n",
    "\n",
    "def train(net : MST.BasicModule, optimizer : MST.SGD, criterion : MST.BasicModule):\n",
    "    running_loss = 0\n",
    "    correct_total = 0\n",
    "    for ind, (images, labels) in enumerate(pbar := tqdm(train_dataloader)):\n",
    "        images = MST.MDT_ARRAY(images)\n",
    "        la = labels\n",
    "        labels = MST.MDT_ARRAY(labels)\n",
    "\n",
    "        output = net(images)\n",
    "        loss = criterion(output, labels)\n",
    "\n",
    "        CE = nn.functional.cross_entropy\n",
    "        loss_da = CE(torch.Tensor(output), la)\n",
    "\n",
    "        loss.backward()\n",
    "        \n",
    "        optimizer.step()\n",
    "        running_loss += loss\n",
    "        pred = np.argmax(output, axis=1, keepdims=True)\n",
    "        correct_total_bt = np.sum(pred[pred==labels.reshape(-1, 1)].astype(bool))\n",
    "        correct_total += correct_total_bt\n",
    "\n",
    "        pbar.set_description(f\"my {loss:.4f} nn {loss_da:.4f} diff: {(loss_da-loss):.4f} acc: {(correct_total_bt/len(images)):.2f}\")\n",
    "    train_loss = running_loss / len(train_dataloader)\n",
    "    return train_loss\n",
    "\n",
    "\n",
    "def valid(net : MST.BasicModule, criterion : MST.BasicModule):\n",
    "    running_loss = 0\n",
    "    correct_total = 0\n",
    "    for images, labels in test_dataloader:\n",
    "        images = MST.MDT_ARRAY(images)\n",
    "        labels = MST.MDT_ARRAY(labels)\n",
    "        output = net(images)\n",
    "        loss = criterion(output, labels)\n",
    "        running_loss += loss\n",
    "\n",
    "        pred = np.argmax(output, axis=1, keepdims=True)\n",
    "        correct_total += np.sum(pred[pred==labels.reshape(-1, 1)].astype(bool))\n",
    "        \n",
    "    rec = correct_total / len(test_dataloader.dataset)\n",
    "    valid_loss = running_loss / len(test_dataloader)\n",
    "    return valid_loss, rec"
   ]
  },
  {
   "cell_type": "code",
   "execution_count": 7,
   "metadata": {},
   "outputs": [
    {
     "data": {
      "application/vnd.jupyter.widget-view+json": {
       "model_id": "adcee42536d84a79b35e7b4d0ac6e6e2",
       "version_major": 2,
       "version_minor": 0
      },
      "text/plain": [
       "  0%|          | 0/10 [00:00<?, ?it/s]"
      ]
     },
     "metadata": {},
     "output_type": "display_data"
    },
    {
     "data": {
      "application/vnd.jupyter.widget-view+json": {
       "model_id": "4dddfea1612749d98a92f8afa615b214",
       "version_major": 2,
       "version_minor": 0
      },
      "text/plain": [
       "  0%|          | 0/1875 [00:00<?, ?it/s]"
      ]
     },
     "metadata": {},
     "output_type": "display_data"
    },
    {
     "ename": "KeyboardInterrupt",
     "evalue": "",
     "output_type": "error",
     "traceback": [
      "\u001b[0;31m---------------------------------------------------------------------------\u001b[0m",
      "\u001b[0;31mKeyboardInterrupt\u001b[0m                         Traceback (most recent call last)",
      "Cell \u001b[0;32mIn[7], line 2\u001b[0m\n\u001b[1;32m      1\u001b[0m \u001b[39mfor\u001b[39;00m epoch \u001b[39min\u001b[39;00m (pbar \u001b[39m:=\u001b[39m tqdm(\u001b[39mrange\u001b[39m(EPOCHS))):\n\u001b[0;32m----> 2\u001b[0m     train_loss \u001b[39m=\u001b[39m train(net, optimizer, CELoss)\n\u001b[1;32m      3\u001b[0m     valid_loss, rec \u001b[39m=\u001b[39m valid(net, CELoss)\n\u001b[1;32m      5\u001b[0m     \u001b[39mprint\u001b[39m(\u001b[39mf\u001b[39m\u001b[39m\"\u001b[39m\u001b[39m[\u001b[39m\u001b[39m{\u001b[39;00mepoch\u001b[39m}\u001b[39;00m\u001b[39m] train/valid loss: \u001b[39m\u001b[39m{\u001b[39;00mtrain_loss\u001b[39m:\u001b[39;00m\u001b[39m.4f\u001b[39m\u001b[39m}\u001b[39;00m\u001b[39m/\u001b[39m\u001b[39m{\u001b[39;00mvalid_loss\u001b[39m:\u001b[39;00m\u001b[39m.4f\u001b[39m\u001b[39m}\u001b[39;00m\u001b[39m acc: \u001b[39m\u001b[39m{\u001b[39;00mrec\u001b[39m:\u001b[39;00m\u001b[39m.4f\u001b[39m\u001b[39m}\u001b[39;00m\u001b[39m\"\u001b[39m)\n",
      "Cell \u001b[0;32mIn[6], line 19\u001b[0m, in \u001b[0;36mtrain\u001b[0;34m(net, optimizer, criterion)\u001b[0m\n\u001b[1;32m     16\u001b[0m CE \u001b[39m=\u001b[39m nn\u001b[39m.\u001b[39mfunctional\u001b[39m.\u001b[39mcross_entropy\n\u001b[1;32m     17\u001b[0m loss_da \u001b[39m=\u001b[39m CE(torch\u001b[39m.\u001b[39mTensor(output), la)\n\u001b[0;32m---> 19\u001b[0m loss\u001b[39m.\u001b[39;49mbackward()\n\u001b[1;32m     21\u001b[0m optimizer\u001b[39m.\u001b[39mstep()\n\u001b[1;32m     22\u001b[0m running_loss \u001b[39m+\u001b[39m\u001b[39m=\u001b[39m loss\n",
      "File \u001b[0;32m~/progs/AI_Tasks/04_Task/MST/MDT.py:8\u001b[0m, in \u001b[0;36mMDT_REFACTOR_ARRAY.backward\u001b[0;34m(self, dOut)\u001b[0m\n\u001b[1;32m      7\u001b[0m \u001b[39mdef\u001b[39;00m \u001b[39mbackward\u001b[39m(\u001b[39mself\u001b[39m, dOut \u001b[39m=\u001b[39m \u001b[39mNone\u001b[39;00m):\n\u001b[0;32m----> 8\u001b[0m     \u001b[39mself\u001b[39;49m\u001b[39m.\u001b[39;49m_source\u001b[39m.\u001b[39;49m_auto_backward(dOut)\n",
      "File \u001b[0;32m~/progs/AI_Tasks/04_Task/MST/BasicModules.py:133\u001b[0m, in \u001b[0;36mBasicModule._auto_backward\u001b[0;34m(self, dOut)\u001b[0m\n\u001b[1;32m    131\u001b[0m         \u001b[39mfor\u001b[39;00m inArg \u001b[39min\u001b[39;00m \u001b[39mself\u001b[39m\u001b[39m.\u001b[39m_hid_inX:\n\u001b[1;32m    132\u001b[0m             \u001b[39mif\u001b[39;00m inArg\u001b[39m.\u001b[39m_source \u001b[39mis\u001b[39;00m \u001b[39mnot\u001b[39;00m \u001b[39mNone\u001b[39;00m:\n\u001b[0;32m--> 133\u001b[0m                 inArg\u001b[39m.\u001b[39;49m_source\u001b[39m.\u001b[39;49m_auto_backward()\n\u001b[1;32m    135\u001b[0m     \u001b[39mself\u001b[39m\u001b[39m.\u001b[39m__zero_auto_backward_state()\n\u001b[1;32m    136\u001b[0m \u001b[39melse\u001b[39;00m:\n",
      "File \u001b[0;32m~/progs/AI_Tasks/04_Task/MST/BasicModules.py:133\u001b[0m, in \u001b[0;36mBasicModule._auto_backward\u001b[0;34m(self, dOut)\u001b[0m\n\u001b[1;32m    131\u001b[0m         \u001b[39mfor\u001b[39;00m inArg \u001b[39min\u001b[39;00m \u001b[39mself\u001b[39m\u001b[39m.\u001b[39m_hid_inX:\n\u001b[1;32m    132\u001b[0m             \u001b[39mif\u001b[39;00m inArg\u001b[39m.\u001b[39m_source \u001b[39mis\u001b[39;00m \u001b[39mnot\u001b[39;00m \u001b[39mNone\u001b[39;00m:\n\u001b[0;32m--> 133\u001b[0m                 inArg\u001b[39m.\u001b[39;49m_source\u001b[39m.\u001b[39;49m_auto_backward()\n\u001b[1;32m    135\u001b[0m     \u001b[39mself\u001b[39m\u001b[39m.\u001b[39m__zero_auto_backward_state()\n\u001b[1;32m    136\u001b[0m \u001b[39melse\u001b[39;00m:\n",
      "    \u001b[0;31m[... skipping similar frames: BasicModule._auto_backward at line 133 (3 times)]\u001b[0m\n",
      "File \u001b[0;32m~/progs/AI_Tasks/04_Task/MST/BasicModules.py:133\u001b[0m, in \u001b[0;36mBasicModule._auto_backward\u001b[0;34m(self, dOut)\u001b[0m\n\u001b[1;32m    131\u001b[0m         \u001b[39mfor\u001b[39;00m inArg \u001b[39min\u001b[39;00m \u001b[39mself\u001b[39m\u001b[39m.\u001b[39m_hid_inX:\n\u001b[1;32m    132\u001b[0m             \u001b[39mif\u001b[39;00m inArg\u001b[39m.\u001b[39m_source \u001b[39mis\u001b[39;00m \u001b[39mnot\u001b[39;00m \u001b[39mNone\u001b[39;00m:\n\u001b[0;32m--> 133\u001b[0m                 inArg\u001b[39m.\u001b[39;49m_source\u001b[39m.\u001b[39;49m_auto_backward()\n\u001b[1;32m    135\u001b[0m     \u001b[39mself\u001b[39m\u001b[39m.\u001b[39m__zero_auto_backward_state()\n\u001b[1;32m    136\u001b[0m \u001b[39melse\u001b[39;00m:\n",
      "File \u001b[0;32m~/progs/AI_Tasks/04_Task/MST/BasicModules.py:126\u001b[0m, in \u001b[0;36mBasicModule._auto_backward\u001b[0;34m(self, dOut)\u001b[0m\n\u001b[1;32m    124\u001b[0m \u001b[39mif\u001b[39;00m \u001b[39mself\u001b[39m\u001b[39m.\u001b[39m_hid_outX \u001b[39mis\u001b[39;00m \u001b[39mnot\u001b[39;00m \u001b[39mNone\u001b[39;00m \u001b[39mand\u001b[39;00m (\u001b[39mself\u001b[39m\u001b[39m.\u001b[39m_hidden_links_count \u001b[39m<\u001b[39m\u001b[39m=\u001b[39m \u001b[39m0\u001b[39m):\n\u001b[1;32m    125\u001b[0m     \u001b[39mif\u001b[39;00m \u001b[39mself\u001b[39m\u001b[39m.\u001b[39mbackward_impl \u001b[39mis\u001b[39;00m \u001b[39mnot\u001b[39;00m \u001b[39mNone\u001b[39;00m:\n\u001b[0;32m--> 126\u001b[0m         dOut \u001b[39m=\u001b[39m \u001b[39mself\u001b[39;49m\u001b[39m.\u001b[39;49mbackward(dOut)\n\u001b[1;32m    127\u001b[0m     \u001b[39mif\u001b[39;00m \u001b[39mself\u001b[39m\u001b[39m.\u001b[39m_hid_inX \u001b[39mis\u001b[39;00m \u001b[39mnot\u001b[39;00m \u001b[39mNone\u001b[39;00m:\n\u001b[1;32m    128\u001b[0m         \u001b[39mfor\u001b[39;00m inArg \u001b[39min\u001b[39;00m \u001b[39mself\u001b[39m\u001b[39m.\u001b[39m_hid_inX:\n",
      "File \u001b[0;32m~/progs/AI_Tasks/04_Task/MST/BasicModules.py:105\u001b[0m, in \u001b[0;36mBasicModule.backward\u001b[0;34m(self, dOut)\u001b[0m\n\u001b[1;32m    103\u001b[0m         dOut \u001b[39m+\u001b[39m\u001b[39m=\u001b[39m \u001b[39mself\u001b[39m\u001b[39m.\u001b[39m__hidden_dOut\n\u001b[1;32m    104\u001b[0m \u001b[39mif\u001b[39;00m \u001b[39mself\u001b[39m\u001b[39m.\u001b[39mbackward_impl \u001b[39mis\u001b[39;00m \u001b[39mnot\u001b[39;00m \u001b[39mNone\u001b[39;00m:\n\u001b[0;32m--> 105\u001b[0m     \u001b[39mreturn\u001b[39;00m \u001b[39mself\u001b[39;49m\u001b[39m.\u001b[39;49mbackward_impl(dOut)\n\u001b[1;32m    106\u001b[0m \u001b[39mraise\u001b[39;00m \u001b[39mNotImplementedError\u001b[39;00m(\u001b[39mf\u001b[39m\u001b[39m\"\u001b[39m\u001b[39m[\u001b[39m\u001b[39m{\u001b[39;00m\u001b[39mtype\u001b[39m(\u001b[39mself\u001b[39m)\u001b[39m.\u001b[39m\u001b[39m__name__\u001b[39m\u001b[39m}\u001b[39;00m\u001b[39m] is missing the required \u001b[39m\u001b[39m\\\"\u001b[39;00m\u001b[39mbackward_impl\u001b[39m\u001b[39m\\\"\u001b[39;00m\u001b[39m function\u001b[39m\u001b[39m\"\u001b[39m)\n",
      "File \u001b[0;32m~/progs/AI_Tasks/04_Task/MST/Layers/MaxPool.py:35\u001b[0m, in \u001b[0;36mMaxPool2d.backward_impl\u001b[0;34m(self, dOut)\u001b[0m\n\u001b[1;32m     33\u001b[0m \u001b[39mdef\u001b[39;00m \u001b[39mbackward_impl\u001b[39m(\u001b[39mself\u001b[39m, dOut\u001b[39m=\u001b[39m\u001b[39mNone\u001b[39;00m):\n\u001b[1;32m     34\u001b[0m     BS, C, H, W \u001b[39m=\u001b[39m \u001b[39mself\u001b[39m\u001b[39m.\u001b[39m_inX\u001b[39m.\u001b[39mshape\n\u001b[0;32m---> 35\u001b[0m     flatten_dOut \u001b[39m=\u001b[39m dOut\u001b[39m.\u001b[39;49mtranspose(\u001b[39m2\u001b[39;49m, \u001b[39m3\u001b[39;49m, \u001b[39m0\u001b[39;49m, \u001b[39m1\u001b[39;49m)\u001b[39m.\u001b[39;49mravel()\n\u001b[1;32m     36\u001b[0m     dinX_cols \u001b[39m=\u001b[39m np\u001b[39m.\u001b[39mzeros_like(\u001b[39mself\u001b[39m\u001b[39m.\u001b[39m_inX_cols)\n\u001b[1;32m     38\u001b[0m     dinX_cols[\u001b[39mself\u001b[39m\u001b[39m.\u001b[39m_max_idx, \u001b[39mrange\u001b[39m(\u001b[39mself\u001b[39m\u001b[39m.\u001b[39m_max_idx\u001b[39m.\u001b[39msize)] \u001b[39m=\u001b[39m flatten_dOut\n",
      "\u001b[0;31mKeyboardInterrupt\u001b[0m: "
     ]
    }
   ],
   "source": [
    "for epoch in (pbar := tqdm(range(EPOCHS))):\n",
    "    train_loss = train(net, optimizer, CELoss)\n",
    "    valid_loss, rec = valid(net, CELoss)\n",
    "\n",
    "    print(f\"[{epoch}] train/valid loss: {train_loss:.4f}/{valid_loss:.4f} acc: {rec:.4f}\")\n",
    "    pbar.set_description(f\"train/valid loss: {train_loss:.4f}/{valid_loss:.4f} acc: {rec:.4f}\")"
   ]
  }
 ],
 "metadata": {
  "kernelspec": {
   "display_name": "AIenv",
   "language": "python",
   "name": "python3"
  },
  "language_info": {
   "codemirror_mode": {
    "name": "ipython",
    "version": 3
   },
   "file_extension": ".py",
   "mimetype": "text/x-python",
   "name": "python",
   "nbconvert_exporter": "python",
   "pygments_lexer": "ipython3",
   "version": "3.10.10"
  },
  "orig_nbformat": 4
 },
 "nbformat": 4,
 "nbformat_minor": 2
}
