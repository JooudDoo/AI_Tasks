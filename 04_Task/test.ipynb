{
 "cells": [
  {
   "cell_type": "code",
   "execution_count": 13,
   "metadata": {},
   "outputs": [],
   "source": [
    "import torch.nn as nn\n",
    "import torch\n",
    "import MST\n",
    "import numpy as np"
   ]
  },
  {
   "cell_type": "code",
   "execution_count": 14,
   "metadata": {},
   "outputs": [],
   "source": [
    "np.random.seed(42)"
   ]
  },
  {
   "cell_type": "code",
   "execution_count": 15,
   "metadata": {},
   "outputs": [
    {
     "name": "stdout",
     "output_type": "stream",
     "text": [
      "16.0\n"
     ]
    }
   ],
   "source": [
    "in_C = 1\n",
    "out_C = 1\n",
    "stride = 1\n",
    "padding = 1\n",
    "dilation = 1\n",
    "kernel = 3\n",
    "\n",
    "params = [in_C, out_C, kernel, stride, padding, dilation]\n",
    "\n",
    "print(f\"{(16 - kernel + padding*2 - (kernel-1)*(dilation-1))/stride + 1}\")"
   ]
  },
  {
   "cell_type": "code",
   "execution_count": 16,
   "metadata": {},
   "outputs": [],
   "source": [
    "with torch.no_grad():\n",
    "    myConv = MST.Conv2d(*params)\n",
    "    torchConv = nn.Conv2d(*params)\n",
    "\n",
    "    torchConv.weight = nn.Parameter(torch.tensor(myConv._w))\n",
    "    torchConv.bias = nn.Parameter(torch.tensor(myConv._bias).flatten())\n"
   ]
  },
  {
   "cell_type": "code",
   "execution_count": 17,
   "metadata": {},
   "outputs": [],
   "source": [
    "image = np.ones((1, in_C, 16, 16))"
   ]
  },
  {
   "cell_type": "code",
   "execution_count": 18,
   "metadata": {},
   "outputs": [
    {
     "name": "stdout",
     "output_type": "stream",
     "text": [
      "(1, 1, 16, 16)\n",
      "torch.Size([1, 1, 16, 16])\n",
      "[-0.08   1.382  1.382  1.382  1.382  1.382  1.382  1.382  1.382  1.382\n",
      "  1.382  1.382  1.382  1.382  1.382  1.714  0.16   1.856  1.856  1.856]\n",
      "[-0.08   1.382  1.382  1.382  1.382  1.382  1.382  1.382  1.382  1.382\n",
      "  1.382  1.382  1.382  1.382  1.382  1.714  0.16   1.856  1.856  1.856]\n",
      "0\n"
     ]
    }
   ],
   "source": [
    "with torch.no_grad():\n",
    "    myres = myConv(image)\n",
    "    nnres = torchConv(torch.Tensor(image))\n",
    "    print(myres.shape)\n",
    "    print(nnres.shape)\n",
    "\n",
    "    nnres = nnres.numpy().round(3).flatten()\n",
    "    myres = myres.round(3).flatten()\n",
    "    bads = np.where(abs(nnres - myres) > 0.001)\n",
    "    print(myres[:20])\n",
    "    print(nnres[:20])\n",
    "    print(len(bads[0]))\n",
    "    for pos in bads[0][:10]:\n",
    "        print(f\"[{pos}]: {myres[pos]:.3f} {nnres[pos]:.3f}\")"
   ]
  },
  {
   "cell_type": "code",
   "execution_count": 19,
   "metadata": {},
   "outputs": [
    {
     "name": "stdout",
     "output_type": "stream",
     "text": [
      "123 µs ± 2.07 µs per loop (mean ± std. dev. of 7 runs, 10,000 loops each)\n"
     ]
    }
   ],
   "source": [
    "%%timeit\n",
    "myres = myConv(image)"
   ]
  },
  {
   "cell_type": "code",
   "execution_count": 20,
   "metadata": {},
   "outputs": [
    {
     "name": "stdout",
     "output_type": "stream",
     "text": [
      "44.5 µs ± 2.65 µs per loop (mean ± std. dev. of 7 runs, 10,000 loops each)\n"
     ]
    }
   ],
   "source": [
    "%%timeit\n",
    "nnres = torchConv(torch.Tensor(image))"
   ]
  },
  {
   "cell_type": "code",
   "execution_count": 1,
   "metadata": {},
   "outputs": [],
   "source": []
  },
  {
   "cell_type": "code",
   "execution_count": 24,
   "metadata": {},
   "outputs": [
    {
     "name": "stdout",
     "output_type": "stream",
     "text": [
      "8.5\n"
     ]
    }
   ],
   "source": [
    "def to_np_arr(a):\n",
    "    a_ = MST.MDT_ARRAY(a).astype(np.float32) / 255\n",
    "    return a_.reshape(1, *a_.shape)\n",
    "\n",
    "import torch.nn as nn\n",
    "import torch\n",
    "import MST\n",
    "import numpy as np\n",
    "from torch.utils.data import DataLoader\n",
    "from torchvision import datasets\n",
    "np.random.seed(42)\n",
    "in_C = 1\n",
    "out_C = 23\n",
    "stride = 2\n",
    "padding = 1\n",
    "dilation = 1\n",
    "kernel = 3\n",
    "inH, InW = 32, 32\n",
    "outH, outW = inH//stride, InW//stride\n",
    "\n",
    "params = [in_C, out_C, kernel, stride, padding, dilation]\n",
    "\n",
    "print(f\"{(16 - kernel + padding*2 - (kernel-1)*(dilation-1))/stride + 1}\")\n",
    "myConv = MST.Conv2d(*params)\n",
    "torchConv = nn.Conv2d(*params)\n",
    "\n",
    "torchConv.weight = nn.Parameter(torch.tensor(myConv._w))\n",
    "torchConv.bias = nn.Parameter(torch.tensor(myConv._bias).flatten())\n",
    "image = np.ones((1, in_C, inH, InW))\n",
    "\n",
    "transform = to_np_arr"
   ]
  },
  {
   "cell_type": "code",
   "execution_count": 25,
   "metadata": {},
   "outputs": [
    {
     "data": {
      "application/vnd.jupyter.widget-view+json": {
       "model_id": "3d2fd42a511d4d6e9dbb153c771fa0a4",
       "version_major": 2,
       "version_minor": 0
      },
      "text/plain": [
       "  0%|          | 0/1875 [00:00<?, ?it/s]"
      ]
     },
     "metadata": {},
     "output_type": "display_data"
    },
    {
     "name": "stdout",
     "output_type": "stream",
     "text": [
      "0\n",
      "207\n",
      "[0]: 386.081 396.502\n",
      "[1]: 385.378 398.615\n",
      "[2]: 374.968 392.748\n",
      "[3]: 388.085 389.532\n",
      "[4]: 387.335 394.081\n",
      "[5]: 377.005 388.213\n",
      "[6]: 382.566 386.309\n",
      "[7]: 382.936 393.387\n",
      "[8]: 374.099 386.627\n",
      "[9]: 374.092 386.094\n",
      "12\n",
      "[0]: 3162.837 3162.836\n",
      "[1]: 3096.410 3096.409\n",
      "[3]: 3137.900 3137.896\n",
      "[8]: 3170.087 3170.089\n",
      "[10]: 3137.948 3137.951\n",
      "[15]: 3134.526 3134.527\n",
      "[16]: 3126.596 3126.595\n",
      "[17]: 3109.952 3109.951\n",
      "[18]: 3166.328 3166.325\n",
      "[19]: 3116.705 3116.703\n"
     ]
    }
   ],
   "source": [
    "# torchImage = torch.ones((1, in_C, inH, InW), requires_grad=True)\n",
    "\n",
    "from tqdm.auto import tqdm\n",
    "train_dataset = datasets.MNIST(\n",
    "    root='datasets',\n",
    "    train=True,\n",
    "    transform=transform,\n",
    "    download=True\n",
    ")\n",
    "\n",
    "\n",
    "train_dataloader = DataLoader(\n",
    "    dataset=train_dataset,\n",
    "    batch_size=32,\n",
    "    shuffle=True,\n",
    "    num_workers=0,\n",
    ")\n",
    "\n",
    "for (images, labels) in tqdm(train_dataloader):\n",
    "\n",
    "    torchImage = images\n",
    "    image = torchImage.detach().numpy()\n",
    "    \n",
    "    out_sample = myConv(image)\n",
    "\n",
    "    dOut = np.random.random(out_sample.shape)\n",
    "\n",
    "    myres = myConv(image)\n",
    "    myres.backward(dOut)\n",
    "    nnres = torchConv(torchImage)\n",
    "    nnres.backward(torch.Tensor(dOut))\n",
    "\n",
    "    # nngrad = torchImage.grad.numpy().round(3).flatten()\n",
    "    # mygrad = myConv._dinX.round(3).flatten()\n",
    "    # bads = np.where(abs(mygrad - nngrad) > 0.001)\n",
    "    # print(len(bads[0]))\n",
    "    # for pos in bads[0][:10]:\n",
    "    #     print(f\"[{pos}]: {mygrad[pos]:.3f} {nngrad[pos]:.3f}\")\n",
    "\n",
    "    nnres = nnres.detach().numpy().round(3).flatten()\n",
    "    myres = myres.round(3).flatten()\n",
    "    bads = np.where(abs(nnres - myres) > 0.001)\n",
    "    print(len(bads[0]))\n",
    "    for pos in bads[0][:10]:\n",
    "        print(f\"[{pos}]: {myres[pos]:.3f} {nnres[pos]:.3f}\")\n",
    "\n",
    "    nngrad = torchConv.weight.grad.numpy().round(3).flatten()\n",
    "    mygrad = myConv._dw.round(3).flatten()\n",
    "    bads = np.where(abs(mygrad - nngrad) > 0.001)\n",
    "    print(len(bads[0]))\n",
    "    for pos in bads[0][:10]:\n",
    "        print(f\"[{pos}]: {mygrad[pos]:.3f} {nngrad[pos]:.3f}\")\n",
    "\n",
    "    torchConv.weight.grad = torch.zeros_like(torchConv.weight.grad)\n",
    "\n",
    "    nngrad = torchConv.bias.grad.numpy().round(3).flatten()\n",
    "    mygrad = myConv._dbias.round(3).flatten()\n",
    "    bads = np.where(abs(mygrad - nngrad) > 0.001)\n",
    "    print(len(bads[0]))\n",
    "    for pos in bads[0][:10]:\n",
    "        print(f\"[{pos}]: {mygrad[pos]:.3f} {nngrad[pos]:.3f}\")\n",
    "\n",
    "    torchConv.bias.grad = torch.zeros_like(torchConv.bias.grad)\n",
    "    break"
   ]
  },
  {
   "cell_type": "code",
   "execution_count": 26,
   "metadata": {},
   "outputs": [
    {
     "name": "stdout",
     "output_type": "stream",
     "text": [
      "(32, 23, 14, 14)\n",
      "torch.Size([32, 23, 14, 14])\n",
      "[0. 0. 0. 0. 0. 0. 0. 0. 0. 0. 0. 0. 0. 0. 0. 0. 0. 0. 0. 0.]\n",
      "[0. 0. 0. 0. 0. 0. 0. 0. 0. 0. 0. 0. 0. 0. 0. 0. 0. 0. 0. 0.]\n",
      "0\n"
     ]
    }
   ],
   "source": [
    "with torch.no_grad():\n",
    "    myres = myConv(image)\n",
    "    nnres = torchConv(torch.Tensor(image))\n",
    "    print(myres.shape)\n",
    "    print(nnres.shape)\n",
    "\n",
    "    nnres = nnres.numpy().round(3).flatten()\n",
    "    myres = myres.round(3).flatten()\n",
    "    bads = np.where(abs(nnres - myres) > 0.001)\n",
    "    print(myres[:20])\n",
    "    print(nnres[:20])\n",
    "    print(len(bads[0]))\n",
    "    for pos in bads[0][:10]:\n",
    "        print(f\"[{pos}]: {myres[pos]:.3f} {nnres[pos]:.3f}\")"
   ]
  },
  {
   "cell_type": "code",
   "execution_count": 9,
   "metadata": {},
   "outputs": [
    {
     "name": "stdout",
     "output_type": "stream",
     "text": [
      "14.0\n"
     ]
    }
   ],
   "source": [
    "import torch.nn as nn\n",
    "import torch\n",
    "import MST\n",
    "import numpy as np\n",
    "np.random.seed(42)\n",
    "BS = 5\n",
    "in_C = 2\n",
    "out_C = 128\n",
    "stride = 1\n",
    "padding = 0\n",
    "dilation =1\n",
    "kernel = 3\n",
    "inH, InW = 32, 32\n",
    "outH, outW = inH//stride, InW//stride\n",
    "\n",
    "params = [in_C, out_C, kernel, stride, padding, dilation]\n",
    "\n",
    "print(f\"{(16 - kernel + padding*2 - (kernel-1)*(dilation-1))/stride + 1}\")\n",
    "myConv = MST.Conv2d(*params)\n",
    "torchConv = nn.Conv2d(*params)\n",
    "\n",
    "torchConv.weight = nn.Parameter(torch.tensor(myConv._w))\n",
    "torchConv.bias = nn.Parameter(torch.tensor(myConv._bias).flatten())\n",
    "image = np.ones((BS, in_C, inH, InW))"
   ]
  },
  {
   "cell_type": "code",
   "execution_count": 10,
   "metadata": {},
   "outputs": [
    {
     "data": {
      "text/plain": [
       "(array([], dtype=int64),\n",
       " array([], dtype=int64),\n",
       " array([], dtype=int64),\n",
       " array([], dtype=int64))"
      ]
     },
     "execution_count": 10,
     "metadata": {},
     "output_type": "execute_result"
    }
   ],
   "source": [
    "image = np.random.random((BS, in_C, inH, InW))\n",
    "aboba = MST.col2im_2(MST.im2col_3(image, (inH, InW), (1, 1), (1,1)), image.shape, (inH, InW), (1,1), (1,1), (0,0))\n",
    "bads = np.where(abs(image - aboba) > 0.001)\n",
    "bads"
   ]
  },
  {
   "cell_type": "code",
   "execution_count": 11,
   "metadata": {},
   "outputs": [
    {
     "name": "stdout",
     "output_type": "stream",
     "text": [
      "(5, 128, 30, 30)\n",
      "torch.Size([5, 128, 30, 30])\n",
      "[-0.562  0.255 -0.362  0.057  0.006 -0.277 -0.769 -0.223  0.031 -0.475\n",
      " -0.372 -0.028 -0.004 -0.54  -0.508  0.141]\n",
      "[-0.562  0.255 -0.362  0.057  0.006 -0.277 -0.769 -0.223  0.031 -0.475\n",
      " -0.372 -0.028 -0.004 -0.54  -0.508  0.141]\n",
      "16\n",
      "[3395]: 0.278 0.279\n",
      "[25392]: -0.809 -0.810\n",
      "[79893]: -0.937 -0.936\n",
      "[104308]: -0.221 -0.220\n",
      "[130645]: 1.449 1.448\n",
      "[152817]: -0.536 -0.537\n",
      "[157400]: -0.099 -0.100\n",
      "[168547]: -0.701 -0.702\n",
      "[305819]: 0.807 0.806\n",
      "[325181]: 0.370 0.369\n"
     ]
    }
   ],
   "source": [
    "with torch.no_grad():\n",
    "    myres = myConv(image)\n",
    "    nnres = torchConv(torch.Tensor(image))\n",
    "    print(myres.shape)\n",
    "    print(nnres.shape)\n",
    "\n",
    "    nnres = nnres.numpy().round(3).flatten()\n",
    "    myres = myres.round(3).flatten()\n",
    "    bads = np.where(abs(nnres - myres) > 0.001)\n",
    "    print(myres[54:70])\n",
    "    print(nnres[54:70])\n",
    "    print(len(bads[0]))\n",
    "    for pos in bads[0][:10]:\n",
    "        print(f\"[{pos}]: {myres[pos]:.3f} {nnres[pos]:.3f}\")"
   ]
  },
  {
   "cell_type": "code",
   "execution_count": 12,
   "metadata": {},
   "outputs": [
    {
     "name": "stdout",
     "output_type": "stream",
     "text": [
      "0\n",
      "2304\n",
      "[0]: 2233.720 4500.000\n",
      "[1]: 2235.277 4500.000\n",
      "[2]: 2241.223 4500.000\n",
      "[3]: 2234.828 4500.000\n",
      "[4]: 2234.824 4500.000\n",
      "[5]: 2240.548 4500.000\n",
      "[6]: 2222.335 4500.000\n",
      "[7]: 2223.530 4500.000\n",
      "[8]: 2230.652 4500.000\n",
      "[9]: 2230.503 4500.000\n",
      "0\n"
     ]
    }
   ],
   "source": [
    "torchImage = torch.ones((BS, in_C, inH, InW), requires_grad=True)\n",
    "\n",
    "out_sample = myConv(image)\n",
    "\n",
    "myConv(image).backward(np.ones(out_sample.shape))\n",
    "torchConv(torchImage).backward(torch.ones(out_sample.shape))\n",
    "\n",
    "\n",
    "nngrad = torchImage.grad.numpy().round(3).flatten()\n",
    "mygrad = myConv._dinX.round(3).flatten()\n",
    "bads = np.where(abs(mygrad - nngrad) > 0.001)\n",
    "print(len(bads[0]))\n",
    "for pos in bads[0][:10]:\n",
    "    print(f\"[{pos}]: {mygrad[pos]:.3f} {nngrad[pos]:.3f}\")\n",
    "\n",
    "\n",
    "nngrad = torchConv.weight.grad.numpy().round(3).flatten()\n",
    "mygrad = myConv._dw.round(3).flatten()\n",
    "bads = np.where(abs(mygrad - nngrad) > 0.001)\n",
    "print(len(bads[0]))\n",
    "for pos in bads[0][:10]:\n",
    "    print(f\"[{pos}]: {mygrad[pos]:.3f} {nngrad[pos]:.3f}\")\n",
    "\n",
    "torchConv.weight.grad = torch.zeros_like(torchConv.weight.grad)\n",
    "\n",
    "nngrad = torchConv.bias.grad.numpy().round(3).flatten()\n",
    "mygrad = myConv._dbias.round(3).flatten()\n",
    "bads = np.where(abs(mygrad - nngrad) > 0.001)\n",
    "print(len(bads[0]))\n",
    "for pos in bads[0][:10]:\n",
    "    print(f\"[{pos}]: {mygrad[pos]:.3f} {nngrad[pos]:.3f}\")\n",
    "\n",
    "torchConv.bias.grad = torch.zeros_like(torchConv.bias.grad)"
   ]
  }
 ],
 "metadata": {
  "kernelspec": {
   "display_name": "AIenv",
   "language": "python",
   "name": "python3"
  },
  "language_info": {
   "codemirror_mode": {
    "name": "ipython",
    "version": 3
   },
   "file_extension": ".py",
   "mimetype": "text/x-python",
   "name": "python",
   "nbconvert_exporter": "python",
   "pygments_lexer": "ipython3",
   "version": "3.10.10"
  },
  "orig_nbformat": 4
 },
 "nbformat": 4,
 "nbformat_minor": 2
}
