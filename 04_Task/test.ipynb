{
 "cells": [
  {
   "cell_type": "code",
   "execution_count": 1,
   "metadata": {},
   "outputs": [],
   "source": [
    "import torch.nn as nn\n",
    "import torch\n",
    "import MST\n",
    "import numpy as np"
   ]
  },
  {
   "cell_type": "code",
   "execution_count": 2,
   "metadata": {},
   "outputs": [],
   "source": [
    "np.random.seed(42)"
   ]
  },
  {
   "cell_type": "code",
   "execution_count": 3,
   "metadata": {},
   "outputs": [
    {
     "name": "stdout",
     "output_type": "stream",
     "text": [
      "107.0\n"
     ]
    }
   ],
   "source": [
    "in_C = 1\n",
    "out_C = 16\n",
    "groups = 1\n",
    "stride = 1\n",
    "padding = 50\n",
    "dilation = 1\n",
    "kernel = 10\n",
    "\n",
    "params = [in_C, out_C, kernel, stride, padding, dilation, groups]\n",
    "\n",
    "print(f\"{(16 - kernel + padding*2 - (kernel-1)*(dilation-1))/stride + 1}\")"
   ]
  },
  {
   "cell_type": "code",
   "execution_count": 4,
   "metadata": {},
   "outputs": [
    {
     "name": "stdout",
     "output_type": "stream",
     "text": [
      "(100, 100)\n"
     ]
    }
   ],
   "source": [
    "with torch.no_grad():\n",
    "    myConv = MST.Conv2d(*params)\n",
    "    torchConv = nn.Conv2d(*params)\n",
    "\n",
    "    torchConv.weight = nn.Parameter(torch.tensor(myConv._w))\n",
    "    torchConv.bias = nn.Parameter(torch.tensor(myConv._bias).flatten())\n"
   ]
  },
  {
   "cell_type": "code",
   "execution_count": 5,
   "metadata": {},
   "outputs": [],
   "source": [
    "image = np.ones((1, in_C, 16, 16))"
   ]
  },
  {
   "cell_type": "code",
   "execution_count": 6,
   "metadata": {},
   "outputs": [
    {
     "name": "stdout",
     "output_type": "stream",
     "text": [
      "(1, 16, 108, 108)\n",
      "torch.Size([1, 16, 107, 107])\n"
     ]
    },
    {
     "ename": "ValueError",
     "evalue": "operands could not be broadcast together with shapes (183184,) (186624,) ",
     "output_type": "error",
     "traceback": [
      "\u001b[0;31m---------------------------------------------------------------------------\u001b[0m",
      "\u001b[0;31mValueError\u001b[0m                                Traceback (most recent call last)",
      "Cell \u001b[0;32mIn[6], line 9\u001b[0m\n\u001b[1;32m      7\u001b[0m nnres \u001b[39m=\u001b[39m nnres\u001b[39m.\u001b[39mnumpy()\u001b[39m.\u001b[39mround(\u001b[39m3\u001b[39m)\u001b[39m.\u001b[39mflatten()\n\u001b[1;32m      8\u001b[0m myres \u001b[39m=\u001b[39m myres\u001b[39m.\u001b[39mround(\u001b[39m3\u001b[39m)\u001b[39m.\u001b[39mflatten()\n\u001b[0;32m----> 9\u001b[0m bads \u001b[39m=\u001b[39m np\u001b[39m.\u001b[39mwhere(\u001b[39mabs\u001b[39m(nnres \u001b[39m-\u001b[39;49m myres) \u001b[39m>\u001b[39m \u001b[39m0.001\u001b[39m)\n\u001b[1;32m     10\u001b[0m \u001b[39mprint\u001b[39m(myres[:\u001b[39m20\u001b[39m])\n\u001b[1;32m     11\u001b[0m \u001b[39mprint\u001b[39m(nnres[:\u001b[39m20\u001b[39m])\n",
      "\u001b[0;31mValueError\u001b[0m: operands could not be broadcast together with shapes (183184,) (186624,) "
     ]
    }
   ],
   "source": [
    "with torch.no_grad():\n",
    "    myres = myConv(image)\n",
    "    nnres = torchConv(torch.Tensor(image))\n",
    "    print(myres.shape)\n",
    "    print(nnres.shape)\n",
    "\n",
    "    nnres = nnres.numpy().round(3).flatten()\n",
    "    myres = myres.round(3).flatten()\n",
    "    bads = np.where(abs(nnres - myres) > 0.001)\n",
    "    print(myres[:20])\n",
    "    print(nnres[:20])\n",
    "    for pos in bads[0][:10]:\n",
    "        print(f\"[{pos}]: {myres[pos]:.3f} {nnres[pos]:.3f}\")"
   ]
  },
  {
   "cell_type": "code",
   "execution_count": null,
   "metadata": {},
   "outputs": [
    {
     "name": "stdout",
     "output_type": "stream",
     "text": [
      "5.48 ms ± 173 µs per loop (mean ± std. dev. of 7 runs, 100 loops each)\n"
     ]
    }
   ],
   "source": [
    "%%timeit\n",
    "myres = myConv(image)"
   ]
  },
  {
   "cell_type": "code",
   "execution_count": null,
   "metadata": {},
   "outputs": [
    {
     "name": "stdout",
     "output_type": "stream",
     "text": [
      "100 µs ± 2.72 µs per loop (mean ± std. dev. of 7 runs, 10,000 loops each)\n"
     ]
    }
   ],
   "source": [
    "%%timeit\n",
    "with torch.no_grad():\n",
    "    nnres = torchConv(torch.Tensor(image))"
   ]
  }
 ],
 "metadata": {
  "kernelspec": {
   "display_name": "AIenv",
   "language": "python",
   "name": "python3"
  },
  "language_info": {
   "codemirror_mode": {
    "name": "ipython",
    "version": 3
   },
   "file_extension": ".py",
   "mimetype": "text/x-python",
   "name": "python",
   "nbconvert_exporter": "python",
   "pygments_lexer": "ipython3",
   "version": "3.10.10"
  },
  "orig_nbformat": 4
 },
 "nbformat": 4,
 "nbformat_minor": 2
}
