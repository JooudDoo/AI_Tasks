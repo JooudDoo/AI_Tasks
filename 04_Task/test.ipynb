{
 "cells": [
  {
   "cell_type": "code",
   "execution_count": null,
   "metadata": {},
   "outputs": [],
   "source": [
    "import torch.nn as nn\n",
    "import torch\n",
    "import MST\n",
    "import numpy as np"
   ]
  },
  {
   "cell_type": "code",
   "execution_count": null,
   "metadata": {},
   "outputs": [],
   "source": [
    "np.random.seed(42)"
   ]
  },
  {
   "cell_type": "code",
   "execution_count": null,
   "metadata": {},
   "outputs": [],
   "source": [
    "in_C = 1\n",
    "out_C = 1\n",
    "stride = 1\n",
    "padding = 1\n",
    "dilation = 1\n",
    "kernel = 3\n",
    "\n",
    "params = [in_C, out_C, kernel, stride, padding, dilation]\n",
    "\n",
    "print(f\"{(16 - kernel + padding*2 - (kernel-1)*(dilation-1))/stride + 1}\")"
   ]
  },
  {
   "cell_type": "code",
   "execution_count": null,
   "metadata": {},
   "outputs": [],
   "source": [
    "with torch.no_grad():\n",
    "    myConv = MST.Conv2d(*params)\n",
    "    torchConv = nn.Conv2d(*params)\n",
    "\n",
    "    torchConv.weight = nn.Parameter(torch.tensor(myConv._w))\n",
    "    torchConv.bias = nn.Parameter(torch.tensor(myConv._bias).flatten())\n"
   ]
  },
  {
   "cell_type": "code",
   "execution_count": null,
   "metadata": {},
   "outputs": [],
   "source": [
    "image = np.ones((1, in_C, 16, 16))"
   ]
  },
  {
   "cell_type": "code",
   "execution_count": null,
   "metadata": {},
   "outputs": [],
   "source": [
    "with torch.no_grad():\n",
    "    myres = myConv(image)\n",
    "    nnres = torchConv(torch.Tensor(image))\n",
    "    print(myres.shape)\n",
    "    print(nnres.shape)\n",
    "\n",
    "    nnres = nnres.numpy().round(3).flatten()\n",
    "    myres = myres.round(3).flatten()\n",
    "    bads = np.where(abs(nnres - myres) > 0.001)\n",
    "    print(myres[:20])\n",
    "    print(nnres[:20])\n",
    "    print(len(bads[0]))\n",
    "    for pos in bads[0][:10]:\n",
    "        print(f\"[{pos}]: {myres[pos]:.3f} {nnres[pos]:.3f}\")"
   ]
  },
  {
   "cell_type": "code",
   "execution_count": null,
   "metadata": {},
   "outputs": [],
   "source": [
    "%%timeit\n",
    "myres = myConv(image)"
   ]
  },
  {
   "cell_type": "code",
   "execution_count": null,
   "metadata": {},
   "outputs": [],
   "source": [
    "%%timeit\n",
    "nnres = torchConv(torch.Tensor(image))"
   ]
  },
  {
   "cell_type": "code",
   "execution_count": null,
   "metadata": {},
   "outputs": [],
   "source": [
    "def to_np_arr(a):\n",
    "    a_ = MST.MDT_ARRAY(a).astype(np.float32) / 255\n",
    "    return a_.reshape(1, *a_.shape)\n",
    "\n",
    "import torch.nn as nn\n",
    "import torch\n",
    "import MST\n",
    "import numpy as np\n",
    "from torch.utils.data import DataLoader\n",
    "from torchvision import datasets\n",
    "np.random.seed(42)\n",
    "in_C = 1\n",
    "out_C = 23\n",
    "stride = 2\n",
    "padding = 1\n",
    "dilation = 1\n",
    "kernel = 3\n",
    "inH, InW = 32, 32\n",
    "outH, outW = inH//stride, InW//stride\n",
    "\n",
    "params = [in_C, out_C, kernel, stride, padding, dilation]\n",
    "\n",
    "print(f\"{(16 - kernel + padding*2 - (kernel-1)*(dilation-1))/stride + 1}\")\n",
    "myConv = MST.Conv2d(*params)\n",
    "torchConv = nn.Conv2d(*params)\n",
    "\n",
    "torchConv.weight = nn.Parameter(torch.tensor(myConv._w))\n",
    "torchConv.bias = nn.Parameter(torch.tensor(myConv._bias).flatten())\n",
    "image = np.ones((1, in_C, inH, InW))\n",
    "\n",
    "transform = to_np_arr"
   ]
  },
  {
   "cell_type": "code",
   "execution_count": null,
   "metadata": {},
   "outputs": [],
   "source": [
    "# torchImage = torch.ones((1, in_C, inH, InW), requires_grad=True)\n",
    "\n",
    "from tqdm.auto import tqdm\n",
    "train_dataset = datasets.MNIST(\n",
    "    root='datasets',\n",
    "    train=True,\n",
    "    transform=transform,\n",
    "    download=True\n",
    ")\n",
    "\n",
    "\n",
    "train_dataloader = DataLoader(\n",
    "    dataset=train_dataset,\n",
    "    batch_size=32,\n",
    "    shuffle=True,\n",
    "    num_workers=0,\n",
    ")\n",
    "\n",
    "for (images, labels) in tqdm(train_dataloader):\n",
    "\n",
    "    torchImage = images\n",
    "    image = torchImage.detach().numpy()\n",
    "    \n",
    "    out_sample = myConv(image)\n",
    "\n",
    "    dOut = np.random.random(out_sample.shape)\n",
    "\n",
    "    myres = myConv(image)\n",
    "    myres.backward(dOut)\n",
    "    nnres = torchConv(torchImage)\n",
    "    nnres.backward(torch.Tensor(dOut))\n",
    "\n",
    "    # nngrad = torchImage.grad.numpy().round(3).flatten()\n",
    "    # mygrad = myConv._dinX.round(3).flatten()\n",
    "    # bads = np.where(abs(mygrad - nngrad) > 0.001)\n",
    "    # print(len(bads[0]))\n",
    "    # for pos in bads[0][:10]:\n",
    "    #     print(f\"[{pos}]: {mygrad[pos]:.3f} {nngrad[pos]:.3f}\")\n",
    "\n",
    "    nnres = nnres.detach().numpy().round(3).flatten()\n",
    "    myres = myres.round(3).flatten()\n",
    "    bads = np.where(abs(nnres - myres) > 0.001)\n",
    "    print(len(bads[0]))\n",
    "    for pos in bads[0][:10]:\n",
    "        print(f\"[{pos}]: {myres[pos]:.3f} {nnres[pos]:.3f}\")\n",
    "\n",
    "    nngrad = torchConv.weight.grad.numpy().round(3).flatten()\n",
    "    mygrad = myConv._dw.round(3).flatten()\n",
    "    bads = np.where(abs(mygrad - nngrad) > 0.001)\n",
    "    print(len(bads[0]))\n",
    "    for pos in bads[0][:10]:\n",
    "        print(f\"[{pos}]: {mygrad[pos]:.3f} {nngrad[pos]:.3f}\")\n",
    "\n",
    "    torchConv.weight.grad = torch.zeros_like(torchConv.weight.grad)\n",
    "\n",
    "    nngrad = torchConv.bias.grad.numpy().round(3).flatten()\n",
    "    mygrad = myConv._dbias.round(3).flatten()\n",
    "    bads = np.where(abs(mygrad - nngrad) > 0.001)\n",
    "    print(len(bads[0]))\n",
    "    for pos in bads[0][:10]:\n",
    "        print(f\"[{pos}]: {mygrad[pos]:.3f} {nngrad[pos]:.3f}\")\n",
    "\n",
    "    torchConv.bias.grad = torch.zeros_like(torchConv.bias.grad)"
   ]
  },
  {
   "cell_type": "code",
   "execution_count": null,
   "metadata": {},
   "outputs": [],
   "source": [
    "with torch.no_grad():\n",
    "    myres = myConv(image)\n",
    "    nnres = torchConv(torch.Tensor(image))\n",
    "    print(myres.shape)\n",
    "    print(nnres.shape)\n",
    "\n",
    "    nnres = nnres.numpy().round(3).flatten()\n",
    "    myres = myres.round(3).flatten()\n",
    "    bads = np.where(abs(nnres - myres) > 0.001)\n",
    "    print(myres[:20])\n",
    "    print(nnres[:20])\n",
    "    print(len(bads[0]))\n",
    "    for pos in bads[0][:10]:\n",
    "        print(f\"[{pos}]: {myres[pos]:.3f} {nnres[pos]:.3f}\")"
   ]
  },
  {
   "cell_type": "code",
   "execution_count": 6,
   "metadata": {},
   "outputs": [],
   "source": [
    "import torch.nn as nn\n",
    "import torch\n",
    "import MST\n",
    "import numpy as np\n",
    "np.random.seed(42)\n",
    "BS = 5\n",
    "in_C = 2\n",
    "out_C = 128\n",
    "stride = 1\n",
    "padding = (1, 0)\n",
    "dilation =1\n",
    "kernel = (3, 1)\n",
    "inH, InW = 32, 32\n",
    "outH, outW = inH//stride, InW//stride\n",
    "\n",
    "params = [in_C, out_C, kernel, stride, padding, dilation]\n",
    "\n",
    "# print(f\"{(16 - kernel + padding*2 - (kernel-1)*(dilation-1))/stride + 1}\")\n",
    "myConv = MST.Conv2d(*params)\n",
    "torchConv = nn.Conv2d(*params)\n",
    "\n",
    "torchConv.weight = nn.Parameter(torch.tensor(myConv._w))\n",
    "torchConv.bias = nn.Parameter(torch.tensor(myConv._bias).flatten())\n",
    "image = np.ones((BS, in_C, inH, InW))"
   ]
  },
  {
   "cell_type": "code",
   "execution_count": 7,
   "metadata": {},
   "outputs": [
    {
     "name": "stdout",
     "output_type": "stream",
     "text": [
      "(5, 128, 16, 32)\n",
      "torch.Size([5, 128, 16, 32])\n",
      "[1.19 1.19 1.19 1.19 1.19 1.19 1.19 1.19 1.19 1.19 1.19 1.19 1.19 1.19\n",
      " 1.19 1.19]\n",
      "[1.19 1.19 1.19 1.19 1.19 1.19 1.19 1.19 1.19 1.19 1.19 1.19 1.19 1.19\n",
      " 1.19 1.19]\n",
      "0\n"
     ]
    }
   ],
   "source": [
    "with torch.no_grad():\n",
    "    myres = myConv(image)\n",
    "    nnres = torchConv(torch.Tensor(image))\n",
    "    print(myres.shape)\n",
    "    print(nnres.shape)\n",
    "\n",
    "    nnres = nnres.numpy().round(3).flatten()\n",
    "    myres = myres.round(3).flatten()\n",
    "    bads = np.where(abs(nnres - myres) > 0.001)\n",
    "    print(myres[54:70])\n",
    "    print(nnres[54:70])\n",
    "    print(len(bads[0]))\n",
    "    for pos in bads[0][:10]:\n",
    "        print(f\"[{pos}]: {myres[pos]:.3f} {nnres[pos]:.3f}\")"
   ]
  },
  {
   "cell_type": "code",
   "execution_count": 10,
   "metadata": {},
   "outputs": [
    {
     "name": "stdout",
     "output_type": "stream",
     "text": [
      "0\n",
      "0\n",
      "0\n"
     ]
    }
   ],
   "source": [
    "torchImage = torch.ones((BS, in_C, inH, InW), requires_grad=True)\n",
    "\n",
    "out_sample = myConv(image)\n",
    "\n",
    "myConv(image).backward(np.ones(out_sample.shape))\n",
    "torchConv(torchImage).backward(torch.ones(out_sample.shape))\n",
    "\n",
    "\n",
    "nngrad = torchImage.grad.numpy().round(3).flatten()\n",
    "mygrad = myConv._dinX.round(3).flatten()\n",
    "bads = np.where(abs(mygrad - nngrad) > 0.001)\n",
    "print(len(bads[0]))\n",
    "for pos in bads[0][:10]:\n",
    "    print(f\"[{pos}]: {mygrad[pos]:.3f} {nngrad[pos]:.3f}\")\n",
    "\n",
    "\n",
    "nngrad = torchConv.weight.grad.numpy().round(3).flatten()\n",
    "mygrad = myConv._dw.round(3).flatten()\n",
    "bads = np.where(abs(mygrad - nngrad) > 0.001)\n",
    "print(len(bads[0]))\n",
    "for pos in bads[0][:10]:\n",
    "    print(f\"[{pos}]: {mygrad[pos]:.3f} {nngrad[pos]:.3f}\")\n",
    "\n",
    "torchConv.weight.grad = torch.zeros_like(torchConv.weight.grad)\n",
    "\n",
    "nngrad = torchConv.bias.grad.numpy().round(3).flatten()\n",
    "mygrad = myConv._dbias.round(3).flatten()\n",
    "bads = np.where(abs(mygrad - nngrad) > 0.001)\n",
    "print(len(bads[0]))\n",
    "for pos in bads[0][:10]:\n",
    "    print(f\"[{pos}]: {mygrad[pos]:.3f} {nngrad[pos]:.3f}\")\n",
    "\n",
    "torchConv.bias.grad = torch.zeros_like(torchConv.bias.grad)"
   ]
  }
 ],
 "metadata": {
  "kernelspec": {
   "display_name": "AIenv",
   "language": "python",
   "name": "python3"
  },
  "language_info": {
   "codemirror_mode": {
    "name": "ipython",
    "version": 3
   },
   "file_extension": ".py",
   "mimetype": "text/x-python",
   "name": "python",
   "nbconvert_exporter": "python",
   "pygments_lexer": "ipython3",
   "version": "3.10.10"
  },
  "orig_nbformat": 4
 },
 "nbformat": 4,
 "nbformat_minor": 2
}
