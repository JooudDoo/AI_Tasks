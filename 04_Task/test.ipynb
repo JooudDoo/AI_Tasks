{
 "cells": [
  {
   "cell_type": "code",
   "execution_count": 1,
   "metadata": {},
   "outputs": [],
   "source": [
    "import torch.nn as nn\n",
    "import torch\n",
    "import MST\n",
    "import numpy as np"
   ]
  },
  {
   "cell_type": "code",
   "execution_count": 2,
   "metadata": {},
   "outputs": [],
   "source": [
    "np.random.seed(42)"
   ]
  },
  {
   "cell_type": "code",
   "execution_count": 3,
   "metadata": {},
   "outputs": [
    {
     "name": "stdout",
     "output_type": "stream",
     "text": [
      "16.0\n"
     ]
    }
   ],
   "source": [
    "in_C = 16\n",
    "out_C = 128\n",
    "stride = 1\n",
    "padding = 1\n",
    "dilation = 1\n",
    "kernel = 3\n",
    "\n",
    "params = [in_C, out_C, kernel, stride, padding, dilation]\n",
    "\n",
    "print(f\"{(16 - kernel + padding*2 - (kernel-1)*(dilation-1))/stride + 1}\")"
   ]
  },
  {
   "cell_type": "code",
   "execution_count": 4,
   "metadata": {},
   "outputs": [],
   "source": [
    "with torch.no_grad():\n",
    "    myConv = MST.Conv2d(*params)\n",
    "    torchConv = nn.Conv2d(*params)\n",
    "\n",
    "    torchConv.weight = nn.Parameter(torch.tensor(myConv._w))\n",
    "    torchConv.bias = nn.Parameter(torch.tensor(myConv._bias).flatten())\n"
   ]
  },
  {
   "cell_type": "code",
   "execution_count": 5,
   "metadata": {},
   "outputs": [],
   "source": [
    "image = np.ones((1, in_C, 16, 16))"
   ]
  },
  {
   "cell_type": "code",
   "execution_count": 12,
   "metadata": {},
   "outputs": [
    {
     "name": "stdout",
     "output_type": "stream",
     "text": [
      "(1, 128, 16, 16)\n",
      "torch.Size([1, 128, 16, 16])\n",
      "[-0.412 -0.521 -0.521 -0.521 -0.521 -0.521 -0.521 -0.521 -0.521 -0.521\n",
      " -0.521 -0.521 -0.521 -0.521 -0.521 -0.583 -1.004 -1.153 -1.153 -1.153]\n",
      "[-0.412 -0.521 -0.521 -0.521 -0.521 -0.521 -0.521 -0.521 -0.521 -0.521\n",
      " -0.521 -0.521 -0.521 -0.521 -0.521 -0.583 -1.004 -1.153 -1.153 -1.153]\n",
      "0\n"
     ]
    }
   ],
   "source": [
    "with torch.no_grad():\n",
    "    myres = myConv(image)\n",
    "    nnres = torchConv(torch.Tensor(image))\n",
    "    print(myres.shape)\n",
    "    print(nnres.shape)\n",
    "\n",
    "    nnres = nnres.numpy().round(3).flatten()\n",
    "    myres = myres.round(3).flatten()\n",
    "    bads = np.where(abs(nnres - myres) > 0.001)\n",
    "    print(myres[:20])\n",
    "    print(nnres[:20])\n",
    "    print(len(bads[0]))\n",
    "    for pos in bads[0][:10]:\n",
    "        print(f\"[{pos}]: {myres[pos]:.3f} {nnres[pos]:.3f}\")"
   ]
  },
  {
   "cell_type": "code",
   "execution_count": 14,
   "metadata": {},
   "outputs": [
    {
     "name": "stdout",
     "output_type": "stream",
     "text": [
      "2.11 ms ± 729 µs per loop (mean ± std. dev. of 7 runs, 100 loops each)\n"
     ]
    }
   ],
   "source": [
    "%%timeit\n",
    "myres = myConv(image)"
   ]
  },
  {
   "cell_type": "code",
   "execution_count": 15,
   "metadata": {},
   "outputs": [
    {
     "name": "stdout",
     "output_type": "stream",
     "text": [
      "130 µs ± 3.07 µs per loop (mean ± std. dev. of 7 runs, 10,000 loops each)\n"
     ]
    }
   ],
   "source": [
    "%%timeit\n",
    "nnres = torchConv(torch.Tensor(image))"
   ]
  },
  {
   "cell_type": "code",
   "execution_count": 1,
   "metadata": {},
   "outputs": [
    {
     "name": "stdout",
     "output_type": "stream",
     "text": [
      "16.0\n"
     ]
    }
   ],
   "source": [
    "\n",
    "import torch.nn as nn\n",
    "import torch\n",
    "import MST\n",
    "import numpy as np\n",
    "np.random.seed(42)\n",
    "in_C = 16\n",
    "out_C = 128\n",
    "stride = 1\n",
    "padding = 1\n",
    "dilation = 1\n",
    "kernel = 3\n",
    "\n",
    "params = [in_C, out_C, kernel, stride, padding, dilation]\n",
    "\n",
    "print(f\"{(16 - kernel + padding*2 - (kernel-1)*(dilation-1))/stride + 1}\")\n",
    "myConv = MST.Conv2d(*params)\n",
    "torchConv = nn.Conv2d(*params)\n",
    "\n",
    "torchConv.weight = nn.Parameter(torch.tensor(myConv._w))\n",
    "torchConv.bias = nn.Parameter(torch.tensor(myConv._bias).flatten())\n",
    "image = np.ones((1, in_C, 16, 16))"
   ]
  },
  {
   "cell_type": "code",
   "execution_count": 4,
   "metadata": {},
   "outputs": [
    {
     "name": "stdout",
     "output_type": "stream",
     "text": [
      "4095\n",
      "[0]: 3.557 -0.260\n",
      "[1]: 1.435 2.414\n",
      "[2]: -2.466 2.414\n",
      "[3]: -5.622 2.414\n",
      "[4]: -4.877 2.414\n",
      "[5]: 1.165 2.414\n",
      "[6]: 6.463 2.414\n",
      "[7]: 7.750 2.414\n",
      "[8]: 4.135 2.414\n",
      "[9]: 0.521 2.414\n",
      "18432\n",
      "[0]: 225.000 450.000\n",
      "[1]: 240.000 480.000\n",
      "[2]: 225.000 450.000\n",
      "[3]: 240.000 480.000\n",
      "[4]: 256.000 512.000\n",
      "[5]: 240.000 480.000\n",
      "[6]: 225.000 450.000\n",
      "[7]: 240.000 480.000\n",
      "[8]: 225.000 450.000\n",
      "[9]: 225.000 450.000\n",
      "128\n",
      "[0]: 256.000 512.000\n",
      "[1]: 256.000 512.000\n",
      "[2]: 256.000 512.000\n",
      "[3]: 256.000 512.000\n",
      "[4]: 256.000 512.000\n",
      "[5]: 256.000 512.000\n",
      "[6]: 256.000 512.000\n",
      "[7]: 256.000 512.000\n",
      "[8]: 256.000 512.000\n",
      "[9]: 256.000 512.000\n"
     ]
    }
   ],
   "source": [
    "torchImage = torch.ones((1, in_C, 16, 16), requires_grad=True)\n",
    "\n",
    "myConv(image).backward(np.ones((1, 128, 16, 16)))\n",
    "torchConv(torchImage).backward(torch.ones(1, 128, 16, 16))\n",
    "\n",
    "\n",
    "nngrad = torchImage.grad.numpy().round(3).flatten()\n",
    "mygrad = myConv._dinX.round(3).flatten()\n",
    "bads = np.where(abs(mygrad - nngrad) > 0.001)\n",
    "print(len(bads[0]))\n",
    "for pos in bads[0][:10]:\n",
    "    print(f\"[{pos}]: {mygrad[pos]:.3f} {nngrad[pos]:.3f}\")\n",
    "\n",
    "\n",
    "nngrad = torchConv.weight.grad.numpy().round(3).flatten()\n",
    "mygrad = myConv._dw.round(3).flatten()\n",
    "bads = np.where(abs(mygrad - nngrad) > 0.001)\n",
    "print(len(bads[0]))\n",
    "for pos in bads[0][:10]:\n",
    "    print(f\"[{pos}]: {mygrad[pos]:.3f} {nngrad[pos]:.3f}\")\n",
    "\n",
    "nngrad = torchConv.bias.grad.numpy().round(3).flatten()\n",
    "mygrad = myConv._dbias.round(3).flatten()\n",
    "bads = np.where(abs(mygrad - nngrad) > 0.001)\n",
    "print(len(bads[0]))\n",
    "for pos in bads[0][:10]:\n",
    "    print(f\"[{pos}]: {mygrad[pos]:.3f} {nngrad[pos]:.3f}\")"
   ]
  },
  {
   "cell_type": "code",
   "execution_count": 5,
   "metadata": {},
   "outputs": [
    {
     "name": "stdout",
     "output_type": "stream",
     "text": [
      "(1, 128, 16, 16)\n",
      "torch.Size([1, 128, 16, 16])\n",
      "[-0.412 -0.521 -0.521 -0.521 -0.521 -0.521 -0.521 -0.521 -0.521 -0.521\n",
      " -0.521 -0.521 -0.521 -0.521 -0.521 -0.583 -1.004 -1.153 -1.153 -1.153]\n",
      "[-0.412 -0.521 -0.521 -0.521 -0.521 -0.521 -0.521 -0.521 -0.521 -0.521\n",
      " -0.521 -0.521 -0.521 -0.521 -0.521 -0.583 -1.004 -1.153 -1.153 -1.153]\n",
      "0\n"
     ]
    }
   ],
   "source": [
    "with torch.no_grad():\n",
    "    myres = myConv(image)\n",
    "    nnres = torchConv(torch.Tensor(image))\n",
    "    print(myres.shape)\n",
    "    print(nnres.shape)\n",
    "\n",
    "    nnres = nnres.numpy().round(3).flatten()\n",
    "    myres = myres.round(3).flatten()\n",
    "    bads = np.where(abs(nnres - myres) > 0.001)\n",
    "    print(myres[:20])\n",
    "    print(nnres[:20])\n",
    "    print(len(bads[0]))\n",
    "    for pos in bads[0][:10]:\n",
    "        print(f\"[{pos}]: {myres[pos]:.3f} {nnres[pos]:.3f}\")"
   ]
  }
 ],
 "metadata": {
  "kernelspec": {
   "display_name": "AIenv",
   "language": "python",
   "name": "python3"
  },
  "language_info": {
   "codemirror_mode": {
    "name": "ipython",
    "version": 3
   },
   "file_extension": ".py",
   "mimetype": "text/x-python",
   "name": "python",
   "nbconvert_exporter": "python",
   "pygments_lexer": "ipython3",
   "version": "3.10.10"
  },
  "orig_nbformat": 4
 },
 "nbformat": 4,
 "nbformat_minor": 2
}
