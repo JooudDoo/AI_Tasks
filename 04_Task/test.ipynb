{
 "cells": [
  {
   "cell_type": "code",
   "execution_count": 4,
   "metadata": {},
   "outputs": [],
   "source": [
    "import torch.nn as nn\n",
    "import torch\n",
    "import MST\n",
    "import numpy as np"
   ]
  },
  {
   "cell_type": "code",
   "execution_count": 5,
   "metadata": {},
   "outputs": [],
   "source": [
    "np.random.seed(42)"
   ]
  },
  {
   "cell_type": "code",
   "execution_count": 6,
   "metadata": {},
   "outputs": [
    {
     "name": "stdout",
     "output_type": "stream",
     "text": [
      "16.0\n"
     ]
    }
   ],
   "source": [
    "in_C = 16\n",
    "out_C = 128\n",
    "stride = 1\n",
    "padding = 1\n",
    "dilation = 1\n",
    "kernel = 3\n",
    "\n",
    "params = [in_C, out_C, kernel, stride, padding, dilation]\n",
    "\n",
    "print(f\"{(16 - kernel + padding*2 - (kernel-1)*(dilation-1))/stride + 1}\")"
   ]
  },
  {
   "cell_type": "code",
   "execution_count": 7,
   "metadata": {},
   "outputs": [],
   "source": [
    "with torch.no_grad():\n",
    "    myConv = MST.Conv2d(*params)\n",
    "    torchConv = nn.Conv2d(*params)\n",
    "\n",
    "    torchConv.weight = nn.Parameter(torch.tensor(myConv._w))\n",
    "    torchConv.bias = nn.Parameter(torch.tensor(myConv._bias).flatten())\n"
   ]
  },
  {
   "cell_type": "code",
   "execution_count": 8,
   "metadata": {},
   "outputs": [],
   "source": [
    "image = np.ones((1, in_C, 16, 16))"
   ]
  },
  {
   "cell_type": "code",
   "execution_count": 9,
   "metadata": {},
   "outputs": [
    {
     "name": "stdout",
     "output_type": "stream",
     "text": [
      "(1, 128, 16, 16)\n",
      "torch.Size([1, 128, 16, 16])\n",
      "[-0.412 -0.521 -0.521 -0.521 -0.521 -0.521 -0.521 -0.521 -0.521 -0.521\n",
      " -0.521 -0.521 -0.521 -0.521 -0.521 -0.583 -1.004 -1.153 -1.153 -1.153]\n",
      "[-0.412 -0.521 -0.521 -0.521 -0.521 -0.521 -0.521 -0.521 -0.521 -0.521\n",
      " -0.521 -0.521 -0.521 -0.521 -0.521 -0.583 -1.004 -1.153 -1.153 -1.153]\n",
      "0\n"
     ]
    }
   ],
   "source": [
    "with torch.no_grad():\n",
    "    myres = myConv(image)\n",
    "    nnres = torchConv(torch.Tensor(image))\n",
    "    print(myres.shape)\n",
    "    print(nnres.shape)\n",
    "\n",
    "    nnres = nnres.numpy().round(3).flatten()\n",
    "    myres = myres.round(3).flatten()\n",
    "    bads = np.where(abs(nnres - myres) > 0.001)\n",
    "    print(myres[:20])\n",
    "    print(nnres[:20])\n",
    "    print(len(bads[0]))\n",
    "    for pos in bads[0][:10]:\n",
    "        print(f\"[{pos}]: {myres[pos]:.3f} {nnres[pos]:.3f}\")"
   ]
  },
  {
   "cell_type": "code",
   "execution_count": 10,
   "metadata": {},
   "outputs": [
    {
     "name": "stdout",
     "output_type": "stream",
     "text": [
      "1.41 ms ± 12.4 µs per loop (mean ± std. dev. of 7 runs, 1,000 loops each)\n"
     ]
    }
   ],
   "source": [
    "%%timeit\n",
    "myres = myConv(image)"
   ]
  },
  {
   "cell_type": "code",
   "execution_count": 11,
   "metadata": {},
   "outputs": [
    {
     "name": "stdout",
     "output_type": "stream",
     "text": [
      "115 µs ± 835 ns per loop (mean ± std. dev. of 7 runs, 10,000 loops each)\n"
     ]
    }
   ],
   "source": [
    "%%timeit\n",
    "nnres = torchConv(torch.Tensor(image))"
   ]
  },
  {
   "cell_type": "code",
   "execution_count": 12,
   "metadata": {},
   "outputs": [
    {
     "name": "stdout",
     "output_type": "stream",
     "text": [
      "18.0\n"
     ]
    }
   ],
   "source": [
    "\n",
    "import torch.nn as nn\n",
    "import torch\n",
    "import MST\n",
    "import numpy as np\n",
    "np.random.seed(42)\n",
    "in_C = 2\n",
    "out_C = 128\n",
    "stride = 2\n",
    "padding = 12\n",
    "dilation =1\n",
    "kernel = 6\n",
    "inH, InW = 32, 32\n",
    "outH, outW = inH//stride, InW//stride\n",
    "\n",
    "params = [in_C, out_C, kernel, stride, padding, dilation]\n",
    "\n",
    "print(f\"{(16 - kernel + padding*2 - (kernel-1)*(dilation-1))/stride + 1}\")\n",
    "myConv = MST.Conv2d(*params)\n",
    "torchConv = nn.Conv2d(*params)\n",
    "\n",
    "torchConv.weight = nn.Parameter(torch.tensor(myConv._w))\n",
    "torchConv.bias = nn.Parameter(torch.tensor(myConv._bias).flatten())\n",
    "image = np.ones((1, in_C, inH, InW))"
   ]
  },
  {
   "cell_type": "code",
   "execution_count": 13,
   "metadata": {},
   "outputs": [
    {
     "name": "stdout",
     "output_type": "stream",
     "text": [
      "0\n",
      "0\n",
      "0\n"
     ]
    }
   ],
   "source": [
    "torchImage = torch.ones((1, in_C, inH, InW), requires_grad=True)\n",
    "\n",
    "out_sample = myConv(image)\n",
    "\n",
    "myConv(image).backward(np.ones(out_sample.shape))\n",
    "torchConv(torchImage).backward(torch.ones(out_sample.shape))\n",
    "\n",
    "\n",
    "nngrad = torchImage.grad.numpy().round(3).flatten()\n",
    "mygrad = myConv._dinX.round(3).flatten()\n",
    "bads = np.where(abs(mygrad - nngrad) > 0.001)\n",
    "print(len(bads[0]))\n",
    "for pos in bads[0][:10]:\n",
    "    print(f\"[{pos}]: {mygrad[pos]:.3f} {nngrad[pos]:.3f}\")\n",
    "\n",
    "\n",
    "nngrad = torchConv.weight.grad.numpy().round(3).flatten()\n",
    "mygrad = myConv._dw.round(3).flatten()\n",
    "bads = np.where(abs(mygrad - nngrad) > 0.001)\n",
    "print(len(bads[0]))\n",
    "for pos in bads[0][:10]:\n",
    "    print(f\"[{pos}]: {mygrad[pos]:.3f} {nngrad[pos]:.3f}\")\n",
    "\n",
    "torchConv.weight.grad = torch.zeros_like(torchConv.weight.grad)\n",
    "\n",
    "nngrad = torchConv.bias.grad.numpy().round(3).flatten()\n",
    "mygrad = myConv._dbias.round(3).flatten()\n",
    "bads = np.where(abs(mygrad - nngrad) > 0.001)\n",
    "print(len(bads[0]))\n",
    "for pos in bads[0][:10]:\n",
    "    print(f\"[{pos}]: {mygrad[pos]:.3f} {nngrad[pos]:.3f}\")\n",
    "\n",
    "torchConv.bias.grad = torch.zeros_like(torchConv.bias.grad)"
   ]
  },
  {
   "cell_type": "code",
   "execution_count": 14,
   "metadata": {},
   "outputs": [
    {
     "name": "stdout",
     "output_type": "stream",
     "text": [
      "(1, 128, 26, 26)\n",
      "torch.Size([1, 128, 26, 26])\n",
      "[0.151 0.151 0.151 0.151 0.151 0.151 0.151 0.151 0.151 0.151 0.151 0.151\n",
      " 0.151 0.151 0.151 0.151 0.151 0.151 0.151 0.151]\n",
      "[0.151 0.151 0.151 0.151 0.151 0.151 0.151 0.151 0.151 0.151 0.151 0.151\n",
      " 0.151 0.151 0.151 0.151 0.151 0.151 0.151 0.151]\n",
      "0\n"
     ]
    }
   ],
   "source": [
    "with torch.no_grad():\n",
    "    myres = myConv(image)\n",
    "    nnres = torchConv(torch.Tensor(image))\n",
    "    print(myres.shape)\n",
    "    print(nnres.shape)\n",
    "\n",
    "    nnres = nnres.numpy().round(3).flatten()\n",
    "    myres = myres.round(3).flatten()\n",
    "    bads = np.where(abs(nnres - myres) > 0.001)\n",
    "    print(myres[:20])\n",
    "    print(nnres[:20])\n",
    "    print(len(bads[0]))\n",
    "    for pos in bads[0][:10]:\n",
    "        print(f\"[{pos}]: {myres[pos]:.3f} {nnres[pos]:.3f}\")"
   ]
  }
 ],
 "metadata": {
  "kernelspec": {
   "display_name": "AIenv",
   "language": "python",
   "name": "python3"
  },
  "language_info": {
   "codemirror_mode": {
    "name": "ipython",
    "version": 3
   },
   "file_extension": ".py",
   "mimetype": "text/x-python",
   "name": "python",
   "nbconvert_exporter": "python",
   "pygments_lexer": "ipython3",
   "version": "3.10.10"
  },
  "orig_nbformat": 4
 },
 "nbformat": 4,
 "nbformat_minor": 2
}
